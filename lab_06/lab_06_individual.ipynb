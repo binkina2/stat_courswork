{
 "cells": [
  {
   "cell_type": "markdown",
   "metadata": {},
   "source": [
    "# STAT 207 Lab 6 - Individual Part - [25 total points]\n",
    "\n",
    "## <u>Case Study</u>: U.S. County Unemployment Rate Analysis\n",
    "\n",
    "Due: Tuesday, October 4, 11:59pm CST\n",
    "\n",
    "In this analysis, we will learn more about the **unemployment rates** of U.S. counties in our **county.csv** file. One of our research goals for this analysis will be to create a **confidence interval** for the **average unemployment rate** of **all U.S. counties**.\n",
    "\n",
    "For the purpose of learning more about the nature of confidence intervals and how they work, this analysis will be atypical from most case studies in which we would want to calculate a confidence interval of a population parameter. What is atypical about this case study is that ***we will assume to have the population data** (ie. all U.S. counties in this case).*\n",
    "\n",
    "Typically, the main purpose of creating a confidence interval is to create plausible range of values for some **population parameter that we do not know**. However, in the case of this assignment, we will *actually know* our **population mean**, so we can \"check our answers\" and develop our understanding of how confidence intervals work.\n",
    "\n",
    "<p>&nbsp;</p>\n",
    "<table style=\"border: none;border-collapse: collapse;width:102pt;\">\n",
    "    <tbody>\n",
    "        <tr>\n",
    "            <td style=\"color:black;font-size:15px;font-weight:700;font-style:normal;text-decoration:none;font-family:Calibri, sans-serif;text-align:right;vertical-align:bottom;border:.5pt solid windowtext;height:14.25pt;width:51pt;\">Problem</td>\n",
    "            <td style=\"color:black;font-size:15px;font-weight:700;font-style:normal;text-decoration:none;font-family:Calibri, sans-serif;text-align:right;vertical-align:bottom;border:.5pt solid windowtext;border-left:none;width:51pt;\">Points</td>\n",
    "        </tr>\n",
    "        <tr>\n",
    "            <td style=\"color:black;font-size:15px;font-weight:400;font-style:normal;text-decoration:none;font-family:Calibri, sans-serif;text-align:right;vertical-align:bottom;border:.5pt solid windowtext;height:14.25pt;border-top:none;\">1.1</td>\n",
    "            <td style=\"color:black;font-size:15px;font-weight:400;font-style:normal;text-decoration:none;font-family:Calibri, sans-serif;text-align:right;vertical-align:bottom;border:.5pt solid windowtext;border-top:none;border-left:none;\">0.5</td>\n",
    "        </tr>\n",
    "        <tr>\n",
    "            <td style=\"color:black;font-size:15px;font-weight:400;font-style:normal;text-decoration:none;font-family:Calibri, sans-serif;text-align:right;vertical-align:bottom;border:.5pt solid windowtext;height:14.25pt;border-top:none;\">1.2</td>\n",
    "            <td style=\"color:black;font-size:15px;font-weight:400;font-style:normal;text-decoration:none;font-family:Calibri, sans-serif;text-align:right;vertical-align:bottom;border:.5pt solid windowtext;border-top:none;border-left:none;\">0.5</td>\n",
    "        </tr>\n",
    "        <tr>\n",
    "            <td style=\"color:black;font-size:15px;font-weight:400;font-style:normal;text-decoration:none;font-family:Calibri, sans-serif;text-align:right;vertical-align:bottom;border:.5pt solid windowtext;height:14.25pt;border-top:none;\">2.1</td>\n",
    "            <td style=\"color:black;font-size:15px;font-weight:400;font-style:normal;text-decoration:none;font-family:Calibri, sans-serif;text-align:right;vertical-align:bottom;border:.5pt solid windowtext;border-top:none;border-left:none;\">0.5</td>\n",
    "        </tr>\n",
    "        <tr>\n",
    "            <td style=\"color:black;font-size:15px;font-weight:400;font-style:normal;text-decoration:none;font-family:Calibri, sans-serif;text-align:right;vertical-align:bottom;border:.5pt solid windowtext;height:14.25pt;border-top:none;\">2.2</td>\n",
    "            <td style=\"color:black;font-size:15px;font-weight:400;font-style:normal;text-decoration:none;font-family:Calibri, sans-serif;text-align:right;vertical-align:bottom;border:.5pt solid windowtext;border-top:none;border-left:none;\">0.5</td>\n",
    "        </tr>\n",
    "        <tr>\n",
    "            <td style=\"color:black;font-size:15px;font-weight:400;font-style:normal;text-decoration:none;font-family:Calibri, sans-serif;text-align:right;vertical-align:bottom;border:.5pt solid windowtext;height:14.25pt;border-top:none;\">3.1</td>\n",
    "            <td style=\"color:black;font-size:15px;font-weight:400;font-style:normal;text-decoration:none;font-family:Calibri, sans-serif;text-align:right;vertical-align:bottom;border:.5pt solid windowtext;border-top:none;border-left:none;\">0.75</td>\n",
    "        </tr>\n",
    "        <tr>\n",
    "            <td style=\"color:black;font-size:15px;font-weight:400;font-style:normal;text-decoration:none;font-family:Calibri, sans-serif;text-align:right;vertical-align:bottom;border:.5pt solid windowtext;height:14.25pt;border-top:none;\">3.2</td>\n",
    "            <td style=\"color:black;font-size:15px;font-weight:400;font-style:normal;text-decoration:none;font-family:Calibri, sans-serif;text-align:right;vertical-align:bottom;border:.5pt solid windowtext;border-top:none;border-left:none;\">0.5</td>\n",
    "        </tr>\n",
    "        <tr>\n",
    "            <td style=\"color:black;font-size:15px;font-weight:400;font-style:normal;text-decoration:none;font-family:Calibri, sans-serif;text-align:right;vertical-align:bottom;border:.5pt solid windowtext;height:14.25pt;border-top:none;\">3.3</td>\n",
    "            <td style=\"color:black;font-size:15px;font-weight:400;font-style:normal;text-decoration:none;font-family:Calibri, sans-serif;text-align:right;vertical-align:bottom;border:.5pt solid windowtext;border-top:none;border-left:none;\">0.5</td>\n",
    "        </tr>\n",
    "        <tr>\n",
    "            <td style=\"color:black;font-size:15px;font-weight:400;font-style:normal;text-decoration:none;font-family:Calibri, sans-serif;text-align:right;vertical-align:bottom;border:.5pt solid windowtext;height:14.25pt;border-top:none;\">4.1</td>\n",
    "            <td style=\"color:black;font-size:15px;font-weight:400;font-style:normal;text-decoration:none;font-family:Calibri, sans-serif;text-align:right;vertical-align:bottom;border:.5pt solid windowtext;border-top:none;border-left:none;\">1</td>\n",
    "        </tr>\n",
    "        <tr>\n",
    "            <td style=\"color:black;font-size:15px;font-weight:400;font-style:normal;text-decoration:none;font-family:Calibri, sans-serif;text-align:right;vertical-align:bottom;border:.5pt solid windowtext;height:14.25pt;border-top:none;\">4.2</td>\n",
    "            <td style=\"color:black;font-size:15px;font-weight:400;font-style:normal;text-decoration:none;font-family:Calibri, sans-serif;text-align:right;vertical-align:bottom;border:.5pt solid windowtext;border-top:none;border-left:none;\">1</td>\n",
    "        </tr>\n",
    "        <tr>\n",
    "            <td style=\"color:black;font-size:15px;font-weight:400;font-style:normal;text-decoration:none;font-family:Calibri, sans-serif;text-align:right;vertical-align:bottom;border:.5pt solid windowtext;height:14.25pt;border-top:none;\">4.3</td>\n",
    "            <td style=\"color:black;font-size:15px;font-weight:400;font-style:normal;text-decoration:none;font-family:Calibri, sans-serif;text-align:right;vertical-align:bottom;border:.5pt solid windowtext;border-top:none;border-left:none;\">1.5</td>\n",
    "        </tr>\n",
    "        <tr>\n",
    "            <td style=\"color:black;font-size:15px;font-weight:400;font-style:normal;text-decoration:none;font-family:Calibri, sans-serif;text-align:right;vertical-align:bottom;border:.5pt solid windowtext;height:14.25pt;border-top:none;\">4.4</td>\n",
    "            <td style=\"color:black;font-size:15px;font-weight:400;font-style:normal;text-decoration:none;font-family:Calibri, sans-serif;text-align:right;vertical-align:bottom;border:.5pt solid windowtext;border-top:none;border-left:none;\">1.5</td>\n",
    "        </tr>\n",
    "        <tr>\n",
    "            <td style=\"color:black;font-size:15px;font-weight:400;font-style:normal;text-decoration:none;font-family:Calibri, sans-serif;text-align:right;vertical-align:bottom;border:.5pt solid windowtext;height:14.25pt;border-top:none;\">4.5</td>\n",
    "            <td style=\"color:black;font-size:15px;font-weight:400;font-style:normal;text-decoration:none;font-family:Calibri, sans-serif;text-align:right;vertical-align:bottom;border:.5pt solid windowtext;border-top:none;border-left:none;\">0.5</td>\n",
    "        </tr>\n",
    "        <tr>\n",
    "            <td style=\"color:black;font-size:15px;font-weight:400;font-style:normal;text-decoration:none;font-family:Calibri, sans-serif;text-align:right;vertical-align:bottom;border:.5pt solid windowtext;height:14.25pt;border-top:none;\">4.6</td>\n",
    "            <td style=\"color:black;font-size:15px;font-weight:400;font-style:normal;text-decoration:none;font-family:Calibri, sans-serif;text-align:right;vertical-align:bottom;border:.5pt solid windowtext;border-top:none;border-left:none;\">1.5</td>\n",
    "        </tr>\n",
    "        <tr>\n",
    "            <td style=\"color:black;font-size:15px;font-weight:400;font-style:normal;text-decoration:none;font-family:Calibri, sans-serif;text-align:right;vertical-align:bottom;border:.5pt solid windowtext;height:14.25pt;border-top:none;\">5.1</td>\n",
    "            <td style=\"color:black;font-size:15px;font-weight:400;font-style:normal;text-decoration:none;font-family:Calibri, sans-serif;text-align:right;vertical-align:bottom;border:.5pt solid windowtext;border-top:none;border-left:none;\">2</td>\n",
    "        </tr>\n",
    "        <tr>\n",
    "            <td style=\"color:black;font-size:15px;font-weight:400;font-style:normal;text-decoration:none;font-family:Calibri, sans-serif;text-align:right;vertical-align:bottom;border:.5pt solid windowtext;height:14.25pt;border-top:none;\">5.2</td>\n",
    "            <td style=\"color:black;font-size:15px;font-weight:400;font-style:normal;text-decoration:none;font-family:Calibri, sans-serif;text-align:right;vertical-align:bottom;border:.5pt solid windowtext;border-top:none;border-left:none;\">0.75</td>\n",
    "        </tr>\n",
    "        <tr>\n",
    "            <td style=\"color:black;font-size:15px;font-weight:400;font-style:normal;text-decoration:none;font-family:Calibri, sans-serif;text-align:right;vertical-align:bottom;border:.5pt solid windowtext;height:14.25pt;border-top:none;\">5.3</td>\n",
    "            <td style=\"color:black;font-size:15px;font-weight:400;font-style:normal;text-decoration:none;font-family:Calibri, sans-serif;text-align:right;vertical-align:bottom;border:.5pt solid windowtext;border-top:none;border-left:none;\">0.5</td>\n",
    "        </tr>\n",
    "        <tr>\n",
    "            <td style=\"color:black;font-size:15px;font-weight:400;font-style:normal;text-decoration:none;font-family:Calibri, sans-serif;text-align:right;vertical-align:bottom;border:.5pt solid windowtext;height:14.25pt;border-top:none;\">5.4</td>\n",
    "            <td style=\"color:black;font-size:15px;font-weight:400;font-style:normal;text-decoration:none;font-family:Calibri, sans-serif;text-align:right;vertical-align:bottom;border:.5pt solid windowtext;border-top:none;border-left:none;\">0.5</td>\n",
    "        </tr>\n",
    "        <tr>\n",
    "            <td style=\"color:black;font-size:15px;font-weight:400;font-style:normal;text-decoration:none;font-family:Calibri, sans-serif;text-align:right;vertical-align:bottom;border:.5pt solid windowtext;height:14.25pt;border-top:none;\">5.5</td>\n",
    "            <td style=\"color:black;font-size:15px;font-weight:400;font-style:normal;text-decoration:none;font-family:Calibri, sans-serif;text-align:right;vertical-align:bottom;border:.5pt solid windowtext;border-top:none;border-left:none;\">0.5</td>\n",
    "        </tr>\n",
    "        <tr>\n",
    "            <td style=\"color:black;font-size:15px;font-weight:400;font-style:normal;text-decoration:none;font-family:Calibri, sans-serif;text-align:right;vertical-align:bottom;border:.5pt solid windowtext;height:14.25pt;border-top:none;\">6.1</td>\n",
    "            <td style=\"color:black;font-size:15px;font-weight:400;font-style:normal;text-decoration:none;font-family:Calibri, sans-serif;text-align:right;vertical-align:bottom;border:.5pt solid windowtext;border-top:none;border-left:none;\">1.5</td>\n",
    "        </tr>\n",
    "        <tr>\n",
    "            <td style=\"color:black;font-size:15px;font-weight:400;font-style:normal;text-decoration:none;font-family:Calibri, sans-serif;text-align:right;vertical-align:bottom;border:.5pt solid windowtext;height:14.25pt;border-top:none;\">6.2</td>\n",
    "            <td style=\"color:black;font-size:15px;font-weight:400;font-style:normal;text-decoration:none;font-family:Calibri, sans-serif;text-align:right;vertical-align:bottom;border:.5pt solid windowtext;border-top:none;border-left:none;\">2.5</td>\n",
    "        </tr>\n",
    "        <tr>\n",
    "            <td style=\"color:black;font-size:15px;font-weight:400;font-style:normal;text-decoration:none;font-family:Calibri, sans-serif;text-align:right;vertical-align:bottom;border:.5pt solid windowtext;height:14.25pt;border-top:none;\">6.3</td>\n",
    "            <td style=\"color:black;font-size:15px;font-weight:400;font-style:normal;text-decoration:none;font-family:Calibri, sans-serif;text-align:right;vertical-align:bottom;border:.5pt solid windowtext;border-top:none;border-left:none;\">1</td>\n",
    "        </tr>\n",
    "        <tr>\n",
    "            <td style=\"color:black;font-size:15px;font-weight:400;font-style:normal;text-decoration:none;font-family:Calibri, sans-serif;text-align:right;vertical-align:bottom;border:.5pt solid windowtext;height:14.25pt;border-top:none;\">6.4</td>\n",
    "            <td style=\"color:black;font-size:15px;font-weight:400;font-style:normal;text-decoration:none;font-family:Calibri, sans-serif;text-align:right;vertical-align:bottom;border:.5pt solid windowtext;border-top:none;border-left:none;\">0.25</td>\n",
    "        </tr>\n",
    "        <tr>\n",
    "            <td style=\"color:black;font-size:15px;font-weight:400;font-style:normal;text-decoration:none;font-family:Calibri, sans-serif;text-align:right;vertical-align:bottom;border:.5pt solid windowtext;height:14.25pt;border-top:none;\">6.5</td>\n",
    "            <td style=\"color:black;font-size:15px;font-weight:400;font-style:normal;text-decoration:none;font-family:Calibri, sans-serif;text-align:right;vertical-align:bottom;border:.5pt solid windowtext;border-top:none;border-left:none;\">0.75</td>\n",
    "        </tr>\n",
    "        <tr>\n",
    "            <td style=\"color:black;font-size:15px;font-weight:400;font-style:normal;text-decoration:none;font-family:Calibri, sans-serif;text-align:right;vertical-align:bottom;border:.5pt solid windowtext;height:14.25pt;border-top:none;\">7.1</td>\n",
    "            <td style=\"color:black;font-size:15px;font-weight:400;font-style:normal;text-decoration:none;font-family:Calibri, sans-serif;text-align:right;vertical-align:bottom;border:.5pt solid windowtext;border-top:none;border-left:none;\">1</td>\n",
    "        </tr>\n",
    "        <tr>\n",
    "            <td style=\"color:black;font-size:15px;font-weight:400;font-style:normal;text-decoration:none;font-family:Calibri, sans-serif;text-align:right;vertical-align:bottom;border:.5pt solid windowtext;height:14.25pt;border-top:none;\">7.2</td>\n",
    "            <td style=\"color:black;font-size:15px;font-weight:400;font-style:normal;text-decoration:none;font-family:Calibri, sans-serif;text-align:right;vertical-align:bottom;border:.5pt solid windowtext;border-top:none;border-left:none;\">0.75</td>\n",
    "        </tr>\n",
    "        <tr>\n",
    "            <td style=\"color:black;font-size:15px;font-weight:400;font-style:normal;text-decoration:none;font-family:Calibri, sans-serif;text-align:right;vertical-align:bottom;border:.5pt solid windowtext;height:14.25pt;border-top:none;\">7.3</td>\n",
    "            <td style=\"color:black;font-size:15px;font-weight:400;font-style:normal;text-decoration:none;font-family:Calibri, sans-serif;text-align:right;vertical-align:bottom;border:.5pt solid windowtext;border-top:none;border-left:none;\">2</td>\n",
    "        </tr>\n",
    "        <tr>\n",
    "            <td style=\"color:black;font-size:15px;font-weight:400;font-style:normal;text-decoration:none;font-family:Calibri, sans-serif;text-align:right;vertical-align:bottom;border:.5pt solid windowtext;height:14.25pt;border-top:none;\">7.4</td>\n",
    "            <td style=\"color:black;font-size:15px;font-weight:400;font-style:normal;text-decoration:none;font-family:Calibri, sans-serif;text-align:right;vertical-align:bottom;border:.5pt solid windowtext;border-top:none;border-left:none;\">0.25</td>\n",
    "        </tr>\n",
    "    </tbody>\n",
    "</table>"
   ]
  },
  {
   "cell_type": "markdown",
   "metadata": {},
   "source": [
    "### Imports"
   ]
  },
  {
   "cell_type": "code",
   "execution_count": 2,
   "metadata": {},
   "outputs": [],
   "source": [
    "import pandas as pd\n",
    "import numpy as np\n",
    "import matplotlib.pyplot as plt\n",
    "\n",
    "from scipy.stats import bernoulli\n",
    "from scipy.stats import binom\n",
    "from scipy.stats import norm\n",
    "from scipy import stats\n",
    "\n",
    "import math"
   ]
  },
  {
   "cell_type": "markdown",
   "metadata": {},
   "source": [
    "### 1. Population Data Processing and Cleaning\n",
    "\n",
    "#### 1.1. Read in the CSV File - Encoding Missing Values as NaN\n",
    "\n",
    "Read the county.csv file into a dataframe. This **csv file has missing values**! Specifically, the phrase **'data unavailable'** represents missing values in this csv. Make sure that these missing values are automatically encoded to NaN values when you read the data in.\n",
    "\n"
   ]
  },
  {
   "cell_type": "code",
   "execution_count": 3,
   "metadata": {},
   "outputs": [
    {
     "data": {
      "text/html": [
       "<div>\n",
       "<style scoped>\n",
       "    .dataframe tbody tr th:only-of-type {\n",
       "        vertical-align: middle;\n",
       "    }\n",
       "\n",
       "    .dataframe tbody tr th {\n",
       "        vertical-align: top;\n",
       "    }\n",
       "\n",
       "    .dataframe thead th {\n",
       "        text-align: right;\n",
       "    }\n",
       "</style>\n",
       "<table border=\"1\" class=\"dataframe\">\n",
       "  <thead>\n",
       "    <tr style=\"text-align: right;\">\n",
       "      <th></th>\n",
       "      <th>name</th>\n",
       "      <th>state</th>\n",
       "      <th>pop2000</th>\n",
       "      <th>pop2010</th>\n",
       "      <th>pop2017</th>\n",
       "      <th>pop_change</th>\n",
       "      <th>poverty</th>\n",
       "      <th>homeownership</th>\n",
       "      <th>multi_unit</th>\n",
       "      <th>unemployment_rate</th>\n",
       "      <th>metro</th>\n",
       "      <th>median_edu</th>\n",
       "      <th>per_capita_income</th>\n",
       "      <th>median_hh_income</th>\n",
       "      <th>smoking_ban</th>\n",
       "    </tr>\n",
       "  </thead>\n",
       "  <tbody>\n",
       "    <tr>\n",
       "      <th>0</th>\n",
       "      <td>Autauga County</td>\n",
       "      <td>Alabama</td>\n",
       "      <td>43671.0</td>\n",
       "      <td>54571</td>\n",
       "      <td>55504.0</td>\n",
       "      <td>1.48</td>\n",
       "      <td>13.7</td>\n",
       "      <td>77.5</td>\n",
       "      <td>7.2</td>\n",
       "      <td>3.86</td>\n",
       "      <td>yes</td>\n",
       "      <td>some_college</td>\n",
       "      <td>27841.70</td>\n",
       "      <td>55317.0</td>\n",
       "      <td>none</td>\n",
       "    </tr>\n",
       "    <tr>\n",
       "      <th>1</th>\n",
       "      <td>Baldwin County</td>\n",
       "      <td>Alabama</td>\n",
       "      <td>140415.0</td>\n",
       "      <td>182265</td>\n",
       "      <td>212628.0</td>\n",
       "      <td>9.19</td>\n",
       "      <td>11.8</td>\n",
       "      <td>76.7</td>\n",
       "      <td>22.6</td>\n",
       "      <td>3.99</td>\n",
       "      <td>yes</td>\n",
       "      <td>some_college</td>\n",
       "      <td>27779.85</td>\n",
       "      <td>52562.0</td>\n",
       "      <td>none</td>\n",
       "    </tr>\n",
       "    <tr>\n",
       "      <th>2</th>\n",
       "      <td>Barbour County</td>\n",
       "      <td>Alabama</td>\n",
       "      <td>29038.0</td>\n",
       "      <td>27457</td>\n",
       "      <td>25270.0</td>\n",
       "      <td>-6.22</td>\n",
       "      <td>27.2</td>\n",
       "      <td>68.0</td>\n",
       "      <td>11.1</td>\n",
       "      <td>5.90</td>\n",
       "      <td>no</td>\n",
       "      <td>hs_diploma</td>\n",
       "      <td>17891.73</td>\n",
       "      <td>33368.0</td>\n",
       "      <td>partial</td>\n",
       "    </tr>\n",
       "    <tr>\n",
       "      <th>3</th>\n",
       "      <td>Bibb County</td>\n",
       "      <td>Alabama</td>\n",
       "      <td>20826.0</td>\n",
       "      <td>22915</td>\n",
       "      <td>22668.0</td>\n",
       "      <td>0.73</td>\n",
       "      <td>15.2</td>\n",
       "      <td>82.9</td>\n",
       "      <td>6.6</td>\n",
       "      <td>4.39</td>\n",
       "      <td>yes</td>\n",
       "      <td>hs_diploma</td>\n",
       "      <td>20572.05</td>\n",
       "      <td>43404.0</td>\n",
       "      <td>none</td>\n",
       "    </tr>\n",
       "    <tr>\n",
       "      <th>4</th>\n",
       "      <td>Blount County</td>\n",
       "      <td>Alabama</td>\n",
       "      <td>51024.0</td>\n",
       "      <td>57322</td>\n",
       "      <td>58013.0</td>\n",
       "      <td>0.68</td>\n",
       "      <td>15.6</td>\n",
       "      <td>82.0</td>\n",
       "      <td>3.7</td>\n",
       "      <td>4.02</td>\n",
       "      <td>yes</td>\n",
       "      <td>hs_diploma</td>\n",
       "      <td>21367.39</td>\n",
       "      <td>47412.0</td>\n",
       "      <td>none</td>\n",
       "    </tr>\n",
       "  </tbody>\n",
       "</table>\n",
       "</div>"
      ],
      "text/plain": [
       "             name    state   pop2000  pop2010   pop2017  pop_change  poverty  \\\n",
       "0  Autauga County  Alabama   43671.0    54571   55504.0        1.48     13.7   \n",
       "1  Baldwin County  Alabama  140415.0   182265  212628.0        9.19     11.8   \n",
       "2  Barbour County  Alabama   29038.0    27457   25270.0       -6.22     27.2   \n",
       "3     Bibb County  Alabama   20826.0    22915   22668.0        0.73     15.2   \n",
       "4   Blount County  Alabama   51024.0    57322   58013.0        0.68     15.6   \n",
       "\n",
       "   homeownership  multi_unit  unemployment_rate metro    median_edu  \\\n",
       "0           77.5         7.2               3.86   yes  some_college   \n",
       "1           76.7        22.6               3.99   yes  some_college   \n",
       "2           68.0        11.1               5.90    no    hs_diploma   \n",
       "3           82.9         6.6               4.39   yes    hs_diploma   \n",
       "4           82.0         3.7               4.02   yes    hs_diploma   \n",
       "\n",
       "   per_capita_income  median_hh_income smoking_ban  \n",
       "0           27841.70           55317.0        none  \n",
       "1           27779.85           52562.0        none  \n",
       "2           17891.73           33368.0     partial  \n",
       "3           20572.05           43404.0        none  \n",
       "4           21367.39           47412.0        none  "
      ]
     },
     "execution_count": 3,
     "metadata": {},
     "output_type": "execute_result"
    }
   ],
   "source": [
    "df = pd.read_csv((\"county.csv\"), na_values = ['data unavailable'])\n",
    "df.head()"
   ]
  },
  {
   "cell_type": "markdown",
   "metadata": {},
   "source": [
    "#### 1.2. Dropping Missing Values\n",
    "\n",
    "Create a pandas dataframe that is comprised of just the **name**, **state**, and **unemployment_rate** columns. THEN drop all rows in this dataframe that have missing values.\n",
    "\n",
    "**From this point forward, you should consider this dataframe with the dropped values to be your population**.\n"
   ]
  },
  {
   "cell_type": "code",
   "execution_count": 4,
   "metadata": {},
   "outputs": [
    {
     "data": {
      "text/html": [
       "<div>\n",
       "<style scoped>\n",
       "    .dataframe tbody tr th:only-of-type {\n",
       "        vertical-align: middle;\n",
       "    }\n",
       "\n",
       "    .dataframe tbody tr th {\n",
       "        vertical-align: top;\n",
       "    }\n",
       "\n",
       "    .dataframe thead th {\n",
       "        text-align: right;\n",
       "    }\n",
       "</style>\n",
       "<table border=\"1\" class=\"dataframe\">\n",
       "  <thead>\n",
       "    <tr style=\"text-align: right;\">\n",
       "      <th></th>\n",
       "      <th>name</th>\n",
       "      <th>state</th>\n",
       "      <th>unemployment_rate</th>\n",
       "    </tr>\n",
       "  </thead>\n",
       "  <tbody>\n",
       "    <tr>\n",
       "      <th>0</th>\n",
       "      <td>Autauga County</td>\n",
       "      <td>Alabama</td>\n",
       "      <td>3.86</td>\n",
       "    </tr>\n",
       "    <tr>\n",
       "      <th>1</th>\n",
       "      <td>Baldwin County</td>\n",
       "      <td>Alabama</td>\n",
       "      <td>3.99</td>\n",
       "    </tr>\n",
       "    <tr>\n",
       "      <th>2</th>\n",
       "      <td>Barbour County</td>\n",
       "      <td>Alabama</td>\n",
       "      <td>5.90</td>\n",
       "    </tr>\n",
       "    <tr>\n",
       "      <th>3</th>\n",
       "      <td>Bibb County</td>\n",
       "      <td>Alabama</td>\n",
       "      <td>4.39</td>\n",
       "    </tr>\n",
       "    <tr>\n",
       "      <th>4</th>\n",
       "      <td>Blount County</td>\n",
       "      <td>Alabama</td>\n",
       "      <td>4.02</td>\n",
       "    </tr>\n",
       "  </tbody>\n",
       "</table>\n",
       "</div>"
      ],
      "text/plain": [
       "             name    state  unemployment_rate\n",
       "0  Autauga County  Alabama               3.86\n",
       "1  Baldwin County  Alabama               3.99\n",
       "2  Barbour County  Alabama               5.90\n",
       "3     Bibb County  Alabama               4.39\n",
       "4   Blount County  Alabama               4.02"
      ]
     },
     "execution_count": 4,
     "metadata": {},
     "output_type": "execute_result"
    }
   ],
   "source": [
    "df = df[['name', 'state', 'unemployment_rate']].dropna()\n",
    "df.head()"
   ]
  },
  {
   "cell_type": "code",
   "execution_count": 5,
   "metadata": {},
   "outputs": [
    {
     "data": {
      "text/plain": [
       "3139"
      ]
     },
     "execution_count": 5,
     "metadata": {},
     "output_type": "execute_result"
    }
   ],
   "source": [
    "len(df)"
   ]
  },
  {
   "cell_type": "markdown",
   "metadata": {},
   "source": [
    "### 2. Exploring the Population of Unemployment Rates\n",
    "\n",
    "Let's assume that this cleaned dataframe from 1 represents the **population** of all U.S. counties.\n",
    "\n",
    "#### 2.1. Population Mean and Standard Deviation\n",
    "\n",
    "Calculate the population mean and the population standard deviation unemployment rates."
   ]
  },
  {
   "cell_type": "code",
   "execution_count": 6,
   "metadata": {},
   "outputs": [
    {
     "data": {
      "text/plain": [
       "4.611443134756305"
      ]
     },
     "execution_count": 6,
     "metadata": {},
     "output_type": "execute_result"
    }
   ],
   "source": [
    "pop_mean = df['unemployment_rate'].mean()\n",
    "pop_mean"
   ]
  },
  {
   "cell_type": "code",
   "execution_count": 8,
   "metadata": {},
   "outputs": [
    {
     "data": {
      "text/plain": [
       "1.6487610856225392"
      ]
     },
     "execution_count": 8,
     "metadata": {},
     "output_type": "execute_result"
    }
   ],
   "source": [
    "pop_std = df['unemployment_rate'].std()\n",
    "pop_std"
   ]
  },
  {
   "cell_type": "markdown",
   "metadata": {},
   "source": [
    "#### 2.2. Population Distribution   \n",
    "\n",
    "Plot the population distribution of unemployment rates in a histogram. Make sure you give an appropriate title and x- and y-axis labels."
   ]
  },
  {
   "cell_type": "code",
   "execution_count": 9,
   "metadata": {},
   "outputs": [
    {
     "data": {
      "image/png": "[encoded data removed]",
      "text/plain": [
       "<Figure size 432x288 with 1 Axes>"
      ]
     },
     "metadata": {
      "needs_background": "light"
     },
     "output_type": "display_data"
    }
   ],
   "source": [
    "df['unemployment_rate'].hist()\n",
    "plt.title('County Unemployment Rates')\n",
    "plt.xlabel('Unemployment Rate')\n",
    "plt.ylabel('Frequency')\n",
    "plt.show()"
   ]
  },
  {
   "cell_type": "markdown",
   "metadata": {},
   "source": [
    "### 3. Random Sample of County Unemployment Rates\n",
    "\n",
    "#### 3.1. Collecting a random sample\n",
    "\n",
    "Collect a random sample of 50 counties from the population (using a random state of 100) WITHOUT replacement."
   ]
  },
  {
   "cell_type": "code",
   "execution_count": 40,
   "metadata": {},
   "outputs": [],
   "source": [
    "def create_random_sample(df, x = '', M = 1,random_state = 100):\n",
    "    sample_list = []\n",
    "    \n",
    "    for i in range(M):\n",
    "        rand_sample = df[x].sample(1, replace=False)\n",
    "        \n",
    "        rand_sample_mean = rand_sample.mean()\n",
    "        \n",
    "        sample_list.append(rand_sample_mean)\n",
    "    \n",
    "    df_county_sample = pd.DataFrame({'unemployment_rate' : sample_list})\n",
    "    return df_county_sample\n"
   ]
  },
  {
   "cell_type": "code",
   "execution_count": 41,
   "metadata": {},
   "outputs": [
    {
     "data": {
      "text/html": [
       "<div>\n",
       "<style scoped>\n",
       "    .dataframe tbody tr th:only-of-type {\n",
       "        vertical-align: middle;\n",
       "    }\n",
       "\n",
       "    .dataframe tbody tr th {\n",
       "        vertical-align: top;\n",
       "    }\n",
       "\n",
       "    .dataframe thead th {\n",
       "        text-align: right;\n",
       "    }\n",
       "</style>\n",
       "<table border=\"1\" class=\"dataframe\">\n",
       "  <thead>\n",
       "    <tr style=\"text-align: right;\">\n",
       "      <th></th>\n",
       "      <th>unemployment_rate</th>\n",
       "    </tr>\n",
       "  </thead>\n",
       "  <tbody>\n",
       "    <tr>\n",
       "      <th>0</th>\n",
       "      <td>4.56</td>\n",
       "    </tr>\n",
       "    <tr>\n",
       "      <th>1</th>\n",
       "      <td>3.59</td>\n",
       "    </tr>\n",
       "    <tr>\n",
       "      <th>2</th>\n",
       "      <td>4.73</td>\n",
       "    </tr>\n",
       "    <tr>\n",
       "      <th>3</th>\n",
       "      <td>10.45</td>\n",
       "    </tr>\n",
       "    <tr>\n",
       "      <th>4</th>\n",
       "      <td>3.52</td>\n",
       "    </tr>\n",
       "    <tr>\n",
       "      <th>5</th>\n",
       "      <td>7.39</td>\n",
       "    </tr>\n",
       "    <tr>\n",
       "      <th>6</th>\n",
       "      <td>4.51</td>\n",
       "    </tr>\n",
       "    <tr>\n",
       "      <th>7</th>\n",
       "      <td>4.20</td>\n",
       "    </tr>\n",
       "    <tr>\n",
       "      <th>8</th>\n",
       "      <td>3.13</td>\n",
       "    </tr>\n",
       "    <tr>\n",
       "      <th>9</th>\n",
       "      <td>3.71</td>\n",
       "    </tr>\n",
       "    <tr>\n",
       "      <th>10</th>\n",
       "      <td>3.50</td>\n",
       "    </tr>\n",
       "    <tr>\n",
       "      <th>11</th>\n",
       "      <td>3.69</td>\n",
       "    </tr>\n",
       "    <tr>\n",
       "      <th>12</th>\n",
       "      <td>3.31</td>\n",
       "    </tr>\n",
       "    <tr>\n",
       "      <th>13</th>\n",
       "      <td>3.02</td>\n",
       "    </tr>\n",
       "    <tr>\n",
       "      <th>14</th>\n",
       "      <td>4.23</td>\n",
       "    </tr>\n",
       "    <tr>\n",
       "      <th>15</th>\n",
       "      <td>2.18</td>\n",
       "    </tr>\n",
       "    <tr>\n",
       "      <th>16</th>\n",
       "      <td>4.36</td>\n",
       "    </tr>\n",
       "    <tr>\n",
       "      <th>17</th>\n",
       "      <td>4.87</td>\n",
       "    </tr>\n",
       "    <tr>\n",
       "      <th>18</th>\n",
       "      <td>6.17</td>\n",
       "    </tr>\n",
       "    <tr>\n",
       "      <th>19</th>\n",
       "      <td>3.59</td>\n",
       "    </tr>\n",
       "    <tr>\n",
       "      <th>20</th>\n",
       "      <td>3.52</td>\n",
       "    </tr>\n",
       "    <tr>\n",
       "      <th>21</th>\n",
       "      <td>3.90</td>\n",
       "    </tr>\n",
       "    <tr>\n",
       "      <th>22</th>\n",
       "      <td>3.71</td>\n",
       "    </tr>\n",
       "    <tr>\n",
       "      <th>23</th>\n",
       "      <td>3.81</td>\n",
       "    </tr>\n",
       "    <tr>\n",
       "      <th>24</th>\n",
       "      <td>4.26</td>\n",
       "    </tr>\n",
       "    <tr>\n",
       "      <th>25</th>\n",
       "      <td>3.49</td>\n",
       "    </tr>\n",
       "    <tr>\n",
       "      <th>26</th>\n",
       "      <td>4.90</td>\n",
       "    </tr>\n",
       "    <tr>\n",
       "      <th>27</th>\n",
       "      <td>4.62</td>\n",
       "    </tr>\n",
       "    <tr>\n",
       "      <th>28</th>\n",
       "      <td>5.08</td>\n",
       "    </tr>\n",
       "    <tr>\n",
       "      <th>29</th>\n",
       "      <td>3.22</td>\n",
       "    </tr>\n",
       "    <tr>\n",
       "      <th>30</th>\n",
       "      <td>4.41</td>\n",
       "    </tr>\n",
       "    <tr>\n",
       "      <th>31</th>\n",
       "      <td>5.56</td>\n",
       "    </tr>\n",
       "    <tr>\n",
       "      <th>32</th>\n",
       "      <td>3.51</td>\n",
       "    </tr>\n",
       "    <tr>\n",
       "      <th>33</th>\n",
       "      <td>8.52</td>\n",
       "    </tr>\n",
       "    <tr>\n",
       "      <th>34</th>\n",
       "      <td>4.51</td>\n",
       "    </tr>\n",
       "    <tr>\n",
       "      <th>35</th>\n",
       "      <td>3.82</td>\n",
       "    </tr>\n",
       "    <tr>\n",
       "      <th>36</th>\n",
       "      <td>3.22</td>\n",
       "    </tr>\n",
       "    <tr>\n",
       "      <th>37</th>\n",
       "      <td>2.54</td>\n",
       "    </tr>\n",
       "    <tr>\n",
       "      <th>38</th>\n",
       "      <td>5.02</td>\n",
       "    </tr>\n",
       "    <tr>\n",
       "      <th>39</th>\n",
       "      <td>5.63</td>\n",
       "    </tr>\n",
       "    <tr>\n",
       "      <th>40</th>\n",
       "      <td>3.29</td>\n",
       "    </tr>\n",
       "    <tr>\n",
       "      <th>41</th>\n",
       "      <td>3.71</td>\n",
       "    </tr>\n",
       "    <tr>\n",
       "      <th>42</th>\n",
       "      <td>6.82</td>\n",
       "    </tr>\n",
       "    <tr>\n",
       "      <th>43</th>\n",
       "      <td>3.97</td>\n",
       "    </tr>\n",
       "    <tr>\n",
       "      <th>44</th>\n",
       "      <td>5.61</td>\n",
       "    </tr>\n",
       "    <tr>\n",
       "      <th>45</th>\n",
       "      <td>4.02</td>\n",
       "    </tr>\n",
       "    <tr>\n",
       "      <th>46</th>\n",
       "      <td>5.11</td>\n",
       "    </tr>\n",
       "    <tr>\n",
       "      <th>47</th>\n",
       "      <td>3.26</td>\n",
       "    </tr>\n",
       "    <tr>\n",
       "      <th>48</th>\n",
       "      <td>6.21</td>\n",
       "    </tr>\n",
       "    <tr>\n",
       "      <th>49</th>\n",
       "      <td>4.08</td>\n",
       "    </tr>\n",
       "  </tbody>\n",
       "</table>\n",
       "</div>"
      ],
      "text/plain": [
       "    unemployment_rate\n",
       "0                4.56\n",
       "1                3.59\n",
       "2                4.73\n",
       "3               10.45\n",
       "4                3.52\n",
       "5                7.39\n",
       "6                4.51\n",
       "7                4.20\n",
       "8                3.13\n",
       "9                3.71\n",
       "10               3.50\n",
       "11               3.69\n",
       "12               3.31\n",
       "13               3.02\n",
       "14               4.23\n",
       "15               2.18\n",
       "16               4.36\n",
       "17               4.87\n",
       "18               6.17\n",
       "19               3.59\n",
       "20               3.52\n",
       "21               3.90\n",
       "22               3.71\n",
       "23               3.81\n",
       "24               4.26\n",
       "25               3.49\n",
       "26               4.90\n",
       "27               4.62\n",
       "28               5.08\n",
       "29               3.22\n",
       "30               4.41\n",
       "31               5.56\n",
       "32               3.51\n",
       "33               8.52\n",
       "34               4.51\n",
       "35               3.82\n",
       "36               3.22\n",
       "37               2.54\n",
       "38               5.02\n",
       "39               5.63\n",
       "40               3.29\n",
       "41               3.71\n",
       "42               6.82\n",
       "43               3.97\n",
       "44               5.61\n",
       "45               4.02\n",
       "46               5.11\n",
       "47               3.26\n",
       "48               6.21\n",
       "49               4.08"
      ]
     },
     "execution_count": 41,
     "metadata": {},
     "output_type": "execute_result"
    }
   ],
   "source": [
    "my_sample = create_random_sample(df, x = 'unemployment_rate', M=50,random_state = 100)\n",
    "my_sample"
   ]
  },
  {
   "cell_type": "markdown",
   "metadata": {},
   "source": [
    "#### 3.2.  Sample Mean and Standard Deviation\n",
    "\n",
    "Calculate the sample mean and standard deviation of this sample from 3.1."
   ]
  },
  {
   "cell_type": "code",
   "execution_count": 42,
   "metadata": {},
   "outputs": [
    {
     "data": {
      "text/plain": [
       "4.440800000000001"
      ]
     },
     "execution_count": 42,
     "metadata": {},
     "output_type": "execute_result"
    }
   ],
   "source": [
    "my_random_sample_mean = my_sample['unemployment_rate'].mean()\n",
    "my_random_sample_mean"
   ]
  },
  {
   "cell_type": "code",
   "execution_count": 43,
   "metadata": {},
   "outputs": [
    {
     "data": {
      "text/plain": [
       "1.4855808181808683"
      ]
     },
     "execution_count": 43,
     "metadata": {},
     "output_type": "execute_result"
    }
   ],
   "source": [
    "my_random_sample_std = my_sample['unemployment_rate'].std()\n",
    "my_random_sample_std"
   ]
  },
  {
   "cell_type": "markdown",
   "metadata": {},
   "source": [
    "#### 3.3  Sample Distribution\n",
    "\n",
    "Plot the sample distribution of unemployment rates in a histogram. Make sure that you label the x-axis, y-axis, and title appropriately."
   ]
  },
  {
   "cell_type": "code",
   "execution_count": 44,
   "metadata": {},
   "outputs": [
    {
     "data": {
      "image/png": "[encoded data removed]",
      "text/plain": [
       "<Figure size 432x288 with 1 Axes>"
      ]
     },
     "metadata": {
      "needs_background": "light"
     },
     "output_type": "display_data"
    }
   ],
   "source": [
    "my_sample['unemployment_rate'].hist()\n",
    "plt.title('Random Sample County Unemployment Rates')\n",
    "plt.xlabel('Unemployment Rate')\n",
    "plt.ylabel('Frequency')\n",
    "plt.show()"
   ]
  },
  {
   "cell_type": "markdown",
   "metadata": {},
   "source": [
    "### 4. Sampling Distribution of Sample Means - *Theoretical*\n",
    "\n",
    "SUPPOSE we were to create a sampling distribution with many, many sample means unemployment rates, where each sample was of size 50 (drawn **with replacement** from the population of all county unemployment rates).\n",
    "\n",
    "#### 4.1. Expected Mean of the Sampling Distribution\n",
    "\n",
    "What would we *expect* the mean of this *theoretical* sampling distribution to be?\n",
    "\n",
    "<u>Hint</u>: *In this part, we are not actually looking for you to calculate the mean of an **actual** sampling distribution (ie. one that you have created).*"
   ]
  },
  {
   "cell_type": "code",
   "execution_count": 45,
   "metadata": {},
   "outputs": [],
   "source": [
    "#We would expect the mean of the theoretical sampling distrobution to be around 4.5"
   ]
  },
  {
   "cell_type": "code",
   "execution_count": 34,
   "metadata": {},
   "outputs": [
    {
     "data": {
      "text/plain": [
       "4.6"
      ]
     },
     "execution_count": 34,
     "metadata": {},
     "output_type": "execute_result"
    }
   ],
   "source": [
    "4.5"
   ]
  },
  {
   "cell_type": "markdown",
   "metadata": {},
   "source": [
    "#### 4.2. Expected Standard Deviation of the Sampling Distribution\n",
    "\n",
    "What would we *expect* the standard deviation of this *theoretical* sampling distribution to be?\n",
    "\n",
    "<u>Hint</u>: *In this part, we are not actually looking for you to calculate the standard deviation of an **actual** sampling distribution (ie. one that you have created).*"
   ]
  },
  {
   "cell_type": "code",
   "execution_count": 63,
   "metadata": {},
   "outputs": [],
   "source": [
    "#We would expect the std of the theoretical sampling distrobution to be around 1.5"
   ]
  },
  {
   "cell_type": "code",
   "execution_count": 46,
   "metadata": {},
   "outputs": [
    {
     "data": {
      "text/plain": [
       "1.5"
      ]
     },
     "execution_count": 46,
     "metadata": {},
     "output_type": "execute_result"
    }
   ],
   "source": [
    "1.5"
   ]
  },
  {
   "cell_type": "markdown",
   "metadata": {},
   "source": [
    "#### 4.3. Expected Sampling Distribution Normality\n",
    "\n",
    "Will this sampling distribution of sample means be approximately normal? Explain."
   ]
  },
  {
   "cell_type": "markdown",
   "metadata": {},
   "source": [
    "Yes, it will be apporoximatly normal since it follows a bell shaped curve, it is unimodel, \n",
    "and follows the 68-95-99.7 Rule."
   ]
  },
  {
   "cell_type": "markdown",
   "metadata": {},
   "source": [
    "#### 4.4 Probability of our Observed Sample Mean\n",
    "\n",
    "Calculate the probability that a randomly selected sample mean unemployment rate (from this *theoretical* sampling distribution with many, many sample means) is less than or equal to the sample mean that we calculated in (4.2). \n",
    "\n",
    "*(<u>Hint</u>: You should assume that the sampling distribution is normal (ie. $\\bar{X}\\sim N(\\mbox{mean of sampling distribution}, \\mbox{std of sampling distribution})$).)*"
   ]
  },
  {
   "cell_type": "code",
   "execution_count": 47,
   "metadata": {},
   "outputs": [
    {
     "data": {
      "text/plain": [
       "0.5158935370330542"
      ]
     },
     "execution_count": 47,
     "metadata": {},
     "output_type": "execute_result"
    }
   ],
   "source": [
    "#P(X <= 4.5)\n",
    "\n",
    "norm.cdf(4.5, loc = my_random_sample_mean, scale = my_random_sample_std)"
   ]
  },
  {
   "cell_type": "markdown",
   "metadata": {},
   "source": [
    "#### 4.5. Sample Mean That's Equally Extreme\n",
    "\n",
    "What is the value of a sample mean that is equally far away from the sampling distribution mean (as the one from 3.2 is), but is greater than the sampling distribution mean)?"
   ]
  },
  {
   "cell_type": "code",
   "execution_count": 48,
   "metadata": {},
   "outputs": [
    {
     "data": {
      "text/plain": [
       "4.526121567378153"
      ]
     },
     "execution_count": 48,
     "metadata": {},
     "output_type": "execute_result"
    }
   ],
   "source": [
    "value_mean = (my_random_sample_mean + df['unemployment_rate'].mean())/2\n",
    "value_mean"
   ]
  },
  {
   "cell_type": "markdown",
   "metadata": {},
   "source": [
    "#### 4.6. Probability of Equally Far Away Sample Mean\n",
    "\n",
    "Calculate the probability that a randomly selected sample mean (from this sampling distribution) is greater than or equal to the sample mean that we calculated in 4.5"
   ]
  },
  {
   "cell_type": "code",
   "execution_count": 49,
   "metadata": {},
   "outputs": [
    {
     "data": {
      "text/plain": [
       "0.4771000833303246"
      ]
     },
     "execution_count": 49,
     "metadata": {},
     "output_type": "execute_result"
    }
   ],
   "source": [
    "1 - norm.cdf(value_mean, loc = my_random_sample_mean, scale = my_random_sample_std)"
   ]
  },
  {
   "cell_type": "markdown",
   "metadata": {},
   "source": [
    "### 5. Sampling Distribution of Sample Means - *Theoretical*\n",
    "\n",
    "#### 5.1. Create an actual sampling distribution\n",
    "\n",
    "Now, using your population of county unemployment rates, create an **actual sampling distribution** of sample mean unemployment rates. We would like our sampling distribution to contain 1000 sample means, each calculated on samples of size 50.\n"
   ]
  },
  {
   "cell_type": "code",
   "execution_count": 50,
   "metadata": {},
   "outputs": [],
   "source": [
    "def create_random_sample(df, x = '', n=1, M = 1):\n",
    "    sample_list = []\n",
    "    \n",
    "    for i in range(M):\n",
    "        rand_sample = df[x].sample(n, replace=False)\n",
    "        \n",
    "        rand_sample_mean = rand_sample.mean()\n",
    "        \n",
    "        sample_list.append(rand_sample_mean)\n",
    "    \n",
    "    df_county_sample = pd.DataFrame({'unemployment_rate' : sample_list})\n",
    "    return df_county_sample\n"
   ]
  },
  {
   "cell_type": "code",
   "execution_count": 51,
   "metadata": {},
   "outputs": [
    {
     "data": {
      "text/html": [
       "<div>\n",
       "<style scoped>\n",
       "    .dataframe tbody tr th:only-of-type {\n",
       "        vertical-align: middle;\n",
       "    }\n",
       "\n",
       "    .dataframe tbody tr th {\n",
       "        vertical-align: top;\n",
       "    }\n",
       "\n",
       "    .dataframe thead th {\n",
       "        text-align: right;\n",
       "    }\n",
       "</style>\n",
       "<table border=\"1\" class=\"dataframe\">\n",
       "  <thead>\n",
       "    <tr style=\"text-align: right;\">\n",
       "      <th></th>\n",
       "      <th>unemployment_rate</th>\n",
       "    </tr>\n",
       "  </thead>\n",
       "  <tbody>\n",
       "    <tr>\n",
       "      <th>0</th>\n",
       "      <td>4.7634</td>\n",
       "    </tr>\n",
       "    <tr>\n",
       "      <th>1</th>\n",
       "      <td>4.7456</td>\n",
       "    </tr>\n",
       "    <tr>\n",
       "      <th>2</th>\n",
       "      <td>4.4322</td>\n",
       "    </tr>\n",
       "    <tr>\n",
       "      <th>3</th>\n",
       "      <td>4.2688</td>\n",
       "    </tr>\n",
       "    <tr>\n",
       "      <th>4</th>\n",
       "      <td>4.6774</td>\n",
       "    </tr>\n",
       "    <tr>\n",
       "      <th>...</th>\n",
       "      <td>...</td>\n",
       "    </tr>\n",
       "    <tr>\n",
       "      <th>995</th>\n",
       "      <td>4.6402</td>\n",
       "    </tr>\n",
       "    <tr>\n",
       "      <th>996</th>\n",
       "      <td>4.7654</td>\n",
       "    </tr>\n",
       "    <tr>\n",
       "      <th>997</th>\n",
       "      <td>4.3156</td>\n",
       "    </tr>\n",
       "    <tr>\n",
       "      <th>998</th>\n",
       "      <td>4.7146</td>\n",
       "    </tr>\n",
       "    <tr>\n",
       "      <th>999</th>\n",
       "      <td>4.4742</td>\n",
       "    </tr>\n",
       "  </tbody>\n",
       "</table>\n",
       "<p>1000 rows × 1 columns</p>\n",
       "</div>"
      ],
      "text/plain": [
       "     unemployment_rate\n",
       "0               4.7634\n",
       "1               4.7456\n",
       "2               4.4322\n",
       "3               4.2688\n",
       "4               4.6774\n",
       "..                 ...\n",
       "995             4.6402\n",
       "996             4.7654\n",
       "997             4.3156\n",
       "998             4.7146\n",
       "999             4.4742\n",
       "\n",
       "[1000 rows x 1 columns]"
      ]
     },
     "execution_count": 51,
     "metadata": {},
     "output_type": "execute_result"
    }
   ],
   "source": [
    "my_actual_sample = create_random_sample(df, x = 'unemployment_rate', n = 50, M=1000)\n",
    "my_actual_sample"
   ]
  },
  {
   "cell_type": "markdown",
   "metadata": {},
   "source": [
    "#### 5.2. Actual Sampling Distribution Mean and Standard Deviation\n",
    "\n",
    "Calculate the mean and the standard deviation of this *actual* sampling distribution you created in 5.1."
   ]
  },
  {
   "cell_type": "code",
   "execution_count": 52,
   "metadata": {},
   "outputs": [
    {
     "data": {
      "text/plain": [
       "4.620093399999995"
      ]
     },
     "execution_count": 52,
     "metadata": {},
     "output_type": "execute_result"
    }
   ],
   "source": [
    "my_actual_sample_mean = my_actual_sample['unemployment_rate'].mean()\n",
    "my_actual_sample_mean"
   ]
  },
  {
   "cell_type": "code",
   "execution_count": 53,
   "metadata": {},
   "outputs": [
    {
     "data": {
      "text/plain": [
       "0.22757888853526578"
      ]
     },
     "execution_count": 53,
     "metadata": {},
     "output_type": "execute_result"
    }
   ],
   "source": [
    "my_actual_sample_std = my_actual_sample['unemployment_rate'].std()\n",
    "my_actual_sample_std "
   ]
  },
  {
   "cell_type": "markdown",
   "metadata": {},
   "source": [
    "#### 5.3.  Comparison\n",
    "\n",
    "How do the mean and standard deviation values from 6.2 compare to the values in 4.1 and 4.2?"
   ]
  },
  {
   "cell_type": "code",
   "execution_count": 54,
   "metadata": {},
   "outputs": [
    {
     "data": {
      "text/plain": [
       "0.1792933999999935"
      ]
     },
     "execution_count": 54,
     "metadata": {},
     "output_type": "execute_result"
    }
   ],
   "source": [
    "my_actual_sample_mean - my_random_sample_mean"
   ]
  },
  {
   "cell_type": "code",
   "execution_count": 55,
   "metadata": {},
   "outputs": [
    {
     "data": {
      "text/plain": [
       "-1.2580019296456024"
      ]
     },
     "execution_count": 55,
     "metadata": {},
     "output_type": "execute_result"
    }
   ],
   "source": [
    "my_actual_sample_std - my_random_sample_std"
   ]
  },
  {
   "cell_type": "markdown",
   "metadata": {},
   "source": [
    "They are less than 13 percent different"
   ]
  },
  {
   "cell_type": "markdown",
   "metadata": {},
   "source": [
    "#### 5.4. Actual Sampling Distribution Shape\n",
    "\n",
    "Plot the *actual* sampling distribution that you created in 5.1. Make sure to appropriately label the x-axis, y-axis, and title of this plot."
   ]
  },
  {
   "cell_type": "code",
   "execution_count": 56,
   "metadata": {},
   "outputs": [
    {
     "data": {
      "image/png": "[encoded data removed]",
      "text/plain": [
       "<Figure size 432x288 with 1 Axes>"
      ]
     },
     "metadata": {
      "needs_background": "light"
     },
     "output_type": "display_data"
    }
   ],
   "source": [
    "my_actual_sample.hist()\n",
    "plt.title('Random Sample County Unemployment Rates')\n",
    "plt.xlabel('Unemployment Rate')\n",
    "plt.ylabel('Frequency')\n",
    "plt.show()"
   ]
  },
  {
   "cell_type": "markdown",
   "metadata": {},
   "source": [
    "#### 5.5. Comparison\n",
    "\n",
    "How does the shape of this ACTUAL sampling distribution that you plotted in 5.4 compare to what you said about the THEORETICAL sampling distribution in 4.3?"
   ]
  },
  {
   "cell_type": "markdown",
   "metadata": {},
   "source": [
    "This shape is more uniform due to the much larger sample size which follows the law of large numbers, and it follows more of a bell shaped curve than the theoretical distrobution. "
   ]
  },
  {
   "cell_type": "markdown",
   "metadata": {},
   "source": [
    "## 6. 92% a Single Confidence Interval for a Population Mean\n",
    "\n",
    "While we technically have the population of all U.S. county unemployment rates (and can therefore *actually* know the population mean), we would still like to calculate a confidence interval for this population mean to learn more about how confidence intervals behave. (By having a population, it allows us to \"check\" our answers to see how well our confidence intervals did. NOTE THAT THIS IS OFTEN NOT THE CASE AND WE WILL NOT BE ABLE TO \"CHECK\" OUR CONFIDENCE INTERVAL.)\n",
    "\n",
    "Remember, that the main purpose of constructing a confidence interval is to give us a plausible range of values for which an UNKNOWN population parameter might be.\n",
    "\n",
    "First, we would like to construct a *single* 92% confidence interval for the average unemployment rate of ALL U.S. counties.\n",
    "\n",
    "### 6.1.   Confidence Interval Conditions\n",
    "\n",
    "First, check the conditions for creating an accurate confidence interval for the average unemployment rate of all U.S. counties."
   ]
  },
  {
   "cell_type": "markdown",
   "metadata": {},
   "source": [
    "1. The samples are random from the population \n",
    "2. n = 1000 < 10% of total population of US\n",
    "3. Population distrobution is normal "
   ]
  },
  {
   "cell_type": "markdown",
   "metadata": {},
   "source": [
    "### 6.2. Creating the Confidence Inteval\n",
    "\n",
    "Now, create this 92% confidence interval using the random sample that you collected in 3.1.\n",
    "\n",
    "**ASSUME THAT YOU DO NOT KNOW WHAT THE POPULATION STANDARD DEVIATION UNEMPLOYMENT RATE IS.**"
   ]
  },
  {
   "cell_type": "code",
   "execution_count": 57,
   "metadata": {},
   "outputs": [
    {
     "data": {
      "text/plain": [
       "1.4050715603096329"
      ]
     },
     "execution_count": 57,
     "metadata": {},
     "output_type": "execute_result"
    }
   ],
   "source": [
    "z_score_for_ninty_two = norm.ppf(0.92)\n",
    "z_score_for_ninty_two"
   ]
  },
  {
   "cell_type": "code",
   "execution_count": 58,
   "metadata": {},
   "outputs": [
    {
     "data": {
      "text/plain": [
       "4.735995494330408"
      ]
     },
     "execution_count": 58,
     "metadata": {},
     "output_type": "execute_result"
    }
   ],
   "source": [
    "CI_upper_bound = my_random_sample_mean + z_score_for_ninty_two*((my_random_sample_std)/math.sqrt(50))\n",
    "CI_upper_bound"
   ]
  },
  {
   "cell_type": "code",
   "execution_count": 59,
   "metadata": {},
   "outputs": [
    {
     "data": {
      "text/plain": [
       "4.145604505669595"
      ]
     },
     "execution_count": 59,
     "metadata": {},
     "output_type": "execute_result"
    }
   ],
   "source": [
    "CI_lower_bound = my_random_sample_mean - z_score_for_ninty_two*((my_random_sample_std)/math.sqrt(50))\n",
    "CI_lower_bound"
   ]
  },
  {
   "cell_type": "code",
   "execution_count": 60,
   "metadata": {},
   "outputs": [
    {
     "data": {
      "text/plain": [
       "[4.145604505669595, 4.735995494330408]"
      ]
     },
     "execution_count": 60,
     "metadata": {},
     "output_type": "execute_result"
    }
   ],
   "source": [
    "def ninty_two_percent_ci(low, upper) :\n",
    "    return [low,upper]\n",
    "\n",
    "ninty_two_percent_ci(CI_lower_bound, CI_upper_bound)"
   ]
  },
  {
   "cell_type": "markdown",
   "metadata": {},
   "source": [
    "### 6.3. Interpret the Confidence Interval\n",
    "\n",
    "Put this confidence interval into words."
   ]
  },
  {
   "cell_type": "markdown",
   "metadata": {},
   "source": [
    "I am 92 percent confident that 92 percent of the time, the population parameter will lie in between 4.577933689036824 and 4.640546310963174"
   ]
  },
  {
   "cell_type": "markdown",
   "metadata": {},
   "source": [
    "### 6.4 Extra \"Check\" for Learning Purposes\n",
    "\n",
    "Because we *actually* know the mean unemployment rate of all U.S. counties, check whether this population mean falls within this confidence interval you just calculated."
   ]
  },
  {
   "cell_type": "markdown",
   "metadata": {},
   "source": [
    "4.620093399999995 is in the confidence interval "
   ]
  },
  {
   "cell_type": "markdown",
   "metadata": {},
   "source": [
    "### 6.5. What does \"92% confident\" mean?\n",
    "\n",
    "Suppose we were to collect 1000 random samples (all of size $n=50$) from the population of U.S. county unemployment rates. From each of these random samples, we would calculate the corresponding sample mean, and construct a 92% confidence interval around each of these sample means. How many of these 1000 confidence intervals would you expect to actually contain the average unemployment rate of all U.S. counties?"
   ]
  },
  {
   "cell_type": "code",
   "execution_count": 61,
   "metadata": {},
   "outputs": [],
   "source": [
    "#92 percent of the 1000 confidence intervals are expected to actually contain the average\n",
    "#unemployment rate of all US counties "
   ]
  },
  {
   "cell_type": "code",
   "execution_count": 62,
   "metadata": {},
   "outputs": [
    {
     "data": {
      "text/plain": [
       "920"
      ]
     },
     "execution_count": 62,
     "metadata": {},
     "output_type": "execute_result"
    }
   ],
   "source": [
    "920"
   ]
  },
  {
   "cell_type": "markdown",
   "metadata": {},
   "source": [
    "## 7. Creating Many, Many 92% Confidence Intervals for a Population Mean\n",
    "\n",
    "Next, let's actually construct 1000 92% confidence intervals for the average unemployment rate of ALL U.S. counties.\n",
    "\n",
    "### 7.1.  Create a function that does the following.\n",
    "* <u>Input</u> The input for your function should take in the following values.\n",
    "    - a lower bound of a confidence interval\n",
    "    - an upper bound of a confidence interval\n",
    "    - a population mean $\\mu$\n",
    "* <u>What it does</u>\n",
    "    - Your function should check whether $lower \\: bound\\leq \\mu\\leq upper\\: bound$.\n",
    "    - If this is the case, it should return True\n",
    "    - If this is not the case, then it should return False."
   ]
  },
  {
   "cell_type": "code",
   "execution_count": 63,
   "metadata": {},
   "outputs": [],
   "source": [
    "def check_confidence_interval(lower_bound, upper_bound, pop_mean) :\n",
    "    if ((lower_bound <= pop_mean) & (pop_mean <= upper_bound)) :\n",
    "        return True\n",
    "    return False\n",
    "    "
   ]
  },
  {
   "cell_type": "markdown",
   "metadata": {},
   "source": [
    "### 7.2. Testing the Function\n",
    "\n",
    "Test your function out using the population mean and the confidence interval from 6.2."
   ]
  },
  {
   "cell_type": "code",
   "execution_count": 64,
   "metadata": {},
   "outputs": [
    {
     "data": {
      "text/plain": [
       "True"
      ]
     },
     "execution_count": 64,
     "metadata": {},
     "output_type": "execute_result"
    }
   ],
   "source": [
    "check_confidence_interval(CI_lower_bound,CI_upper_bound,my_random_sample_mean)"
   ]
  },
  {
   "cell_type": "markdown",
   "metadata": {},
   "source": [
    "### 7.3. Creating Many, Many 92% Confidence Intervals\n",
    "\n",
    "Use your function above to do the following:\n",
    "* Collect 1000 random samples (each of size 50 **with** replacement) from the population of all U.S. county unemployment rates.\n",
    "* Calculate the sample mean unemployment rate and sample standard deviation of each of these random samples.\n",
    "* Create a 92% confidence interval around each of these sample means (assume that you don't know the population standard deviation).\n",
    "\n",
    "**What percent of these 1000 confidence intervals *actually* contained the population mean unemployment rate?**"
   ]
  },
  {
   "cell_type": "code",
   "execution_count": 65,
   "metadata": {},
   "outputs": [],
   "source": [
    "def confidence_interval(low, upper) :\n",
    "    return [low,upper]"
   ]
  },
  {
   "cell_type": "code",
   "execution_count": 66,
   "metadata": {},
   "outputs": [],
   "source": [
    "def create_random_sample(df, x = '', n=1, M = 1, random_state = 458347):\n",
    "    sample_list_mean = []\n",
    "    sample_list_std = []\n",
    "    sample_confidence_interval = []\n",
    "    \n",
    "    for i in range(M):\n",
    "        rand_sample = df[x].sample(n, replace=False)\n",
    "        rand_sample_mean = rand_sample.mean()\n",
    "        rand_sample_std = rand_sample.std()\n",
    "        \n",
    "\n",
    "        lower_bound = rand_sample_mean - (z_score_for_ninty_two)*(rand_sample_std)/math.sqrt(M)\n",
    "        upper_bound = rand_sample_mean + (z_score_for_ninty_two)*(rand_sample_std)/math.sqrt(M)\n",
    "        \n",
    "\n",
    "        rand_sample_ci = confidence_interval(lower_bound, upper_bound)\n",
    "\n",
    "        sample_list_mean.append(rand_sample_mean)\n",
    "        sample_list_std.append(rand_sample_std)\n",
    "        \n",
    "        sample_confidence_interval.append(rand_sample_ci)\n",
    "        \n",
    "        if (check_confidence_interval(lower_bound,upper_bound,rand_sample_mean)) :\n",
    "            \n",
    "            df_county_sample_ci = pd.DataFrame({'Unemployment_rate mean' : sample_list_mean, 'Unemployment_rate std': sample_list_std, \"Confidence Interval\": sample_confidence_interval})\n",
    "\n",
    "    return df_county_sample_ci\n",
    "\n"
   ]
  },
  {
   "cell_type": "code",
   "execution_count": 67,
   "metadata": {},
   "outputs": [
    {
     "data": {
      "text/html": [
       "<div>\n",
       "<style scoped>\n",
       "    .dataframe tbody tr th:only-of-type {\n",
       "        vertical-align: middle;\n",
       "    }\n",
       "\n",
       "    .dataframe tbody tr th {\n",
       "        vertical-align: top;\n",
       "    }\n",
       "\n",
       "    .dataframe thead th {\n",
       "        text-align: right;\n",
       "    }\n",
       "</style>\n",
       "<table border=\"1\" class=\"dataframe\">\n",
       "  <thead>\n",
       "    <tr style=\"text-align: right;\">\n",
       "      <th></th>\n",
       "      <th>Unemployment_rate mean</th>\n",
       "      <th>Unemployment_rate std</th>\n",
       "      <th>Confidence Interval</th>\n",
       "    </tr>\n",
       "  </thead>\n",
       "  <tbody>\n",
       "    <tr>\n",
       "      <th>0</th>\n",
       "      <td>4.6364</td>\n",
       "      <td>1.783221</td>\n",
       "      <td>[4.5571674606680235, 4.7156325393319785]</td>\n",
       "    </tr>\n",
       "    <tr>\n",
       "      <th>1</th>\n",
       "      <td>4.3112</td>\n",
       "      <td>1.436955</td>\n",
       "      <td>[4.247352841022169, 4.37504715897783]</td>\n",
       "    </tr>\n",
       "    <tr>\n",
       "      <th>2</th>\n",
       "      <td>4.3896</td>\n",
       "      <td>1.764057</td>\n",
       "      <td>[4.311218944783561, 4.46798105521644]</td>\n",
       "    </tr>\n",
       "    <tr>\n",
       "      <th>3</th>\n",
       "      <td>4.9006</td>\n",
       "      <td>2.035537</td>\n",
       "      <td>[4.810156493878502, 4.991043506121498]</td>\n",
       "    </tr>\n",
       "    <tr>\n",
       "      <th>4</th>\n",
       "      <td>4.8148</td>\n",
       "      <td>1.247417</td>\n",
       "      <td>[4.75937442444027, 4.87022557555973]</td>\n",
       "    </tr>\n",
       "    <tr>\n",
       "      <th>...</th>\n",
       "      <td>...</td>\n",
       "      <td>...</td>\n",
       "      <td>...</td>\n",
       "    </tr>\n",
       "    <tr>\n",
       "      <th>995</th>\n",
       "      <td>4.5768</td>\n",
       "      <td>1.533480</td>\n",
       "      <td>[4.5086640107052505, 4.64493598929475]</td>\n",
       "    </tr>\n",
       "    <tr>\n",
       "      <th>996</th>\n",
       "      <td>4.7212</td>\n",
       "      <td>1.567604</td>\n",
       "      <td>[4.651547806499763, 4.790852193500236]</td>\n",
       "    </tr>\n",
       "    <tr>\n",
       "      <th>997</th>\n",
       "      <td>4.8084</td>\n",
       "      <td>1.466746</td>\n",
       "      <td>[4.7432291468743095, 4.873570853125688]</td>\n",
       "    </tr>\n",
       "    <tr>\n",
       "      <th>998</th>\n",
       "      <td>4.6532</td>\n",
       "      <td>1.598927</td>\n",
       "      <td>[4.5821560312083305, 4.7242439687916695]</td>\n",
       "    </tr>\n",
       "    <tr>\n",
       "      <th>999</th>\n",
       "      <td>4.8254</td>\n",
       "      <td>1.665378</td>\n",
       "      <td>[4.751403503526324, 4.899396496473675]</td>\n",
       "    </tr>\n",
       "  </tbody>\n",
       "</table>\n",
       "<p>1000 rows × 3 columns</p>\n",
       "</div>"
      ],
      "text/plain": [
       "     Unemployment_rate mean  Unemployment_rate std  \\\n",
       "0                    4.6364               1.783221   \n",
       "1                    4.3112               1.436955   \n",
       "2                    4.3896               1.764057   \n",
       "3                    4.9006               2.035537   \n",
       "4                    4.8148               1.247417   \n",
       "..                      ...                    ...   \n",
       "995                  4.5768               1.533480   \n",
       "996                  4.7212               1.567604   \n",
       "997                  4.8084               1.466746   \n",
       "998                  4.6532               1.598927   \n",
       "999                  4.8254               1.665378   \n",
       "\n",
       "                          Confidence Interval  \n",
       "0    [4.5571674606680235, 4.7156325393319785]  \n",
       "1       [4.247352841022169, 4.37504715897783]  \n",
       "2       [4.311218944783561, 4.46798105521644]  \n",
       "3      [4.810156493878502, 4.991043506121498]  \n",
       "4        [4.75937442444027, 4.87022557555973]  \n",
       "..                                        ...  \n",
       "995    [4.5086640107052505, 4.64493598929475]  \n",
       "996    [4.651547806499763, 4.790852193500236]  \n",
       "997   [4.7432291468743095, 4.873570853125688]  \n",
       "998  [4.5821560312083305, 4.7242439687916695]  \n",
       "999    [4.751403503526324, 4.899396496473675]  \n",
       "\n",
       "[1000 rows x 3 columns]"
      ]
     },
     "execution_count": 67,
     "metadata": {},
     "output_type": "execute_result"
    }
   ],
   "source": [
    "df_county_sample_ci = create_random_sample(df, x = 'unemployment_rate', n = 50, M=1000)\n",
    "df_county_sample_ci "
   ]
  },
  {
   "cell_type": "code",
   "execution_count": 68,
   "metadata": {},
   "outputs": [],
   "source": [
    "def create_random_sample(df, x = '', n=1, M = 1, random_state = 458347):\n",
    "    sample_list_mean = []\n",
    "    sample_list_std = []\n",
    "    sample_confidence_interval = []\n",
    "    \n",
    "    for i in range(M):\n",
    "        rand_sample = df[x].sample(n, replace=False)\n",
    "        rand_sample_mean = rand_sample.mean()\n",
    "        rand_sample_std = rand_sample.std()\n",
    "        \n",
    "\n",
    "        lower_bound = rand_sample_mean - (z_score_for_ninty_two)*(rand_sample_std)/math.sqrt(M)\n",
    "        upper_bound = rand_sample_mean + (z_score_for_ninty_two)*(rand_sample_std)/math.sqrt(M)\n",
    "        \n",
    "\n",
    "        rand_sample_ci = confidence_interval(lower_bound, upper_bound)\n",
    "\n",
    "        sample_list_mean.append(rand_sample_mean)\n",
    "        sample_list_std.append(rand_sample_std)\n",
    "        \n",
    "        sample_confidence_interval.append(rand_sample_ci)\n",
    "        \n",
    "        if (check_confidence_interval(lower_bound,upper_bound,my_actual_sample_mean)) :\n",
    "            \n",
    "            df_county_contains_mean = pd.DataFrame({'Unemployment_rate mean' : sample_list_mean, 'Unemployment_rate std': sample_list_std, \"Confidence Interval\": sample_confidence_interval})\n",
    "\n",
    "    return df_county_contains_mean\n"
   ]
  },
  {
   "cell_type": "code",
   "execution_count": 69,
   "metadata": {},
   "outputs": [
    {
     "data": {
      "text/html": [
       "<div>\n",
       "<style scoped>\n",
       "    .dataframe tbody tr th:only-of-type {\n",
       "        vertical-align: middle;\n",
       "    }\n",
       "\n",
       "    .dataframe tbody tr th {\n",
       "        vertical-align: top;\n",
       "    }\n",
       "\n",
       "    .dataframe thead th {\n",
       "        text-align: right;\n",
       "    }\n",
       "</style>\n",
       "<table border=\"1\" class=\"dataframe\">\n",
       "  <thead>\n",
       "    <tr style=\"text-align: right;\">\n",
       "      <th></th>\n",
       "      <th>Unemployment_rate mean</th>\n",
       "      <th>Unemployment_rate std</th>\n",
       "      <th>Confidence Interval</th>\n",
       "    </tr>\n",
       "  </thead>\n",
       "  <tbody>\n",
       "    <tr>\n",
       "      <th>0</th>\n",
       "      <td>4.3400</td>\n",
       "      <td>1.491200</td>\n",
       "      <td>[4.273742606178161, 4.406257393821838]</td>\n",
       "    </tr>\n",
       "    <tr>\n",
       "      <th>1</th>\n",
       "      <td>4.2194</td>\n",
       "      <td>1.493785</td>\n",
       "      <td>[4.15302775215507, 4.285772247844929]</td>\n",
       "    </tr>\n",
       "    <tr>\n",
       "      <th>2</th>\n",
       "      <td>4.7744</td>\n",
       "      <td>2.504171</td>\n",
       "      <td>[4.6631340337793565, 4.885665966220647]</td>\n",
       "    </tr>\n",
       "    <tr>\n",
       "      <th>3</th>\n",
       "      <td>4.7782</td>\n",
       "      <td>1.549126</td>\n",
       "      <td>[4.709368835868709, 4.847031164131289]</td>\n",
       "    </tr>\n",
       "    <tr>\n",
       "      <th>4</th>\n",
       "      <td>4.9906</td>\n",
       "      <td>2.279031</td>\n",
       "      <td>[4.889337502880811, 5.09186249711919]</td>\n",
       "    </tr>\n",
       "    <tr>\n",
       "      <th>...</th>\n",
       "      <td>...</td>\n",
       "      <td>...</td>\n",
       "      <td>...</td>\n",
       "    </tr>\n",
       "    <tr>\n",
       "      <th>991</th>\n",
       "      <td>4.6968</td>\n",
       "      <td>1.744911</td>\n",
       "      <td>[4.619269632248026, 4.774330367751974]</td>\n",
       "    </tr>\n",
       "    <tr>\n",
       "      <th>992</th>\n",
       "      <td>4.6122</td>\n",
       "      <td>1.268694</td>\n",
       "      <td>[4.555829046323644, 4.668570953676357]</td>\n",
       "    </tr>\n",
       "    <tr>\n",
       "      <th>993</th>\n",
       "      <td>4.7024</td>\n",
       "      <td>2.200347</td>\n",
       "      <td>[4.6046336231384615, 4.80016637686154]</td>\n",
       "    </tr>\n",
       "    <tr>\n",
       "      <th>994</th>\n",
       "      <td>4.6856</td>\n",
       "      <td>1.477332</td>\n",
       "      <td>[4.619958779147652, 4.75124122085235]</td>\n",
       "    </tr>\n",
       "    <tr>\n",
       "      <th>995</th>\n",
       "      <td>4.5780</td>\n",
       "      <td>1.648694</td>\n",
       "      <td>[4.5047447937645755, 4.651255206235427]</td>\n",
       "    </tr>\n",
       "  </tbody>\n",
       "</table>\n",
       "<p>996 rows × 3 columns</p>\n",
       "</div>"
      ],
      "text/plain": [
       "     Unemployment_rate mean  Unemployment_rate std  \\\n",
       "0                    4.3400               1.491200   \n",
       "1                    4.2194               1.493785   \n",
       "2                    4.7744               2.504171   \n",
       "3                    4.7782               1.549126   \n",
       "4                    4.9906               2.279031   \n",
       "..                      ...                    ...   \n",
       "991                  4.6968               1.744911   \n",
       "992                  4.6122               1.268694   \n",
       "993                  4.7024               2.200347   \n",
       "994                  4.6856               1.477332   \n",
       "995                  4.5780               1.648694   \n",
       "\n",
       "                         Confidence Interval  \n",
       "0     [4.273742606178161, 4.406257393821838]  \n",
       "1      [4.15302775215507, 4.285772247844929]  \n",
       "2    [4.6631340337793565, 4.885665966220647]  \n",
       "3     [4.709368835868709, 4.847031164131289]  \n",
       "4      [4.889337502880811, 5.09186249711919]  \n",
       "..                                       ...  \n",
       "991   [4.619269632248026, 4.774330367751974]  \n",
       "992   [4.555829046323644, 4.668570953676357]  \n",
       "993   [4.6046336231384615, 4.80016637686154]  \n",
       "994    [4.619958779147652, 4.75124122085235]  \n",
       "995  [4.5047447937645755, 4.651255206235427]  \n",
       "\n",
       "[996 rows x 3 columns]"
      ]
     },
     "execution_count": 69,
     "metadata": {},
     "output_type": "execute_result"
    }
   ],
   "source": [
    "df_county_contains_mean = create_random_sample(df, x = 'unemployment_rate', n = 50, M=1000)\n",
    "df_county_contains_mean \n"
   ]
  },
  {
   "cell_type": "code",
   "execution_count": 70,
   "metadata": {
    "scrolled": true
   },
   "outputs": [
    {
     "data": {
      "text/plain": [
       "0.996"
      ]
     },
     "execution_count": 70,
     "metadata": {},
     "output_type": "execute_result"
    }
   ],
   "source": [
    "percent_of_CIs_containing_mean = len(df_county_contains_mean)/len(df_county_sample_ci)\n",
    "percent_of_CIs_containing_mean"
   ]
  },
  {
   "cell_type": "markdown",
   "metadata": {},
   "source": [
    "### 7.4. Comparison\n",
    "\n",
    "How does your percent that you actually calculated compare to what you said you would expect in 6.5?"
   ]
  },
  {
   "cell_type": "markdown",
   "metadata": {},
   "source": [
    "The percentage of confidence intervals that contain actual mean was expected to be 92, but I i got 99.6"
   ]
  }
 ],
 "metadata": {
  "kernelspec": {
   "display_name": "Python 3 (ipykernel)",
   "language": "python",
   "name": "python3"
  },
  "language_info": {
   "codemirror_mode": {
    "name": "ipython",
    "version": 3
   },
   "file_extension": ".py",
   "mimetype": "text/x-python",
   "name": "python",
   "nbconvert_exporter": "python",
   "pygments_lexer": "ipython3",
   "version": "3.9.12"
  }
 },
 "nbformat": 4,
 "nbformat_minor": 2
}
