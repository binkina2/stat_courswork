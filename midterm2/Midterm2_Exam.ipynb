{
 "cells": [
  {
   "cell_type": "markdown",
   "metadata": {},
   "source": [
    "# Midterm 2 Exam - 70 Points\n",
    "\n",
    "## <u>Case Study</u>: North Carolina Birth Analysis\n",
    "\n",
    "The following dataset is a **random sample** collected in 2004 containing information on births that occurred in North Carolina. This data set has been of interest to medical researchers who are studying the relation between habits and practices of expectant mothers and the birth of their children. \n",
    "\n",
    "This dataset contains the following birth information:\n",
    "\n",
    "* **mother_age** - Mother's age in years.\n",
    "* **mature** - Maturity status of mother (younger mom, mature mom)\n",
    "* **weeks** - Length of pregnancy in weeks.\n",
    "* **visits** - Number of hospital visits during pregnancy.\n",
    "* **gained** - Weight gained by mother during pregnancy in pounds.\n",
    "* **weight** - Weight of the baby at birth in pounds.\n",
    "* **gender** - Gender of the baby, female or male.\n",
    "* **habit** - Status of the mother as a nonsmoker or a smoker.\n",
    "* **marital** - Whether mother is married or not married at birth.\n",
    "\n",
    "\n",
    "### Research Questions\n",
    "In this case study, we would like to answer three research questions.\n",
    "\n",
    "1. Do we have sufficient evidence to suggest that there is an <u>association</u> between **mother smoking behavior** and **child birth weight** in *ALL North Carolina births*?\n",
    "2. *Which* variables do we have sufficient evidence to suggest are <u>linearly associated</u> with **child birth weight** in *ALL North Carolina births*? \n",
    "3. *Which* variable has the most \"predictive power\" on it's own when it comes to predicting **child birth weight**?\n",
    "\n",
    "\n",
    "**<u>Additional Consideration</u>: We would ideally like to answer our research questions while keeping the probability of making at least one Type 1 error low.**\n",
    "\n",
    "### Points\n",
    "\n",
    "<p>&nbsp;</p>\n",
    "<table style=\"border: none;border-collapse: collapse;width:102pt;\">\n",
    "    <tbody>\n",
    "        <tr>\n",
    "            <td style=\"color:black;font-size:15px;font-weight:700;font-style:normal;text-decoration:none;font-family:Calibri, sans-serif;text-align:right;vertical-align:bottom;border:.5pt solid windowtext;height:14.25pt;width:51pt;\">Problem</td>\n",
    "            <td style=\"color:black;font-size:15px;font-weight:700;font-style:normal;text-decoration:none;font-family:Calibri, sans-serif;text-align:general;vertical-align:bottom;border:.5pt solid windowtext;border-left:none;width:51pt;\">Points</td>\n",
    "        </tr>\n",
    "        <tr>\n",
    "            <td style=\"color:black;font-size:15px;font-weight:400;font-style:normal;text-decoration:none;font-family:Calibri, sans-serif;text-align:right;vertical-align:bottom;border:.5pt solid windowtext;height:14.25pt;border-top:none;\">1.1</td>\n",
    "            <td style=\"color:black;font-size:15px;font-weight:400;font-style:normal;text-decoration:none;font-family:Calibri, sans-serif;text-align:right;vertical-align:bottom;border:.5pt solid windowtext;border-top:none;border-left:none;\">0.5</td>\n",
    "        </tr>\n",
    "        <tr>\n",
    "            <td style=\"color:black;font-size:15px;font-weight:400;font-style:normal;text-decoration:none;font-family:Calibri, sans-serif;text-align:right;vertical-align:bottom;border:.5pt solid windowtext;height:14.25pt;border-top:none;\">1.2</td>\n",
    "            <td style=\"color:black;font-size:15px;font-weight:400;font-style:normal;text-decoration:none;font-family:Calibri, sans-serif;text-align:right;vertical-align:bottom;border:.5pt solid windowtext;border-top:none;border-left:none;\">2</td>\n",
    "        </tr>\n",
    "        <tr>\n",
    "            <td style=\"color:black;font-size:15px;font-weight:400;font-style:normal;text-decoration:none;font-family:Calibri, sans-serif;text-align:right;vertical-align:bottom;border:.5pt solid windowtext;height:14.25pt;border-top:none;\">2.1</td>\n",
    "            <td style=\"color:black;font-size:15px;font-weight:400;font-style:normal;text-decoration:none;font-family:Calibri, sans-serif;text-align:right;vertical-align:bottom;border:.5pt solid windowtext;border-top:none;border-left:none;\">2</td>\n",
    "        </tr>\n",
    "        <tr>\n",
    "            <td style=\"color:black;font-size:15px;font-weight:400;font-style:normal;text-decoration:none;font-family:Calibri, sans-serif;text-align:right;vertical-align:bottom;border:.5pt solid windowtext;height:14.25pt;border-top:none;\">2.2.1</td>\n",
    "            <td style=\"color:black;font-size:15px;font-weight:400;font-style:normal;text-decoration:none;font-family:Calibri, sans-serif;text-align:right;vertical-align:bottom;border:.5pt solid windowtext;border-top:none;border-left:none;\">1.5</td>\n",
    "        </tr>\n",
    "        <tr>\n",
    "            <td style=\"color:black;font-size:15px;font-weight:400;font-style:normal;text-decoration:none;font-family:Calibri, sans-serif;text-align:right;vertical-align:bottom;border:.5pt solid windowtext;height:14.25pt;border-top:none;\">2.2.2</td>\n",
    "            <td style=\"color:black;font-size:15px;font-weight:400;font-style:normal;text-decoration:none;font-family:Calibri, sans-serif;text-align:right;vertical-align:bottom;border:.5pt solid windowtext;border-top:none;border-left:none;\">1.5</td>\n",
    "        </tr>\n",
    "        <tr>\n",
    "            <td style=\"color:black;font-size:15px;font-weight:400;font-style:normal;text-decoration:none;font-family:Calibri, sans-serif;text-align:right;vertical-align:bottom;border:.5pt solid windowtext;height:14.25pt;border-top:none;\">2.2.3</td>\n",
    "            <td style=\"color:black;font-size:15px;font-weight:400;font-style:normal;text-decoration:none;font-family:Calibri, sans-serif;text-align:right;vertical-align:bottom;border:.5pt solid windowtext;border-top:none;border-left:none;\">1</td>\n",
    "        </tr>\n",
    "        <tr>\n",
    "            <td style=\"color:black;font-size:15px;font-weight:400;font-style:normal;text-decoration:none;font-family:Calibri, sans-serif;text-align:right;vertical-align:bottom;border:.5pt solid windowtext;height:14.25pt;border-top:none;\">2.2.4</td>\n",
    "            <td style=\"color:black;font-size:15px;font-weight:400;font-style:normal;text-decoration:none;font-family:Calibri, sans-serif;text-align:right;vertical-align:bottom;border:.5pt solid windowtext;border-top:none;border-left:none;\">1.5</td>\n",
    "        </tr>\n",
    "        <tr>\n",
    "            <td style=\"color:black;font-size:15px;font-weight:400;font-style:normal;text-decoration:none;font-family:Calibri, sans-serif;text-align:right;vertical-align:bottom;border:.5pt solid windowtext;height:14.25pt;border-top:none;\">2.3</td>\n",
    "            <td style=\"color:black;font-size:15px;font-weight:400;font-style:normal;text-decoration:none;font-family:Calibri, sans-serif;text-align:right;vertical-align:bottom;border:.5pt solid windowtext;border-top:none;border-left:none;\">3.5</td>\n",
    "        </tr>\n",
    "        <tr>\n",
    "            <td style=\"color:black;font-size:15px;font-weight:400;font-style:normal;text-decoration:none;font-family:Calibri, sans-serif;text-align:right;vertical-align:bottom;border:.5pt solid windowtext;height:14.25pt;border-top:none;\">2.4</td>\n",
    "            <td style=\"color:black;font-size:15px;font-weight:400;font-style:normal;text-decoration:none;font-family:Calibri, sans-serif;text-align:right;vertical-align:bottom;border:.5pt solid windowtext;border-top:none;border-left:none;\">3</td>\n",
    "        </tr>\n",
    "        <tr>\n",
    "            <td style=\"color:black;font-size:15px;font-weight:400;font-style:normal;text-decoration:none;font-family:Calibri, sans-serif;text-align:right;vertical-align:bottom;border:.5pt solid windowtext;height:14.25pt;border-top:none;\">2.5</td>\n",
    "            <td style=\"color:black;font-size:15px;font-weight:400;font-style:normal;text-decoration:none;font-family:Calibri, sans-serif;text-align:right;vertical-align:bottom;border:.5pt solid windowtext;border-top:none;border-left:none;\">3</td>\n",
    "        </tr>\n",
    "        <tr>\n",
    "            <td style=\"color:black;font-size:15px;font-weight:400;font-style:normal;text-decoration:none;font-family:Calibri, sans-serif;text-align:right;vertical-align:bottom;border:.5pt solid windowtext;height:14.25pt;border-top:none;\">2.6</td>\n",
    "            <td style=\"color:black;font-size:15px;font-weight:400;font-style:normal;text-decoration:none;font-family:Calibri, sans-serif;text-align:right;vertical-align:bottom;border:.5pt solid windowtext;border-top:none;border-left:none;\">2</td>\n",
    "        </tr>\n",
    "        <tr>\n",
    "            <td style=\"color:black;font-size:15px;font-weight:400;font-style:normal;text-decoration:none;font-family:Calibri, sans-serif;text-align:right;vertical-align:bottom;border:.5pt solid windowtext;height:14.25pt;border-top:none;\">2.7</td>\n",
    "            <td style=\"color:black;font-size:15px;font-weight:400;font-style:normal;text-decoration:none;font-family:Calibri, sans-serif;text-align:right;vertical-align:bottom;border:.5pt solid windowtext;border-top:none;border-left:none;\">3</td>\n",
    "        </tr>\n",
    "        <tr>\n",
    "            <td style=\"color:black;font-size:15px;font-weight:400;font-style:normal;text-decoration:none;font-family:Calibri, sans-serif;text-align:right;vertical-align:bottom;border:.5pt solid windowtext;height:14.25pt;border-top:none;\">2.8</td>\n",
    "            <td style=\"color:black;font-size:15px;font-weight:400;font-style:normal;text-decoration:none;font-family:Calibri, sans-serif;text-align:right;vertical-align:bottom;border:.5pt solid windowtext;border-top:none;border-left:none;\">2</td>\n",
    "        </tr>\n",
    "        <tr>\n",
    "            <td style=\"color:black;font-size:15px;font-weight:400;font-style:normal;text-decoration:none;font-family:Calibri, sans-serif;text-align:right;vertical-align:bottom;border:.5pt solid windowtext;height:14.25pt;border-top:none;\">2.9</td>\n",
    "            <td style=\"color:black;font-size:15px;font-weight:400;font-style:normal;text-decoration:none;font-family:Calibri, sans-serif;text-align:right;vertical-align:bottom;border:.5pt solid windowtext;border-top:none;border-left:none;\">1</td>\n",
    "        </tr>\n",
    "        <tr>\n",
    "            <td style=\"color:black;font-size:15px;font-weight:400;font-style:normal;text-decoration:none;font-family:Calibri, sans-serif;text-align:right;vertical-align:bottom;border:.5pt solid windowtext;height:14.25pt;border-top:none;\">2.10</td>\n",
    "            <td style=\"color:black;font-size:15px;font-weight:400;font-style:normal;text-decoration:none;font-family:Calibri, sans-serif;text-align:right;vertical-align:bottom;border:.5pt solid windowtext;border-top:none;border-left:none;\">1.5</td>\n",
    "        </tr>\n",
    "        <tr>\n",
    "            <td style=\"color:black;font-size:15px;font-weight:400;font-style:normal;text-decoration:none;font-family:Calibri, sans-serif;text-align:right;vertical-align:bottom;border:.5pt solid windowtext;height:14.25pt;border-top:none;\">3.1.1</td>\n",
    "            <td style=\"color:black;font-size:15px;font-weight:400;font-style:normal;text-decoration:none;font-family:Calibri, sans-serif;text-align:right;vertical-align:bottom;border:.5pt solid windowtext;border-top:none;border-left:none;\">1.5</td>\n",
    "        </tr>\n",
    "        <tr>\n",
    "            <td style=\"color:black;font-size:15px;font-weight:400;font-style:normal;text-decoration:none;font-family:Calibri, sans-serif;text-align:right;vertical-align:bottom;border:.5pt solid windowtext;height:14.25pt;border-top:none;\">3.1.2</td>\n",
    "            <td style=\"color:black;font-size:15px;font-weight:400;font-style:normal;text-decoration:none;font-family:Calibri, sans-serif;text-align:right;vertical-align:bottom;border:.5pt solid windowtext;border-top:none;border-left:none;\">2</td>\n",
    "        </tr>\n",
    "        <tr>\n",
    "            <td style=\"color:black;font-size:15px;font-weight:400;font-style:normal;text-decoration:none;font-family:Calibri, sans-serif;text-align:right;vertical-align:bottom;border:.5pt solid windowtext;height:14.25pt;border-top:none;\">3.1.3</td>\n",
    "            <td style=\"color:black;font-size:15px;font-weight:400;font-style:normal;text-decoration:none;font-family:Calibri, sans-serif;text-align:right;vertical-align:bottom;border:.5pt solid windowtext;border-top:none;border-left:none;\">2</td>\n",
    "        </tr>\n",
    "        <tr>\n",
    "            <td style=\"color:black;font-size:15px;font-weight:400;font-style:normal;text-decoration:none;font-family:Calibri, sans-serif;text-align:right;vertical-align:bottom;border:.5pt solid windowtext;height:14.25pt;border-top:none;\">3.1.4</td>\n",
    "            <td style=\"color:black;font-size:15px;font-weight:400;font-style:normal;text-decoration:none;font-family:Calibri, sans-serif;text-align:right;vertical-align:bottom;border:.5pt solid windowtext;border-top:none;border-left:none;\">1.5</td>\n",
    "        </tr>\n",
    "        <tr>\n",
    "            <td style=\"color:black;font-size:15px;font-weight:400;font-style:normal;text-decoration:none;font-family:Calibri, sans-serif;text-align:right;vertical-align:bottom;border:.5pt solid windowtext;height:14.25pt;border-top:none;\">3.2.1</td>\n",
    "            <td style=\"color:black;font-size:15px;font-weight:400;font-style:normal;text-decoration:none;font-family:Calibri, sans-serif;text-align:right;vertical-align:bottom;border:.5pt solid windowtext;border-top:none;border-left:none;\">1.5</td>\n",
    "        </tr>\n",
    "        <tr>\n",
    "            <td style=\"color:black;font-size:15px;font-weight:400;font-style:normal;text-decoration:none;font-family:Calibri, sans-serif;text-align:right;vertical-align:bottom;border:.5pt solid windowtext;height:14.25pt;border-top:none;\">3.2.2</td>\n",
    "            <td style=\"color:black;font-size:15px;font-weight:400;font-style:normal;text-decoration:none;font-family:Calibri, sans-serif;text-align:right;vertical-align:bottom;border:.5pt solid windowtext;border-top:none;border-left:none;\">1.5</td>\n",
    "        </tr>\n",
    "        <tr>\n",
    "            <td style=\"color:black;font-size:15px;font-weight:400;font-style:normal;text-decoration:none;font-family:Calibri, sans-serif;text-align:right;vertical-align:bottom;border:.5pt solid windowtext;height:14.25pt;border-top:none;\">3.2.3</td>\n",
    "            <td style=\"color:black;font-size:15px;font-weight:400;font-style:normal;text-decoration:none;font-family:Calibri, sans-serif;text-align:right;vertical-align:bottom;border:.5pt solid windowtext;border-top:none;border-left:none;\">2</td>\n",
    "        </tr>\n",
    "        <tr>\n",
    "            <td style=\"color:black;font-size:15px;font-weight:400;font-style:normal;text-decoration:none;font-family:Calibri, sans-serif;text-align:right;vertical-align:bottom;border:.5pt solid windowtext;height:14.25pt;border-top:none;\">3.3.1</td>\n",
    "            <td style=\"color:black;font-size:15px;font-weight:400;font-style:normal;text-decoration:none;font-family:Calibri, sans-serif;text-align:right;vertical-align:bottom;border:.5pt solid windowtext;border-top:none;border-left:none;\">1.5</td>\n",
    "        </tr>\n",
    "        <tr>\n",
    "            <td style=\"color:black;font-size:15px;font-weight:400;font-style:normal;text-decoration:none;font-family:Calibri, sans-serif;text-align:right;vertical-align:bottom;border:.5pt solid windowtext;height:14.25pt;border-top:none;\">3.3.2</td>\n",
    "            <td style=\"color:black;font-size:15px;font-weight:400;font-style:normal;text-decoration:none;font-family:Calibri, sans-serif;text-align:right;vertical-align:bottom;border:.5pt solid windowtext;border-top:none;border-left:none;\">1.5</td>\n",
    "        </tr>\n",
    "        <tr>\n",
    "            <td style=\"color:black;font-size:15px;font-weight:400;font-style:normal;text-decoration:none;font-family:Calibri, sans-serif;text-align:right;vertical-align:bottom;border:.5pt solid windowtext;height:14.25pt;border-top:none;\">3.3.3</td>\n",
    "            <td style=\"color:black;font-size:15px;font-weight:400;font-style:normal;text-decoration:none;font-family:Calibri, sans-serif;text-align:right;vertical-align:bottom;border:.5pt solid windowtext;border-top:none;border-left:none;\">1.5</td>\n",
    "        </tr>\n",
    "        <tr>\n",
    "            <td style=\"color:black;font-size:15px;font-weight:400;font-style:normal;text-decoration:none;font-family:Calibri, sans-serif;text-align:right;vertical-align:bottom;border:.5pt solid windowtext;height:14.25pt;border-top:none;\">3.3.4</td>\n",
    "            <td style=\"color:black;font-size:15px;font-weight:400;font-style:normal;text-decoration:none;font-family:Calibri, sans-serif;text-align:right;vertical-align:bottom;border:.5pt solid windowtext;border-top:none;border-left:none;\">2</td>\n",
    "        </tr>\n",
    "        <tr>\n",
    "            <td style=\"color:black;font-size:15px;font-weight:400;font-style:normal;text-decoration:none;font-family:Calibri, sans-serif;text-align:right;vertical-align:bottom;border:.5pt solid windowtext;height:14.25pt;border-top:none;\">3.3.5</td>\n",
    "            <td style=\"color:black;font-size:15px;font-weight:400;font-style:normal;text-decoration:none;font-family:Calibri, sans-serif;text-align:right;vertical-align:bottom;border:.5pt solid windowtext;border-top:none;border-left:none;\">2</td>\n",
    "        </tr>\n",
    "        <tr>\n",
    "            <td style=\"color:black;font-size:15px;font-weight:400;font-style:normal;text-decoration:none;font-family:Calibri, sans-serif;text-align:right;vertical-align:bottom;border:.5pt solid windowtext;height:14.25pt;border-top:none;\">3.4.1</td>\n",
    "            <td style=\"color:black;font-size:15px;font-weight:400;font-style:normal;text-decoration:none;font-family:Calibri, sans-serif;text-align:right;vertical-align:bottom;border:.5pt solid windowtext;border-top:none;border-left:none;\">5</td>\n",
    "        </tr>\n",
    "        <tr>\n",
    "            <td style=\"color:black;font-size:15px;font-weight:400;font-style:normal;text-decoration:none;font-family:Calibri, sans-serif;text-align:right;vertical-align:bottom;border:.5pt solid windowtext;height:14.25pt;border-top:none;\">3.4.2</td>\n",
    "            <td style=\"color:black;font-size:15px;font-weight:400;font-style:normal;text-decoration:none;font-family:Calibri, sans-serif;text-align:right;vertical-align:bottom;border:.5pt solid windowtext;border-top:none;border-left:none;\">3</td>\n",
    "        </tr>\n",
    "        <tr>\n",
    "            <td style=\"color:black;font-size:15px;font-weight:400;font-style:normal;text-decoration:none;font-family:Calibri, sans-serif;text-align:right;vertical-align:bottom;border:.5pt solid windowtext;height:14.25pt;border-top:none;\">3.4.3</td>\n",
    "            <td style=\"color:black;font-size:15px;font-weight:400;font-style:normal;text-decoration:none;font-family:Calibri, sans-serif;text-align:right;vertical-align:bottom;border:.5pt solid windowtext;border-top:none;border-left:none;\">3</td>\n",
    "        </tr>\n",
    "        <tr>\n",
    "            <td style=\"color:black;font-size:15px;font-weight:400;font-style:normal;text-decoration:none;font-family:Calibri, sans-serif;text-align:right;vertical-align:bottom;border:.5pt solid windowtext;height:14.25pt;border-top:none;\">3.5.1</td>\n",
    "            <td style=\"color:black;font-size:15px;font-weight:400;font-style:normal;text-decoration:none;font-family:Calibri, sans-serif;text-align:right;vertical-align:bottom;border:.5pt solid windowtext;border-top:none;border-left:none;\">3</td>\n",
    "        </tr>\n",
    "        <tr>\n",
    "            <td style=\"color:black;font-size:15px;font-weight:400;font-style:normal;text-decoration:none;font-family:Calibri, sans-serif;text-align:right;vertical-align:bottom;border:.5pt solid windowtext;height:14.25pt;border-top:none;\">3.5.2</td>\n",
    "            <td style=\"color:black;font-size:15px;font-weight:400;font-style:normal;text-decoration:none;font-family:Calibri, sans-serif;text-align:right;vertical-align:bottom;border:.5pt solid windowtext;border-top:none;border-left:none;\">1.5</td>\n",
    "        </tr>\n",
    "        <tr>\n",
    "            <td style=\"color:black;font-size:15px;font-weight:400;font-style:normal;text-decoration:none;font-family:Calibri, sans-serif;text-align:right;vertical-align:bottom;border:.5pt solid windowtext;height:14.25pt;border-top:none;\">4.1</td>\n",
    "            <td style=\"color:black;font-size:15px;font-weight:400;font-style:normal;text-decoration:none;font-family:Calibri, sans-serif;text-align:right;vertical-align:bottom;border:.5pt solid windowtext;border-top:none;border-left:none;\">3</td>\n",
    "        </tr>\n",
    "        <tr>\n",
    "            <td style=\"color:black;font-size:15px;font-weight:400;font-style:normal;text-decoration:none;font-family:Calibri, sans-serif;text-align:right;vertical-align:bottom;border:.5pt solid windowtext;height:14.25pt;border-top:none;\">4.2</td>\n",
    "            <td style=\"color:black;font-size:15px;font-weight:400;font-style:normal;text-decoration:none;font-family:Calibri, sans-serif;text-align:right;vertical-align:bottom;border:.5pt solid windowtext;border-top:none;border-left:none;\">2</td>\n",
    "        </tr>\n",
    "    </tbody>\n",
    "</table>\n",
    "\n",
    "\n",
    "## <u>UIUC Academic Integrity Policy</u>\n",
    "## <font style=\"color:red\">WRITE YOUR FULL NAME BELOW BEFORE BEGINNING </font>\n",
    "\n",
    "This is a an open notes takehome exam. <font style=\"color:red\">**However, you are not allowed to discuss this exam, open someone else's exam, or share/send your exam to anyone else except for Dr. Ellison until after the 24 hour exam period is over.**</font>\n",
    "\n",
    "By writing your full name in the textbox below you are indicating that you have read and are aware of the academic dishonesty policies http://courses.las.illinois.edu/fall2022/stat207/syllabus.html which indicates that <font style=\"color:red\">evidence of cheating on the exam results in an automatic F in the course. </font>\n"
   ]
  },
  {
   "cell_type": "markdown",
   "metadata": {},
   "source": [
    "Elizabeth Binkina"
   ]
  },
  {
   "cell_type": "markdown",
   "metadata": {},
   "source": [
    "## 👏PS: You got this!👏"
   ]
  },
  {
   "cell_type": "markdown",
   "metadata": {},
   "source": [
    "### Imports"
   ]
  },
  {
   "cell_type": "code",
   "execution_count": 3,
   "metadata": {},
   "outputs": [],
   "source": [
    "import pandas as pd\n",
    "import numpy as np\n",
    "import matplotlib.pyplot as plt\n",
    "\n",
    "from scipy.stats import bernoulli\n",
    "from scipy.stats import binom\n",
    "from scipy.stats import norm\n",
    "from scipy import stats\n",
    "from scipy.stats import t\n",
    "\n",
    "import statsmodels.api as sm\n",
    "import statsmodels.formula.api as smf\n",
    "\n",
    "import seaborn as sns; sns.set()\n",
    "\n",
    "\n",
    "import math"
   ]
  },
  {
   "cell_type": "markdown",
   "metadata": {},
   "source": [
    "## 1. Data Processing and Exploration\n",
    "\n",
    "### 1.1. Data Processing\n",
    "\n",
    "Read the **nc_births.csv** file into a dataframe. Show how many rows this dataframe has and display the first five rows.\n",
    "\n",
    "**This dataset has no missing values**."
   ]
  },
  {
   "cell_type": "code",
   "execution_count": 4,
   "metadata": {},
   "outputs": [
    {
     "data": {
      "text/html": [
       "<div>\n",
       "<style scoped>\n",
       "    .dataframe tbody tr th:only-of-type {\n",
       "        vertical-align: middle;\n",
       "    }\n",
       "\n",
       "    .dataframe tbody tr th {\n",
       "        vertical-align: top;\n",
       "    }\n",
       "\n",
       "    .dataframe thead th {\n",
       "        text-align: right;\n",
       "    }\n",
       "</style>\n",
       "<table border=\"1\" class=\"dataframe\">\n",
       "  <thead>\n",
       "    <tr style=\"text-align: right;\">\n",
       "      <th></th>\n",
       "      <th>mother_age</th>\n",
       "      <th>mature</th>\n",
       "      <th>weeks</th>\n",
       "      <th>visits</th>\n",
       "      <th>marital</th>\n",
       "      <th>gained</th>\n",
       "      <th>weight</th>\n",
       "      <th>gender</th>\n",
       "      <th>habit</th>\n",
       "    </tr>\n",
       "  </thead>\n",
       "  <tbody>\n",
       "    <tr>\n",
       "      <th>0</th>\n",
       "      <td>13</td>\n",
       "      <td>younger mom</td>\n",
       "      <td>39</td>\n",
       "      <td>10</td>\n",
       "      <td>not married</td>\n",
       "      <td>38</td>\n",
       "      <td>7.63</td>\n",
       "      <td>male</td>\n",
       "      <td>nonsmoker</td>\n",
       "    </tr>\n",
       "    <tr>\n",
       "      <th>1</th>\n",
       "      <td>14</td>\n",
       "      <td>younger mom</td>\n",
       "      <td>42</td>\n",
       "      <td>15</td>\n",
       "      <td>not married</td>\n",
       "      <td>20</td>\n",
       "      <td>7.88</td>\n",
       "      <td>male</td>\n",
       "      <td>nonsmoker</td>\n",
       "    </tr>\n",
       "    <tr>\n",
       "      <th>2</th>\n",
       "      <td>15</td>\n",
       "      <td>younger mom</td>\n",
       "      <td>37</td>\n",
       "      <td>11</td>\n",
       "      <td>not married</td>\n",
       "      <td>38</td>\n",
       "      <td>6.63</td>\n",
       "      <td>female</td>\n",
       "      <td>nonsmoker</td>\n",
       "    </tr>\n",
       "    <tr>\n",
       "      <th>3</th>\n",
       "      <td>15</td>\n",
       "      <td>younger mom</td>\n",
       "      <td>41</td>\n",
       "      <td>6</td>\n",
       "      <td>not married</td>\n",
       "      <td>34</td>\n",
       "      <td>8.00</td>\n",
       "      <td>male</td>\n",
       "      <td>nonsmoker</td>\n",
       "    </tr>\n",
       "    <tr>\n",
       "      <th>4</th>\n",
       "      <td>15</td>\n",
       "      <td>younger mom</td>\n",
       "      <td>39</td>\n",
       "      <td>9</td>\n",
       "      <td>not married</td>\n",
       "      <td>27</td>\n",
       "      <td>6.38</td>\n",
       "      <td>female</td>\n",
       "      <td>nonsmoker</td>\n",
       "    </tr>\n",
       "  </tbody>\n",
       "</table>\n",
       "</div>"
      ],
      "text/plain": [
       "   mother_age       mature  weeks  visits      marital  gained  weight  \\\n",
       "0          13  younger mom     39      10  not married      38    7.63   \n",
       "1          14  younger mom     42      15  not married      20    7.88   \n",
       "2          15  younger mom     37      11  not married      38    6.63   \n",
       "3          15  younger mom     41       6  not married      34    8.00   \n",
       "4          15  younger mom     39       9  not married      27    6.38   \n",
       "\n",
       "   gender      habit  \n",
       "0    male  nonsmoker  \n",
       "1    male  nonsmoker  \n",
       "2  female  nonsmoker  \n",
       "3    male  nonsmoker  \n",
       "4  female  nonsmoker  "
      ]
     },
     "execution_count": 4,
     "metadata": {},
     "output_type": "execute_result"
    }
   ],
   "source": [
    "df = pd.read_csv('nc_births.csv')\n",
    "df.head()"
   ]
  },
  {
   "cell_type": "code",
   "execution_count": 5,
   "metadata": {},
   "outputs": [
    {
     "data": {
      "text/plain": [
       "964"
      ]
     },
     "execution_count": 5,
     "metadata": {},
     "output_type": "execute_result"
    }
   ],
   "source": [
    "number_of_rows = df.shape[0]\n",
    "number_of_rows"
   ]
  },
  {
   "cell_type": "markdown",
   "metadata": {},
   "source": [
    "### 1.2. Determining the \"Thresholds\" Used\n",
    "\n",
    "The repository that this csv file came from, unfortunately did not say what age threshold was used in order to classify a mother as a \"younger mom\" or \"mature mom.\" But we can actually figure out what this threshold was based on the age variable that we have. What age threshold did they use?"
   ]
  },
  {
   "cell_type": "code",
   "execution_count": 6,
   "metadata": {},
   "outputs": [
    {
     "data": {
      "text/html": [
       "<div>\n",
       "<style scoped>\n",
       "    .dataframe tbody tr th:only-of-type {\n",
       "        vertical-align: middle;\n",
       "    }\n",
       "\n",
       "    .dataframe tbody tr th {\n",
       "        vertical-align: top;\n",
       "    }\n",
       "\n",
       "    .dataframe thead th {\n",
       "        text-align: right;\n",
       "    }\n",
       "</style>\n",
       "<table border=\"1\" class=\"dataframe\">\n",
       "  <thead>\n",
       "    <tr style=\"text-align: right;\">\n",
       "      <th></th>\n",
       "      <th>mother_age</th>\n",
       "      <th>weeks</th>\n",
       "      <th>visits</th>\n",
       "      <th>gained</th>\n",
       "      <th>weight</th>\n",
       "    </tr>\n",
       "  </thead>\n",
       "  <tbody>\n",
       "    <tr>\n",
       "      <th>count</th>\n",
       "      <td>901.000000</td>\n",
       "      <td>901.000000</td>\n",
       "      <td>901.000000</td>\n",
       "      <td>901.000000</td>\n",
       "      <td>901.000000</td>\n",
       "    </tr>\n",
       "    <tr>\n",
       "      <th>mean</th>\n",
       "      <td>26.190899</td>\n",
       "      <td>38.417314</td>\n",
       "      <td>12.145394</td>\n",
       "      <td>30.348502</td>\n",
       "      <td>7.130344</td>\n",
       "    </tr>\n",
       "    <tr>\n",
       "      <th>std</th>\n",
       "      <td>5.488085</td>\n",
       "      <td>2.751785</td>\n",
       "      <td>3.891009</td>\n",
       "      <td>14.292678</td>\n",
       "      <td>1.457386</td>\n",
       "    </tr>\n",
       "    <tr>\n",
       "      <th>min</th>\n",
       "      <td>13.000000</td>\n",
       "      <td>22.000000</td>\n",
       "      <td>0.000000</td>\n",
       "      <td>0.000000</td>\n",
       "      <td>1.000000</td>\n",
       "    </tr>\n",
       "    <tr>\n",
       "      <th>25%</th>\n",
       "      <td>22.000000</td>\n",
       "      <td>37.000000</td>\n",
       "      <td>10.000000</td>\n",
       "      <td>20.000000</td>\n",
       "      <td>6.440000</td>\n",
       "    </tr>\n",
       "    <tr>\n",
       "      <th>50%</th>\n",
       "      <td>26.000000</td>\n",
       "      <td>39.000000</td>\n",
       "      <td>12.000000</td>\n",
       "      <td>30.000000</td>\n",
       "      <td>7.310000</td>\n",
       "    </tr>\n",
       "    <tr>\n",
       "      <th>75%</th>\n",
       "      <td>31.000000</td>\n",
       "      <td>40.000000</td>\n",
       "      <td>15.000000</td>\n",
       "      <td>38.000000</td>\n",
       "      <td>8.060000</td>\n",
       "    </tr>\n",
       "    <tr>\n",
       "      <th>max</th>\n",
       "      <td>36.000000</td>\n",
       "      <td>45.000000</td>\n",
       "      <td>30.000000</td>\n",
       "      <td>85.000000</td>\n",
       "      <td>11.750000</td>\n",
       "    </tr>\n",
       "  </tbody>\n",
       "</table>\n",
       "</div>"
      ],
      "text/plain": [
       "       mother_age       weeks      visits      gained      weight\n",
       "count  901.000000  901.000000  901.000000  901.000000  901.000000\n",
       "mean    26.190899   38.417314   12.145394   30.348502    7.130344\n",
       "std      5.488085    2.751785    3.891009   14.292678    1.457386\n",
       "min     13.000000   22.000000    0.000000    0.000000    1.000000\n",
       "25%     22.000000   37.000000   10.000000   20.000000    6.440000\n",
       "50%     26.000000   39.000000   12.000000   30.000000    7.310000\n",
       "75%     31.000000   40.000000   15.000000   38.000000    8.060000\n",
       "max     36.000000   45.000000   30.000000   85.000000   11.750000"
      ]
     },
     "execution_count": 6,
     "metadata": {},
     "output_type": "execute_result"
    }
   ],
   "source": [
    "df_younger_mom = df[df.mature == 'younger mom']\n",
    "df_younger_mom.describe()"
   ]
  },
  {
   "cell_type": "code",
   "execution_count": 7,
   "metadata": {},
   "outputs": [
    {
     "data": {
      "text/html": [
       "<div>\n",
       "<style scoped>\n",
       "    .dataframe tbody tr th:only-of-type {\n",
       "        vertical-align: middle;\n",
       "    }\n",
       "\n",
       "    .dataframe tbody tr th {\n",
       "        vertical-align: top;\n",
       "    }\n",
       "\n",
       "    .dataframe thead th {\n",
       "        text-align: right;\n",
       "    }\n",
       "</style>\n",
       "<table border=\"1\" class=\"dataframe\">\n",
       "  <thead>\n",
       "    <tr style=\"text-align: right;\">\n",
       "      <th></th>\n",
       "      <th>mother_age</th>\n",
       "      <th>weeks</th>\n",
       "      <th>visits</th>\n",
       "      <th>gained</th>\n",
       "      <th>weight</th>\n",
       "    </tr>\n",
       "  </thead>\n",
       "  <tbody>\n",
       "    <tr>\n",
       "      <th>count</th>\n",
       "      <td>63.000000</td>\n",
       "      <td>63.000000</td>\n",
       "      <td>63.000000</td>\n",
       "      <td>63.000000</td>\n",
       "      <td>63.000000</td>\n",
       "    </tr>\n",
       "    <tr>\n",
       "      <th>mean</th>\n",
       "      <td>38.873016</td>\n",
       "      <td>38.126984</td>\n",
       "      <td>12.952381</td>\n",
       "      <td>30.301587</td>\n",
       "      <td>7.121270</td>\n",
       "    </tr>\n",
       "    <tr>\n",
       "      <th>std</th>\n",
       "      <td>2.432920</td>\n",
       "      <td>3.769539</td>\n",
       "      <td>4.097318</td>\n",
       "      <td>12.891151</td>\n",
       "      <td>1.699618</td>\n",
       "    </tr>\n",
       "    <tr>\n",
       "      <th>min</th>\n",
       "      <td>37.000000</td>\n",
       "      <td>20.000000</td>\n",
       "      <td>5.000000</td>\n",
       "      <td>0.000000</td>\n",
       "      <td>1.380000</td>\n",
       "    </tr>\n",
       "    <tr>\n",
       "      <th>25%</th>\n",
       "      <td>37.000000</td>\n",
       "      <td>38.000000</td>\n",
       "      <td>10.500000</td>\n",
       "      <td>23.000000</td>\n",
       "      <td>6.220000</td>\n",
       "    </tr>\n",
       "    <tr>\n",
       "      <th>50%</th>\n",
       "      <td>38.000000</td>\n",
       "      <td>39.000000</td>\n",
       "      <td>13.000000</td>\n",
       "      <td>29.000000</td>\n",
       "      <td>7.310000</td>\n",
       "    </tr>\n",
       "    <tr>\n",
       "      <th>75%</th>\n",
       "      <td>40.000000</td>\n",
       "      <td>40.000000</td>\n",
       "      <td>15.000000</td>\n",
       "      <td>37.000000</td>\n",
       "      <td>8.345000</td>\n",
       "    </tr>\n",
       "    <tr>\n",
       "      <th>max</th>\n",
       "      <td>50.000000</td>\n",
       "      <td>44.000000</td>\n",
       "      <td>30.000000</td>\n",
       "      <td>70.000000</td>\n",
       "      <td>10.130000</td>\n",
       "    </tr>\n",
       "  </tbody>\n",
       "</table>\n",
       "</div>"
      ],
      "text/plain": [
       "       mother_age      weeks     visits     gained     weight\n",
       "count   63.000000  63.000000  63.000000  63.000000  63.000000\n",
       "mean    38.873016  38.126984  12.952381  30.301587   7.121270\n",
       "std      2.432920   3.769539   4.097318  12.891151   1.699618\n",
       "min     37.000000  20.000000   5.000000   0.000000   1.380000\n",
       "25%     37.000000  38.000000  10.500000  23.000000   6.220000\n",
       "50%     38.000000  39.000000  13.000000  29.000000   7.310000\n",
       "75%     40.000000  40.000000  15.000000  37.000000   8.345000\n",
       "max     50.000000  44.000000  30.000000  70.000000  10.130000"
      ]
     },
     "execution_count": 7,
     "metadata": {},
     "output_type": "execute_result"
    }
   ],
   "source": [
    "df_mature_mom = df[df.mature == 'mature mom']\n",
    "df_mature_mom.describe()\n"
   ]
  },
  {
   "cell_type": "markdown",
   "metadata": {},
   "source": [
    "* The threshold for younger moms is 13 - 36\n",
    "* The threshold for younger moms is 37 - 50"
   ]
  },
  {
   "cell_type": "markdown",
   "metadata": {},
   "source": [
    "## <u>Research Goal 1</u>: Assessing <u>Association</u> between <u>Mother Smoking Behavior</u> and <u>Child Birth Weight</u> for NC Babies\n",
    "\n",
    "For our first reasearch question, we would like to determine if we have sufficient evidence to suggest that there is an <u>association</u> between **mother smoking behavior** and **child birth weight** in *ALL North Carolina births*.\n",
    "\n",
    "To specifically answer this question, we would like to determine if there is sufficient evidence to suggest that the average weight of ALL North Carolina babies born to *smoker mothers* is different from the average weight of ALL North Carolina babies born to *nonsmoker mothers*.\n",
    "\n",
    "\n",
    "### 2.1. Hypotheses\n",
    "\n",
    "Set up your hypotheses for this test that will answer this question. Make sure that you define any parameters that you use."
   ]
  },
  {
   "cell_type": "markdown",
   "metadata": {},
   "source": [
    "Ho: There is no association between mother smoking behavior and child birth weight in All North Carolina births\n",
    "\n",
    "Msmoker - Mnon-smoker = 0 \n",
    "\n",
    "Ha :There is no association between mother smoking behavior and child birth weight in All North Carolina births\n",
    "\n",
    "Msmoker - Mnon-smoker != 0 "
   ]
  },
  {
   "cell_type": "markdown",
   "metadata": {},
   "source": [
    "### 2.2. Smoker and Non-Smoker Samples Exploration\n",
    "\n",
    "#### 2.2.1. Smoker and Non-Smoker Samples\n",
    "\n",
    "Create two new dataframes, one that is comprised of the babies with smoker mothers and one that is comprised of the babies with non-smoker mothers."
   ]
  },
  {
   "cell_type": "code",
   "execution_count": 8,
   "metadata": {},
   "outputs": [
    {
     "data": {
      "text/html": [
       "<div>\n",
       "<style scoped>\n",
       "    .dataframe tbody tr th:only-of-type {\n",
       "        vertical-align: middle;\n",
       "    }\n",
       "\n",
       "    .dataframe tbody tr th {\n",
       "        vertical-align: top;\n",
       "    }\n",
       "\n",
       "    .dataframe thead th {\n",
       "        text-align: right;\n",
       "    }\n",
       "</style>\n",
       "<table border=\"1\" class=\"dataframe\">\n",
       "  <thead>\n",
       "    <tr style=\"text-align: right;\">\n",
       "      <th></th>\n",
       "      <th>mother_age</th>\n",
       "      <th>mature</th>\n",
       "      <th>weeks</th>\n",
       "      <th>visits</th>\n",
       "      <th>marital</th>\n",
       "      <th>gained</th>\n",
       "      <th>weight</th>\n",
       "      <th>gender</th>\n",
       "      <th>habit</th>\n",
       "    </tr>\n",
       "  </thead>\n",
       "  <tbody>\n",
       "    <tr>\n",
       "      <th>13</th>\n",
       "      <td>16</td>\n",
       "      <td>younger mom</td>\n",
       "      <td>38</td>\n",
       "      <td>15</td>\n",
       "      <td>not married</td>\n",
       "      <td>75</td>\n",
       "      <td>7.56</td>\n",
       "      <td>female</td>\n",
       "      <td>smoker</td>\n",
       "    </tr>\n",
       "    <tr>\n",
       "      <th>14</th>\n",
       "      <td>16</td>\n",
       "      <td>younger mom</td>\n",
       "      <td>40</td>\n",
       "      <td>7</td>\n",
       "      <td>not married</td>\n",
       "      <td>35</td>\n",
       "      <td>6.88</td>\n",
       "      <td>male</td>\n",
       "      <td>smoker</td>\n",
       "    </tr>\n",
       "    <tr>\n",
       "      <th>15</th>\n",
       "      <td>16</td>\n",
       "      <td>younger mom</td>\n",
       "      <td>40</td>\n",
       "      <td>12</td>\n",
       "      <td>not married</td>\n",
       "      <td>9</td>\n",
       "      <td>5.81</td>\n",
       "      <td>female</td>\n",
       "      <td>smoker</td>\n",
       "    </tr>\n",
       "    <tr>\n",
       "      <th>29</th>\n",
       "      <td>17</td>\n",
       "      <td>younger mom</td>\n",
       "      <td>42</td>\n",
       "      <td>8</td>\n",
       "      <td>not married</td>\n",
       "      <td>72</td>\n",
       "      <td>7.44</td>\n",
       "      <td>male</td>\n",
       "      <td>smoker</td>\n",
       "    </tr>\n",
       "    <tr>\n",
       "      <th>60</th>\n",
       "      <td>18</td>\n",
       "      <td>younger mom</td>\n",
       "      <td>40</td>\n",
       "      <td>14</td>\n",
       "      <td>married</td>\n",
       "      <td>47</td>\n",
       "      <td>7.06</td>\n",
       "      <td>female</td>\n",
       "      <td>smoker</td>\n",
       "    </tr>\n",
       "    <tr>\n",
       "      <th>...</th>\n",
       "      <td>...</td>\n",
       "      <td>...</td>\n",
       "      <td>...</td>\n",
       "      <td>...</td>\n",
       "      <td>...</td>\n",
       "      <td>...</td>\n",
       "      <td>...</td>\n",
       "      <td>...</td>\n",
       "      <td>...</td>\n",
       "    </tr>\n",
       "    <tr>\n",
       "      <th>920</th>\n",
       "      <td>37</td>\n",
       "      <td>mature mom</td>\n",
       "      <td>39</td>\n",
       "      <td>5</td>\n",
       "      <td>not married</td>\n",
       "      <td>20</td>\n",
       "      <td>8.19</td>\n",
       "      <td>female</td>\n",
       "      <td>smoker</td>\n",
       "    </tr>\n",
       "    <tr>\n",
       "      <th>936</th>\n",
       "      <td>38</td>\n",
       "      <td>mature mom</td>\n",
       "      <td>32</td>\n",
       "      <td>10</td>\n",
       "      <td>not married</td>\n",
       "      <td>16</td>\n",
       "      <td>2.19</td>\n",
       "      <td>female</td>\n",
       "      <td>smoker</td>\n",
       "    </tr>\n",
       "    <tr>\n",
       "      <th>941</th>\n",
       "      <td>39</td>\n",
       "      <td>mature mom</td>\n",
       "      <td>38</td>\n",
       "      <td>16</td>\n",
       "      <td>not married</td>\n",
       "      <td>25</td>\n",
       "      <td>6.06</td>\n",
       "      <td>female</td>\n",
       "      <td>smoker</td>\n",
       "    </tr>\n",
       "    <tr>\n",
       "      <th>942</th>\n",
       "      <td>39</td>\n",
       "      <td>mature mom</td>\n",
       "      <td>38</td>\n",
       "      <td>10</td>\n",
       "      <td>not married</td>\n",
       "      <td>35</td>\n",
       "      <td>6.75</td>\n",
       "      <td>male</td>\n",
       "      <td>smoker</td>\n",
       "    </tr>\n",
       "    <tr>\n",
       "      <th>943</th>\n",
       "      <td>39</td>\n",
       "      <td>mature mom</td>\n",
       "      <td>33</td>\n",
       "      <td>6</td>\n",
       "      <td>not married</td>\n",
       "      <td>24</td>\n",
       "      <td>5.50</td>\n",
       "      <td>male</td>\n",
       "      <td>smoker</td>\n",
       "    </tr>\n",
       "  </tbody>\n",
       "</table>\n",
       "<p>121 rows × 9 columns</p>\n",
       "</div>"
      ],
      "text/plain": [
       "     mother_age       mature  weeks  visits      marital  gained  weight  \\\n",
       "13           16  younger mom     38      15  not married      75    7.56   \n",
       "14           16  younger mom     40       7  not married      35    6.88   \n",
       "15           16  younger mom     40      12  not married       9    5.81   \n",
       "29           17  younger mom     42       8  not married      72    7.44   \n",
       "60           18  younger mom     40      14      married      47    7.06   \n",
       "..          ...          ...    ...     ...          ...     ...     ...   \n",
       "920          37   mature mom     39       5  not married      20    8.19   \n",
       "936          38   mature mom     32      10  not married      16    2.19   \n",
       "941          39   mature mom     38      16  not married      25    6.06   \n",
       "942          39   mature mom     38      10  not married      35    6.75   \n",
       "943          39   mature mom     33       6  not married      24    5.50   \n",
       "\n",
       "     gender   habit  \n",
       "13   female  smoker  \n",
       "14     male  smoker  \n",
       "15   female  smoker  \n",
       "29     male  smoker  \n",
       "60   female  smoker  \n",
       "..      ...     ...  \n",
       "920  female  smoker  \n",
       "936  female  smoker  \n",
       "941  female  smoker  \n",
       "942    male  smoker  \n",
       "943    male  smoker  \n",
       "\n",
       "[121 rows x 9 columns]"
      ]
     },
     "execution_count": 8,
     "metadata": {},
     "output_type": "execute_result"
    }
   ],
   "source": [
    "df_smoker_mothers = df[df.habit == 'smoker']\n",
    "df_smoker_mothers"
   ]
  },
  {
   "cell_type": "code",
   "execution_count": 9,
   "metadata": {},
   "outputs": [
    {
     "data": {
      "text/html": [
       "<div>\n",
       "<style scoped>\n",
       "    .dataframe tbody tr th:only-of-type {\n",
       "        vertical-align: middle;\n",
       "    }\n",
       "\n",
       "    .dataframe tbody tr th {\n",
       "        vertical-align: top;\n",
       "    }\n",
       "\n",
       "    .dataframe thead th {\n",
       "        text-align: right;\n",
       "    }\n",
       "</style>\n",
       "<table border=\"1\" class=\"dataframe\">\n",
       "  <thead>\n",
       "    <tr style=\"text-align: right;\">\n",
       "      <th></th>\n",
       "      <th>mother_age</th>\n",
       "      <th>mature</th>\n",
       "      <th>weeks</th>\n",
       "      <th>visits</th>\n",
       "      <th>marital</th>\n",
       "      <th>gained</th>\n",
       "      <th>weight</th>\n",
       "      <th>gender</th>\n",
       "      <th>habit</th>\n",
       "    </tr>\n",
       "  </thead>\n",
       "  <tbody>\n",
       "    <tr>\n",
       "      <th>0</th>\n",
       "      <td>13</td>\n",
       "      <td>younger mom</td>\n",
       "      <td>39</td>\n",
       "      <td>10</td>\n",
       "      <td>not married</td>\n",
       "      <td>38</td>\n",
       "      <td>7.63</td>\n",
       "      <td>male</td>\n",
       "      <td>nonsmoker</td>\n",
       "    </tr>\n",
       "    <tr>\n",
       "      <th>1</th>\n",
       "      <td>14</td>\n",
       "      <td>younger mom</td>\n",
       "      <td>42</td>\n",
       "      <td>15</td>\n",
       "      <td>not married</td>\n",
       "      <td>20</td>\n",
       "      <td>7.88</td>\n",
       "      <td>male</td>\n",
       "      <td>nonsmoker</td>\n",
       "    </tr>\n",
       "    <tr>\n",
       "      <th>2</th>\n",
       "      <td>15</td>\n",
       "      <td>younger mom</td>\n",
       "      <td>37</td>\n",
       "      <td>11</td>\n",
       "      <td>not married</td>\n",
       "      <td>38</td>\n",
       "      <td>6.63</td>\n",
       "      <td>female</td>\n",
       "      <td>nonsmoker</td>\n",
       "    </tr>\n",
       "    <tr>\n",
       "      <th>3</th>\n",
       "      <td>15</td>\n",
       "      <td>younger mom</td>\n",
       "      <td>41</td>\n",
       "      <td>6</td>\n",
       "      <td>not married</td>\n",
       "      <td>34</td>\n",
       "      <td>8.00</td>\n",
       "      <td>male</td>\n",
       "      <td>nonsmoker</td>\n",
       "    </tr>\n",
       "    <tr>\n",
       "      <th>4</th>\n",
       "      <td>15</td>\n",
       "      <td>younger mom</td>\n",
       "      <td>39</td>\n",
       "      <td>9</td>\n",
       "      <td>not married</td>\n",
       "      <td>27</td>\n",
       "      <td>6.38</td>\n",
       "      <td>female</td>\n",
       "      <td>nonsmoker</td>\n",
       "    </tr>\n",
       "    <tr>\n",
       "      <th>...</th>\n",
       "      <td>...</td>\n",
       "      <td>...</td>\n",
       "      <td>...</td>\n",
       "      <td>...</td>\n",
       "      <td>...</td>\n",
       "      <td>...</td>\n",
       "      <td>...</td>\n",
       "      <td>...</td>\n",
       "      <td>...</td>\n",
       "    </tr>\n",
       "    <tr>\n",
       "      <th>959</th>\n",
       "      <td>42</td>\n",
       "      <td>mature mom</td>\n",
       "      <td>40</td>\n",
       "      <td>10</td>\n",
       "      <td>married</td>\n",
       "      <td>26</td>\n",
       "      <td>8.44</td>\n",
       "      <td>male</td>\n",
       "      <td>nonsmoker</td>\n",
       "    </tr>\n",
       "    <tr>\n",
       "      <th>960</th>\n",
       "      <td>42</td>\n",
       "      <td>mature mom</td>\n",
       "      <td>38</td>\n",
       "      <td>18</td>\n",
       "      <td>married</td>\n",
       "      <td>20</td>\n",
       "      <td>6.19</td>\n",
       "      <td>female</td>\n",
       "      <td>nonsmoker</td>\n",
       "    </tr>\n",
       "    <tr>\n",
       "      <th>961</th>\n",
       "      <td>45</td>\n",
       "      <td>mature mom</td>\n",
       "      <td>40</td>\n",
       "      <td>15</td>\n",
       "      <td>married</td>\n",
       "      <td>32</td>\n",
       "      <td>6.94</td>\n",
       "      <td>female</td>\n",
       "      <td>nonsmoker</td>\n",
       "    </tr>\n",
       "    <tr>\n",
       "      <th>962</th>\n",
       "      <td>46</td>\n",
       "      <td>mature mom</td>\n",
       "      <td>31</td>\n",
       "      <td>8</td>\n",
       "      <td>married</td>\n",
       "      <td>25</td>\n",
       "      <td>4.56</td>\n",
       "      <td>female</td>\n",
       "      <td>nonsmoker</td>\n",
       "    </tr>\n",
       "    <tr>\n",
       "      <th>963</th>\n",
       "      <td>50</td>\n",
       "      <td>mature mom</td>\n",
       "      <td>39</td>\n",
       "      <td>14</td>\n",
       "      <td>married</td>\n",
       "      <td>23</td>\n",
       "      <td>7.13</td>\n",
       "      <td>female</td>\n",
       "      <td>nonsmoker</td>\n",
       "    </tr>\n",
       "  </tbody>\n",
       "</table>\n",
       "<p>843 rows × 9 columns</p>\n",
       "</div>"
      ],
      "text/plain": [
       "     mother_age       mature  weeks  visits      marital  gained  weight  \\\n",
       "0            13  younger mom     39      10  not married      38    7.63   \n",
       "1            14  younger mom     42      15  not married      20    7.88   \n",
       "2            15  younger mom     37      11  not married      38    6.63   \n",
       "3            15  younger mom     41       6  not married      34    8.00   \n",
       "4            15  younger mom     39       9  not married      27    6.38   \n",
       "..          ...          ...    ...     ...          ...     ...     ...   \n",
       "959          42   mature mom     40      10      married      26    8.44   \n",
       "960          42   mature mom     38      18      married      20    6.19   \n",
       "961          45   mature mom     40      15      married      32    6.94   \n",
       "962          46   mature mom     31       8      married      25    4.56   \n",
       "963          50   mature mom     39      14      married      23    7.13   \n",
       "\n",
       "     gender      habit  \n",
       "0      male  nonsmoker  \n",
       "1      male  nonsmoker  \n",
       "2    female  nonsmoker  \n",
       "3      male  nonsmoker  \n",
       "4    female  nonsmoker  \n",
       "..      ...        ...  \n",
       "959    male  nonsmoker  \n",
       "960  female  nonsmoker  \n",
       "961  female  nonsmoker  \n",
       "962  female  nonsmoker  \n",
       "963  female  nonsmoker  \n",
       "\n",
       "[843 rows x 9 columns]"
      ]
     },
     "execution_count": 9,
     "metadata": {},
     "output_type": "execute_result"
    }
   ],
   "source": [
    "df_non_smoker_mothers = df[df.habit == 'nonsmoker']\n",
    "df_non_smoker_mothers"
   ]
  },
  {
   "cell_type": "markdown",
   "metadata": {},
   "source": [
    "#### 2.2.2. Sample Statistics\n",
    "\n",
    "Next, for each of the smoker and non-smoker samples that you created above, calculate the mean birth weight and standard deviation birth weight. Also calculate the sample sizes as well."
   ]
  },
  {
   "cell_type": "code",
   "execution_count": 10,
   "metadata": {},
   "outputs": [
    {
     "data": {
      "text/plain": [
       "6.821570247933885"
      ]
     },
     "execution_count": 10,
     "metadata": {},
     "output_type": "execute_result"
    }
   ],
   "source": [
    "smoker_weight_mean = df_smoker_mothers['weight'].mean()\n",
    "smoker_weight_mean"
   ]
  },
  {
   "cell_type": "code",
   "execution_count": 11,
   "metadata": {},
   "outputs": [
    {
     "data": {
      "text/plain": [
       "7.173985765124585"
      ]
     },
     "execution_count": 11,
     "metadata": {},
     "output_type": "execute_result"
    }
   ],
   "source": [
    "non_smoker_weight_mean = df_non_smoker_mothers['weight'].mean()\n",
    "non_smoker_weight_mean"
   ]
  },
  {
   "cell_type": "code",
   "execution_count": 12,
   "metadata": {},
   "outputs": [
    {
     "data": {
      "text/plain": [
       "1.40822406376759"
      ]
     },
     "execution_count": 12,
     "metadata": {},
     "output_type": "execute_result"
    }
   ],
   "source": [
    "smoker_weight_std = df_smoker_mothers['weight'].std()\n",
    "smoker_weight_std"
   ]
  },
  {
   "cell_type": "code",
   "execution_count": 13,
   "metadata": {},
   "outputs": [
    {
     "data": {
      "text/plain": [
       "1.4780931607043977"
      ]
     },
     "execution_count": 13,
     "metadata": {},
     "output_type": "execute_result"
    }
   ],
   "source": [
    "non_smoker_weight_std = df_non_smoker_mothers['weight'].std()\n",
    "non_smoker_weight_std"
   ]
  },
  {
   "cell_type": "code",
   "execution_count": 14,
   "metadata": {},
   "outputs": [
    {
     "data": {
      "text/plain": [
       "121"
      ]
     },
     "execution_count": 14,
     "metadata": {},
     "output_type": "execute_result"
    }
   ],
   "source": [
    "sample_size_smokers = len(df_smoker_mothers)\n",
    "sample_size_smokers"
   ]
  },
  {
   "cell_type": "code",
   "execution_count": 15,
   "metadata": {},
   "outputs": [
    {
     "data": {
      "text/plain": [
       "843"
      ]
     },
     "execution_count": 15,
     "metadata": {},
     "output_type": "execute_result"
    }
   ],
   "source": [
    "sample_size_non_smokers = len(df_non_smoker_mothers)\n",
    "sample_size_non_smokers"
   ]
  },
  {
   "cell_type": "markdown",
   "metadata": {},
   "source": [
    "#### 2.2.3. Sample Distributions\n",
    "\n",
    "Plot a histogram of the weights for each of the smoker and non-smoker samples that you created above. Make sure you appropriately label these plots."
   ]
  },
  {
   "cell_type": "code",
   "execution_count": 16,
   "metadata": {},
   "outputs": [
    {
     "data": {
      "image/png": "[encoded data removed]",
      "text/plain": [
       "<Figure size 432x288 with 1 Axes>"
      ]
     },
     "metadata": {},
     "output_type": "display_data"
    }
   ],
   "source": [
    "df_smoker_mothers['weight'].hist()\n",
    "plt.title('Smoker Mothers Weight')\n",
    "plt.xlabel('Weight')\n",
    "plt.ylabel('Frequency')\n",
    "plt.show()"
   ]
  },
  {
   "cell_type": "code",
   "execution_count": 17,
   "metadata": {},
   "outputs": [
    {
     "data": {
      "image/png": "[encoded data removed]",
      "text/plain": [
       "<Figure size 432x288 with 1 Axes>"
      ]
     },
     "metadata": {},
     "output_type": "display_data"
    }
   ],
   "source": [
    "df_non_smoker_mothers['weight'].hist()\n",
    "plt.title('Non-Smoker Mothers Weight')\n",
    "plt.xlabel('Weight')\n",
    "plt.ylabel('Frequency')\n",
    "plt.show()"
   ]
  },
  {
   "cell_type": "markdown",
   "metadata": {},
   "source": [
    "#### 2.2.4 Population Distributions\n",
    "\n",
    "Do you think that the birth weight distribution of ALL North Carolina babies born to smoker mothers is approximately normal? \n",
    "Do you think that the birth weight distribution of ALL North Carolina babies born to non-smoker mothers is approximately normal?\n",
    "Explain."
   ]
  },
  {
   "cell_type": "markdown",
   "metadata": {},
   "source": [
    "Yes, both mothers who smoke and do not smoke, follow the nornal distrobution. They both follow the bell shaped curve, they are both unimodel, they were randomly selected, and they approximatly follow the 99,95,68 rule. "
   ]
  },
  {
   "cell_type": "markdown",
   "metadata": {},
   "source": [
    "### 2.3. Conditions\n",
    "\n",
    "Next, check your conditions for conducting this hypothesis test."
   ]
  },
  {
   "cell_type": "markdown",
   "metadata": {},
   "source": [
    "* Sample 1 is randomly selected \n",
    "* Sample 2 is randomly selected \n",
    "* n1 = 121 > 30\n",
    "* n1 < 10% of all NC mothers\n",
    "* n2 = 843 > 30\n",
    "* n2 < 10% of all NC mothers\n",
    "* observations in sample 1 and sample 2 are independent"
   ]
  },
  {
   "cell_type": "markdown",
   "metadata": {},
   "source": [
    "### 2.4. Test Statistic\n",
    "\n",
    "Calculate the test statistic for this hypothesis test."
   ]
  },
  {
   "cell_type": "code",
   "execution_count": 18,
   "metadata": {},
   "outputs": [],
   "source": [
    "part_a = (smoker_weight_std**2)/sample_size_smokers\n",
    "part_b = (non_smoker_weight_std**2)/sample_size_non_smokers"
   ]
  },
  {
   "cell_type": "code",
   "execution_count": 19,
   "metadata": {},
   "outputs": [
    {
     "data": {
      "text/plain": [
       "-2.557979405829732"
      ]
     },
     "execution_count": 19,
     "metadata": {},
     "output_type": "execute_result"
    }
   ],
   "source": [
    "test_stat = ((smoker_weight_mean - non_smoker_weight_mean) - 0)/math.sqrt(part_a+part_b)\n",
    "test_stat"
   ]
  },
  {
   "cell_type": "markdown",
   "metadata": {},
   "source": [
    "### 2.5. p-value\n",
    "\n",
    "Calculate the p-value for this hypothesis test.\n",
    "\n",
    "*Use the most accurate way that we know of to do this.*"
   ]
  },
  {
   "cell_type": "code",
   "execution_count": 45,
   "metadata": {},
   "outputs": [
    {
     "data": {
      "text/plain": [
       "0.011773096339522171"
      ]
     },
     "execution_count": 45,
     "metadata": {},
     "output_type": "execute_result"
    }
   ],
   "source": [
    "pvalue = 2*(1-t.cdf(np.abs(test_stat), df=120)) \n",
    "pvalue "
   ]
  },
  {
   "cell_type": "markdown",
   "metadata": {},
   "source": [
    "### 2.6. Conclusion with a p-value\n",
    "\n",
    "Make a conclusion about your hypotheses using your p-value and a significance level $\\alpha=0.01$.\n",
    "\n",
    "Do we have sufficient evidence to suggest that there is an <u>association</u> between **mother smoking behavior** and **child birth weight** in *ALL North Carolina births*?"
   ]
  },
  {
   "cell_type": "markdown",
   "metadata": {},
   "source": [
    "Because the p value = 0.01178 > 0.01 we fail to reject the null hypothesis and do not have sufficient evidence to suggest the alternative, meaning that there is evidence that there is no association between mother smoking behavior and child birth weight in North Carolina births"
   ]
  },
  {
   "cell_type": "markdown",
   "metadata": {},
   "source": [
    "### 2.7. 99% Confidence Interval\n",
    "\n",
    "Next, create a 99% confidence interval for the difference between the average weight of all NC babies born to smoker mothers and the average weight of all NC babies born to non-smoker mothers.\n",
    "\n",
    "*Use the most accurate way that we know how to do this*."
   ]
  },
  {
   "cell_type": "code",
   "execution_count": 46,
   "metadata": {},
   "outputs": [
    {
     "data": {
      "text/plain": [
       "2.3263478740408408"
      ]
     },
     "execution_count": 46,
     "metadata": {},
     "output_type": "execute_result"
    }
   ],
   "source": [
    "from scipy.stats import norm \n",
    " \n",
    "critical_value = norm.ppf(0.99) \n",
    "critical_value "
   ]
  },
  {
   "cell_type": "code",
   "execution_count": 47,
   "metadata": {},
   "outputs": [
    {
     "data": {
      "text/plain": [
       "-0.35241551719069975"
      ]
     },
     "execution_count": 47,
     "metadata": {},
     "output_type": "execute_result"
    }
   ],
   "source": [
    "point_estimate = smoker_weight_mean - non_smoker_weight_mean \n",
    "point_estimate "
   ]
  },
  {
   "cell_type": "code",
   "execution_count": 48,
   "metadata": {},
   "outputs": [
    {
     "data": {
      "text/plain": [
       "0.13777105335075468"
      ]
     },
     "execution_count": 48,
     "metadata": {},
     "output_type": "execute_result"
    }
   ],
   "source": [
    "part_d = (smoker_weight_std**2)/sample_size_smokers\n",
    "\n",
    "part_e = (non_smoker_weight_std**2)/sample_size_non_smokers\n",
    "\n",
    "std_error = math.sqrt(part_d + part_e)\n",
    "std_error\n",
    " "
   ]
  },
  {
   "cell_type": "code",
   "execution_count": 49,
   "metadata": {},
   "outputs": [
    {
     "name": "stdout",
     "output_type": "stream",
     "text": [
      "-0.6729189142575951 -0.031912120123804344\n"
     ]
    }
   ],
   "source": [
    "lower_bound = point_estimate - critical_value*std_error \n",
    "upper_bound = point_estimate + critical_value*std_error \n",
    " \n",
    "print(lower_bound, upper_bound) "
   ]
  },
  {
   "cell_type": "markdown",
   "metadata": {},
   "source": [
    "### 2.8. Conclusion with a Confidence Interval\n",
    "\n",
    "Use your confidence interval to make a conclusion about your hypotheses."
   ]
  },
  {
   "cell_type": "markdown",
   "metadata": {},
   "source": [
    "0 is not inside of the convidence interval, therfore we reject the null hypthothesis. "
   ]
  },
  {
   "cell_type": "markdown",
   "metadata": {},
   "source": [
    "### 2.9. Confidence Interval in Words\n",
    "\n",
    "Put your confidence interval that you calculated into words."
   ]
  },
  {
   "cell_type": "markdown",
   "metadata": {},
   "source": [
    "We are 99% confident that the difference in the mean weight of babies that have mothers who smoke and the proportion of all babies that have mothers that do not smoke is between -0.6729189142575951 -0.031912120123804344"
   ]
  },
  {
   "cell_type": "markdown",
   "metadata": {},
   "source": [
    "### 2.10. \"99% Confident\"\n",
    "\n",
    "Suppose we were to collect 1000 random samples (all of size 121) of babies born to smoker mothers and another 1000 random samples (all of size 843) of babies born to nonsmoker mothers. Then suppose we were to use these 1000 pairs of samples and create a corresponding 99% confidence interval for $\\mu_s - \\mu_{ns}$. How many of these 1000 confidence intervals, woudld we expect to contain $\\mu_s - \\mu_{ns}$?"
   ]
  },
  {
   "cell_type": "code",
   "execution_count": 70,
   "metadata": {},
   "outputs": [
    {
     "data": {
      "text/plain": [
       "990.0"
      ]
     },
     "execution_count": 70,
     "metadata": {},
     "output_type": "execute_result"
    }
   ],
   "source": [
    "0.99*1000"
   ]
  },
  {
   "cell_type": "markdown",
   "metadata": {},
   "source": [
    "## <u>Research Goal 2</u>: Determining <u>Linear Associations</u> with <u>Child Birth Weight</u> for NC Babies\n",
    "\n",
    "For our second research question, we would like to determine *which* variables we have sufficient evidence to suggest are <u>linearly associated</u> with **child birth weight** in *ALL North Carolina births*.\n",
    "\n",
    "Ideally, we would like to build a linear regression model that **predicts birth weight** in which we have sufficient evidence to suggest that all of the explanatory variables have a linear relationship with birth weight for *ALL North Carolina births*.\n",
    "\n",
    "### 3.1. \"Weeding Out\" Some Explanatory Variables First\n",
    "\n",
    "Suppose previous studies that we have read suggested that mother age and smoking behavior do not have a linear relationship with birth weight (in all NC babies). We'd like to keep the probablity of committing a Type 1 eror as low as possible throughout this whole analysis. Thus, let's first fit a linear regression model that **predicts birth weight** with *just* **mother age** and **smoking habits** as explanatory variables.\n",
    "\n",
    "Our goal is to check if we can \"weed these variables out\" from our main model, while keeping the probability of committing a Type 1 error as low as possible.\n",
    "\n",
    "#### 3.1.1. Fit the \"Weed Out\" Model\n",
    "So first, fit a linear regression model that **predicts birth weight** with *just* **mother age** and **smoking habits** as explanatory variables and show it's output table."
   ]
  },
  {
   "cell_type": "code",
   "execution_count": 71,
   "metadata": {},
   "outputs": [
    {
     "data": {
      "text/html": [
       "<table class=\"simpletable\">\n",
       "<caption>OLS Regression Results</caption>\n",
       "<tr>\n",
       "  <th>Dep. Variable:</th>         <td>weight</td>      <th>  R-squared:         </th> <td>   0.008</td>\n",
       "</tr>\n",
       "<tr>\n",
       "  <th>Model:</th>                   <td>OLS</td>       <th>  Adj. R-squared:    </th> <td>   0.006</td>\n",
       "</tr>\n",
       "<tr>\n",
       "  <th>Method:</th>             <td>Least Squares</td>  <th>  F-statistic:       </th> <td>   4.049</td>\n",
       "</tr>\n",
       "<tr>\n",
       "  <th>Date:</th>             <td>Fri, 04 Nov 2022</td> <th>  Prob (F-statistic):</th>  <td>0.0177</td> \n",
       "</tr>\n",
       "<tr>\n",
       "  <th>Time:</th>                 <td>09:38:40</td>     <th>  Log-Likelihood:    </th> <td> -1737.0</td>\n",
       "</tr>\n",
       "<tr>\n",
       "  <th>No. Observations:</th>      <td>   964</td>      <th>  AIC:               </th> <td>   3480.</td>\n",
       "</tr>\n",
       "<tr>\n",
       "  <th>Df Residuals:</th>          <td>   961</td>      <th>  BIC:               </th> <td>   3495.</td>\n",
       "</tr>\n",
       "<tr>\n",
       "  <th>Df Model:</th>              <td>     2</td>      <th>                     </th>     <td> </td>   \n",
       "</tr>\n",
       "<tr>\n",
       "  <th>Covariance Type:</th>      <td>nonrobust</td>    <th>                     </th>     <td> </td>   \n",
       "</tr>\n",
       "</table>\n",
       "<table class=\"simpletable\">\n",
       "<tr>\n",
       "         <td></td>            <th>coef</th>     <th>std err</th>      <th>t</th>      <th>P>|t|</th>  <th>[0.025</th>    <th>0.975]</th>  \n",
       "</tr>\n",
       "<tr>\n",
       "  <th>Intercept</th>       <td>    6.8769</td> <td>    0.216</td> <td>   31.877</td> <td> 0.000</td> <td>    6.454</td> <td>    7.300</td>\n",
       "</tr>\n",
       "<tr>\n",
       "  <th>habit[T.smoker]</th> <td>   -0.3300</td> <td>    0.144</td> <td>   -2.297</td> <td> 0.022</td> <td>   -0.612</td> <td>   -0.048</td>\n",
       "</tr>\n",
       "<tr>\n",
       "  <th>mother_age</th>      <td>    0.0109</td> <td>    0.008</td> <td>    1.417</td> <td> 0.157</td> <td>   -0.004</td> <td>    0.026</td>\n",
       "</tr>\n",
       "</table>\n",
       "<table class=\"simpletable\">\n",
       "<tr>\n",
       "  <th>Omnibus:</th>       <td>206.900</td> <th>  Durbin-Watson:     </th> <td>   1.628</td> \n",
       "</tr>\n",
       "<tr>\n",
       "  <th>Prob(Omnibus):</th> <td> 0.000</td>  <th>  Jarque-Bera (JB):  </th> <td> 510.707</td> \n",
       "</tr>\n",
       "<tr>\n",
       "  <th>Skew:</th>          <td>-1.131</td>  <th>  Prob(JB):          </th> <td>1.26e-111</td>\n",
       "</tr>\n",
       "<tr>\n",
       "  <th>Kurtosis:</th>      <td> 5.757</td>  <th>  Cond. No.          </th> <td>    128.</td> \n",
       "</tr>\n",
       "</table><br/><br/>Notes:<br/>[1] Standard Errors assume that the covariance matrix of the errors is correctly specified."
      ],
      "text/plain": [
       "<class 'statsmodels.iolib.summary.Summary'>\n",
       "\"\"\"\n",
       "                            OLS Regression Results                            \n",
       "==============================================================================\n",
       "Dep. Variable:                 weight   R-squared:                       0.008\n",
       "Model:                            OLS   Adj. R-squared:                  0.006\n",
       "Method:                 Least Squares   F-statistic:                     4.049\n",
       "Date:                Fri, 04 Nov 2022   Prob (F-statistic):             0.0177\n",
       "Time:                        09:38:40   Log-Likelihood:                -1737.0\n",
       "No. Observations:                 964   AIC:                             3480.\n",
       "Df Residuals:                     961   BIC:                             3495.\n",
       "Df Model:                           2                                         \n",
       "Covariance Type:            nonrobust                                         \n",
       "===================================================================================\n",
       "                      coef    std err          t      P>|t|      [0.025      0.975]\n",
       "-----------------------------------------------------------------------------------\n",
       "Intercept           6.8769      0.216     31.877      0.000       6.454       7.300\n",
       "habit[T.smoker]    -0.3300      0.144     -2.297      0.022      -0.612      -0.048\n",
       "mother_age          0.0109      0.008      1.417      0.157      -0.004       0.026\n",
       "==============================================================================\n",
       "Omnibus:                      206.900   Durbin-Watson:                   1.628\n",
       "Prob(Omnibus):                  0.000   Jarque-Bera (JB):              510.707\n",
       "Skew:                          -1.131   Prob(JB):                    1.26e-111\n",
       "Kurtosis:                       5.757   Cond. No.                         128.\n",
       "==============================================================================\n",
       "\n",
       "Notes:\n",
       "[1] Standard Errors assume that the covariance matrix of the errors is correctly specified.\n",
       "\"\"\""
      ]
     },
     "execution_count": 71,
     "metadata": {},
     "output_type": "execute_result"
    }
   ],
   "source": [
    "results = smf.ols('weight ~ mother_age+habit',data = df).fit()\n",
    "results.summary()"
   ]
  },
  {
   "cell_type": "markdown",
   "metadata": {},
   "source": [
    "#### 3.1.2. Hypotheses\n",
    "\n",
    "Next, in order to see if we can \"weed out\" both of these explanatory variables with just one hypothesis test, we would like to determine if we have sufficient evidence to suggest that at least one of the population slopes for mother age or habit is non-zero in the corresponding population (ie. all NC births) model.\n",
    "\n",
    "Set up your hypothesis test that will answer this question below."
   ]
  },
  {
   "cell_type": "markdown",
   "metadata": {},
   "source": [
    "Ho: Beta_2 = 0\n",
    "\n",
    "Ha: Beta_2 != 0"
   ]
  },
  {
   "cell_type": "markdown",
   "metadata": {},
   "source": [
    "#### 3.1.3 Test Statistic and p-value\n",
    "\n",
    "We should technically check our conditions before conducting inference on the population slopes in this \"weed out model\" here first, but we will skip this in the interest of this timed exam.\n",
    "\n",
    "What is the test statistic and p-value that corresponds to our hypothesis test in 3.1.2?"
   ]
  },
  {
   "cell_type": "code",
   "execution_count": 72,
   "metadata": {},
   "outputs": [
    {
     "data": {
      "text/plain": [
       "1.3625"
      ]
     },
     "execution_count": 72,
     "metadata": {},
     "output_type": "execute_result"
    }
   ],
   "source": [
    "point_estimate_1 = 0.0109\n",
    "standard_error_1 = 0.008\n",
    "null_value = 0\n",
    "\n",
    "test_stat_1 = (point_estimate_1 - null_value)/standard_error_1 \n",
    "test_stat_1 "
   ]
  },
  {
   "cell_type": "code",
   "execution_count": 73,
   "metadata": {},
   "outputs": [
    {
     "data": {
      "text/plain": [
       "0.1733593612575013"
      ]
     },
     "execution_count": 73,
     "metadata": {},
     "output_type": "execute_result"
    }
   ],
   "source": [
    "pval = 2*(1-t.cdf(np.abs(test_stat_1), df=961)) \n",
    "pval"
   ]
  },
  {
   "cell_type": "markdown",
   "metadata": {},
   "source": [
    "#### 3.1.4. Conclusion\n",
    "\n",
    "Use your p-value and a significance level of $\\alpha=0.01$ to make a conclusion about your hypotheses in 3.1.2."
   ]
  },
  {
   "cell_type": "markdown",
   "metadata": {},
   "source": [
    "Because the pvalue = 0.173 > 0.01, we fail to reject the null hypothesis. Thus, there is insufficient evidence to suggest the alternative. "
   ]
  },
  {
   "cell_type": "markdown",
   "metadata": {},
   "source": [
    "### 3.2. \"Weeding Out\" Some More Explanatory Variables\n",
    "\n",
    "From our discussion in 1.2, we saw that the **mature** variable is basically a less informative version of the **mother_age** variable. Whoever created this dataset, turned the numerical mother_age variable into a categorical variable, where if the mother was older than the threshold, she was categorized as a 'mature more', otherwise she was categorized as 'younger mom'. \n",
    "\n",
    "Generally speaking, when we turn a numerical variable into a categorical variable, the categorical variable brings much less explanatory power to the models it is being used in. But let's test this theory!\n",
    "\n",
    "#### 3.2.1. Predicting Birth Weight with just the 'mature' variable\n",
    "\n",
    "Fit a linear regression model that predicts child birth weight with just the 'mature' explanatory variable. Display the summary output table."
   ]
  },
  {
   "cell_type": "code",
   "execution_count": 74,
   "metadata": {},
   "outputs": [
    {
     "data": {
      "text/html": [
       "<table class=\"simpletable\">\n",
       "<caption>OLS Regression Results</caption>\n",
       "<tr>\n",
       "  <th>Dep. Variable:</th>         <td>weight</td>      <th>  R-squared:         </th> <td>   0.004</td>\n",
       "</tr>\n",
       "<tr>\n",
       "  <th>Model:</th>                   <td>OLS</td>       <th>  Adj. R-squared:    </th> <td>  -0.012</td>\n",
       "</tr>\n",
       "<tr>\n",
       "  <th>Method:</th>             <td>Least Squares</td>  <th>  F-statistic:       </th> <td>  0.2675</td>\n",
       "</tr>\n",
       "<tr>\n",
       "  <th>Date:</th>             <td>Fri, 04 Nov 2022</td> <th>  Prob (F-statistic):</th>  <td> 0.607</td> \n",
       "</tr>\n",
       "<tr>\n",
       "  <th>Time:</th>                 <td>09:38:40</td>     <th>  Log-Likelihood:    </th> <td> -122.17</td>\n",
       "</tr>\n",
       "<tr>\n",
       "  <th>No. Observations:</th>      <td>    63</td>      <th>  AIC:               </th> <td>   248.3</td>\n",
       "</tr>\n",
       "<tr>\n",
       "  <th>Df Residuals:</th>          <td>    61</td>      <th>  BIC:               </th> <td>   252.6</td>\n",
       "</tr>\n",
       "<tr>\n",
       "  <th>Df Model:</th>              <td>     1</td>      <th>                     </th>     <td> </td>   \n",
       "</tr>\n",
       "<tr>\n",
       "  <th>Covariance Type:</th>      <td>nonrobust</td>    <th>                     </th>     <td> </td>   \n",
       "</tr>\n",
       "</table>\n",
       "<table class=\"simpletable\">\n",
       "<tr>\n",
       "       <td></td>         <th>coef</th>     <th>std err</th>      <th>t</th>      <th>P>|t|</th>  <th>[0.025</th>    <th>0.975]</th>  \n",
       "</tr>\n",
       "<tr>\n",
       "  <th>Intercept</th>  <td>    8.9156</td> <td>    3.476</td> <td>    2.565</td> <td> 0.013</td> <td>    1.965</td> <td>   15.867</td>\n",
       "</tr>\n",
       "<tr>\n",
       "  <th>mother_age</th> <td>   -0.0462</td> <td>    0.089</td> <td>   -0.517</td> <td> 0.607</td> <td>   -0.225</td> <td>    0.132</td>\n",
       "</tr>\n",
       "</table>\n",
       "<table class=\"simpletable\">\n",
       "<tr>\n",
       "  <th>Omnibus:</th>       <td>15.345</td> <th>  Durbin-Watson:     </th> <td>   1.850</td>\n",
       "</tr>\n",
       "<tr>\n",
       "  <th>Prob(Omnibus):</th> <td> 0.000</td> <th>  Jarque-Bera (JB):  </th> <td>  18.537</td>\n",
       "</tr>\n",
       "<tr>\n",
       "  <th>Skew:</th>          <td>-1.028</td> <th>  Prob(JB):          </th> <td>9.44e-05</td>\n",
       "</tr>\n",
       "<tr>\n",
       "  <th>Kurtosis:</th>      <td> 4.682</td> <th>  Cond. No.          </th> <td>    629.</td>\n",
       "</tr>\n",
       "</table><br/><br/>Notes:<br/>[1] Standard Errors assume that the covariance matrix of the errors is correctly specified."
      ],
      "text/plain": [
       "<class 'statsmodels.iolib.summary.Summary'>\n",
       "\"\"\"\n",
       "                            OLS Regression Results                            \n",
       "==============================================================================\n",
       "Dep. Variable:                 weight   R-squared:                       0.004\n",
       "Model:                            OLS   Adj. R-squared:                 -0.012\n",
       "Method:                 Least Squares   F-statistic:                    0.2675\n",
       "Date:                Fri, 04 Nov 2022   Prob (F-statistic):              0.607\n",
       "Time:                        09:38:40   Log-Likelihood:                -122.17\n",
       "No. Observations:                  63   AIC:                             248.3\n",
       "Df Residuals:                      61   BIC:                             252.6\n",
       "Df Model:                           1                                         \n",
       "Covariance Type:            nonrobust                                         \n",
       "==============================================================================\n",
       "                 coef    std err          t      P>|t|      [0.025      0.975]\n",
       "------------------------------------------------------------------------------\n",
       "Intercept      8.9156      3.476      2.565      0.013       1.965      15.867\n",
       "mother_age    -0.0462      0.089     -0.517      0.607      -0.225       0.132\n",
       "==============================================================================\n",
       "Omnibus:                       15.345   Durbin-Watson:                   1.850\n",
       "Prob(Omnibus):                  0.000   Jarque-Bera (JB):               18.537\n",
       "Skew:                          -1.028   Prob(JB):                     9.44e-05\n",
       "Kurtosis:                       4.682   Cond. No.                         629.\n",
       "==============================================================================\n",
       "\n",
       "Notes:\n",
       "[1] Standard Errors assume that the covariance matrix of the errors is correctly specified.\n",
       "\"\"\""
      ]
     },
     "execution_count": 74,
     "metadata": {},
     "output_type": "execute_result"
    }
   ],
   "source": [
    "results_mature_mother = smf.ols('weight ~ mother_age',data = df_mature_mom).fit()\n",
    "results_mature_mother.summary()"
   ]
  },
  {
   "cell_type": "markdown",
   "metadata": {},
   "source": [
    "#### 3.2.2. Predicting Birth Weight with just the 'mother_age' variable\n",
    "\n",
    "Fit a linear regression model that predicts child birth weight with just the 'mother_age' explanatory variable. Display the summary output table."
   ]
  },
  {
   "cell_type": "code",
   "execution_count": 75,
   "metadata": {},
   "outputs": [
    {
     "data": {
      "text/html": [
       "<table class=\"simpletable\">\n",
       "<caption>OLS Regression Results</caption>\n",
       "<tr>\n",
       "  <th>Dep. Variable:</th>         <td>weight</td>      <th>  R-squared:         </th> <td>   0.003</td>\n",
       "</tr>\n",
       "<tr>\n",
       "  <th>Model:</th>                   <td>OLS</td>       <th>  Adj. R-squared:    </th> <td>   0.002</td>\n",
       "</tr>\n",
       "<tr>\n",
       "  <th>Method:</th>             <td>Least Squares</td>  <th>  F-statistic:       </th> <td>   2.808</td>\n",
       "</tr>\n",
       "<tr>\n",
       "  <th>Date:</th>             <td>Fri, 04 Nov 2022</td> <th>  Prob (F-statistic):</th>  <td>0.0941</td> \n",
       "</tr>\n",
       "<tr>\n",
       "  <th>Time:</th>                 <td>09:38:41</td>     <th>  Log-Likelihood:    </th> <td> -1739.6</td>\n",
       "</tr>\n",
       "<tr>\n",
       "  <th>No. Observations:</th>      <td>   964</td>      <th>  AIC:               </th> <td>   3483.</td>\n",
       "</tr>\n",
       "<tr>\n",
       "  <th>Df Residuals:</th>          <td>   962</td>      <th>  BIC:               </th> <td>   3493.</td>\n",
       "</tr>\n",
       "<tr>\n",
       "  <th>Df Model:</th>              <td>     1</td>      <th>                     </th>     <td> </td>   \n",
       "</tr>\n",
       "<tr>\n",
       "  <th>Covariance Type:</th>      <td>nonrobust</td>    <th>                     </th>     <td> </td>   \n",
       "</tr>\n",
       "</table>\n",
       "<table class=\"simpletable\">\n",
       "<tr>\n",
       "       <td></td>         <th>coef</th>     <th>std err</th>      <th>t</th>      <th>P>|t|</th>  <th>[0.025</th>    <th>0.975]</th>  \n",
       "</tr>\n",
       "<tr>\n",
       "  <th>Intercept</th>  <td>    6.7830</td> <td>    0.212</td> <td>   31.951</td> <td> 0.000</td> <td>    6.366</td> <td>    7.200</td>\n",
       "</tr>\n",
       "<tr>\n",
       "  <th>mother_age</th> <td>    0.0128</td> <td>    0.008</td> <td>    1.676</td> <td> 0.094</td> <td>   -0.002</td> <td>    0.028</td>\n",
       "</tr>\n",
       "</table>\n",
       "<table class=\"simpletable\">\n",
       "<tr>\n",
       "  <th>Omnibus:</th>       <td>203.108</td> <th>  Durbin-Watson:     </th> <td>   1.619</td> \n",
       "</tr>\n",
       "<tr>\n",
       "  <th>Prob(Omnibus):</th> <td> 0.000</td>  <th>  Jarque-Bera (JB):  </th> <td> 492.476</td> \n",
       "</tr>\n",
       "<tr>\n",
       "  <th>Skew:</th>          <td>-1.118</td>  <th>  Prob(JB):          </th> <td>1.15e-107</td>\n",
       "</tr>\n",
       "<tr>\n",
       "  <th>Kurtosis:</th>      <td> 5.694</td>  <th>  Cond. No.          </th> <td>    124.</td> \n",
       "</tr>\n",
       "</table><br/><br/>Notes:<br/>[1] Standard Errors assume that the covariance matrix of the errors is correctly specified."
      ],
      "text/plain": [
       "<class 'statsmodels.iolib.summary.Summary'>\n",
       "\"\"\"\n",
       "                            OLS Regression Results                            \n",
       "==============================================================================\n",
       "Dep. Variable:                 weight   R-squared:                       0.003\n",
       "Model:                            OLS   Adj. R-squared:                  0.002\n",
       "Method:                 Least Squares   F-statistic:                     2.808\n",
       "Date:                Fri, 04 Nov 2022   Prob (F-statistic):             0.0941\n",
       "Time:                        09:38:41   Log-Likelihood:                -1739.6\n",
       "No. Observations:                 964   AIC:                             3483.\n",
       "Df Residuals:                     962   BIC:                             3493.\n",
       "Df Model:                           1                                         \n",
       "Covariance Type:            nonrobust                                         \n",
       "==============================================================================\n",
       "                 coef    std err          t      P>|t|      [0.025      0.975]\n",
       "------------------------------------------------------------------------------\n",
       "Intercept      6.7830      0.212     31.951      0.000       6.366       7.200\n",
       "mother_age     0.0128      0.008      1.676      0.094      -0.002       0.028\n",
       "==============================================================================\n",
       "Omnibus:                      203.108   Durbin-Watson:                   1.619\n",
       "Prob(Omnibus):                  0.000   Jarque-Bera (JB):              492.476\n",
       "Skew:                          -1.118   Prob(JB):                    1.15e-107\n",
       "Kurtosis:                       5.694   Cond. No.                         124.\n",
       "==============================================================================\n",
       "\n",
       "Notes:\n",
       "[1] Standard Errors assume that the covariance matrix of the errors is correctly specified.\n",
       "\"\"\""
      ]
     },
     "execution_count": 75,
     "metadata": {},
     "output_type": "execute_result"
    }
   ],
   "source": [
    "results_mother_age = smf.ols('weight ~ mother_age',data = df).fit()\n",
    "results_mother_age.summary()"
   ]
  },
  {
   "cell_type": "markdown",
   "metadata": {},
   "source": [
    "#### 3.2.3 Assessing Fit\n",
    "\n",
    "Does the model with **mature** explanatory variable or the model with **mother_age** explanatory variable provide a better fit? Do either of these simple linear regression models from 3.2.1 and 3.2.2 provide a good fit of the data? Explain."
   ]
  },
  {
   "cell_type": "markdown",
   "metadata": {},
   "source": [
    "The model with the higher R-sqaured value is the one with the mature mom's. Therfore the model explains more of the variability. "
   ]
  },
  {
   "cell_type": "markdown",
   "metadata": {},
   "source": [
    "### 3.3. Fitting the \"Main Model\"\n",
    "\n",
    "Based on our explorations in 3.1. and 3.2. we will choose to **predict birth weight** in our \"main model\" with just the following explanatory variables:\n",
    "* weeks\n",
    "* visits\n",
    "* marital\n",
    "* gained\n",
    "* gender\n",
    "\n",
    "#### 3.3.1. Model Fit\n",
    "\n",
    "Fit this linear regression model and display the summary output table."
   ]
  },
  {
   "cell_type": "code",
   "execution_count": 76,
   "metadata": {},
   "outputs": [
    {
     "data": {
      "text/html": [
       "<table class=\"simpletable\">\n",
       "<caption>OLS Regression Results</caption>\n",
       "<tr>\n",
       "  <th>Dep. Variable:</th>         <td>weight</td>      <th>  R-squared:         </th> <td>   0.461</td> \n",
       "</tr>\n",
       "<tr>\n",
       "  <th>Model:</th>                   <td>OLS</td>       <th>  Adj. R-squared:    </th> <td>   0.458</td> \n",
       "</tr>\n",
       "<tr>\n",
       "  <th>Method:</th>             <td>Least Squares</td>  <th>  F-statistic:       </th> <td>   163.8</td> \n",
       "</tr>\n",
       "<tr>\n",
       "  <th>Date:</th>             <td>Fri, 04 Nov 2022</td> <th>  Prob (F-statistic):</th> <td>7.72e-126</td>\n",
       "</tr>\n",
       "<tr>\n",
       "  <th>Time:</th>                 <td>09:38:41</td>     <th>  Log-Likelihood:    </th> <td> -1443.2</td> \n",
       "</tr>\n",
       "<tr>\n",
       "  <th>No. Observations:</th>      <td>   964</td>      <th>  AIC:               </th> <td>   2898.</td> \n",
       "</tr>\n",
       "<tr>\n",
       "  <th>Df Residuals:</th>          <td>   958</td>      <th>  BIC:               </th> <td>   2928.</td> \n",
       "</tr>\n",
       "<tr>\n",
       "  <th>Df Model:</th>              <td>     5</td>      <th>                     </th>     <td> </td>    \n",
       "</tr>\n",
       "<tr>\n",
       "  <th>Covariance Type:</th>      <td>nonrobust</td>    <th>                     </th>     <td> </td>    \n",
       "</tr>\n",
       "</table>\n",
       "<table class=\"simpletable\">\n",
       "<tr>\n",
       "             <td></td>               <th>coef</th>     <th>std err</th>      <th>t</th>      <th>P>|t|</th>  <th>[0.025</th>    <th>0.975]</th>  \n",
       "</tr>\n",
       "<tr>\n",
       "  <th>Intercept</th>              <td>   -5.8324</td> <td>    0.483</td> <td>  -12.068</td> <td> 0.000</td> <td>   -6.781</td> <td>   -4.884</td>\n",
       "</tr>\n",
       "<tr>\n",
       "  <th>marital[T.not married]</th> <td>   -0.3581</td> <td>    0.074</td> <td>   -4.843</td> <td> 0.000</td> <td>   -0.503</td> <td>   -0.213</td>\n",
       "</tr>\n",
       "<tr>\n",
       "  <th>gender[T.male]</th>         <td>    0.3681</td> <td>    0.070</td> <td>    5.257</td> <td> 0.000</td> <td>    0.231</td> <td>    0.505</td>\n",
       "</tr>\n",
       "<tr>\n",
       "  <th>weeks</th>                  <td>    0.3300</td> <td>    0.013</td> <td>   26.248</td> <td> 0.000</td> <td>    0.305</td> <td>    0.355</td>\n",
       "</tr>\n",
       "<tr>\n",
       "  <th>visits</th>                 <td>   -0.0025</td> <td>    0.009</td> <td>   -0.272</td> <td> 0.786</td> <td>   -0.021</td> <td>    0.016</td>\n",
       "</tr>\n",
       "<tr>\n",
       "  <th>gained</th>                 <td>    0.0090</td> <td>    0.002</td> <td>    3.627</td> <td> 0.000</td> <td>    0.004</td> <td>    0.014</td>\n",
       "</tr>\n",
       "</table>\n",
       "<table class=\"simpletable\">\n",
       "<tr>\n",
       "  <th>Omnibus:</th>       <td> 5.437</td> <th>  Durbin-Watson:     </th> <td>   2.007</td>\n",
       "</tr>\n",
       "<tr>\n",
       "  <th>Prob(Omnibus):</th> <td> 0.066</td> <th>  Jarque-Bera (JB):  </th> <td>   6.857</td>\n",
       "</tr>\n",
       "<tr>\n",
       "  <th>Skew:</th>          <td> 0.013</td> <th>  Prob(JB):          </th> <td>  0.0324</td>\n",
       "</tr>\n",
       "<tr>\n",
       "  <th>Kurtosis:</th>      <td> 3.412</td> <th>  Cond. No.          </th> <td>    710.</td>\n",
       "</tr>\n",
       "</table><br/><br/>Notes:<br/>[1] Standard Errors assume that the covariance matrix of the errors is correctly specified."
      ],
      "text/plain": [
       "<class 'statsmodels.iolib.summary.Summary'>\n",
       "\"\"\"\n",
       "                            OLS Regression Results                            \n",
       "==============================================================================\n",
       "Dep. Variable:                 weight   R-squared:                       0.461\n",
       "Model:                            OLS   Adj. R-squared:                  0.458\n",
       "Method:                 Least Squares   F-statistic:                     163.8\n",
       "Date:                Fri, 04 Nov 2022   Prob (F-statistic):          7.72e-126\n",
       "Time:                        09:38:41   Log-Likelihood:                -1443.2\n",
       "No. Observations:                 964   AIC:                             2898.\n",
       "Df Residuals:                     958   BIC:                             2928.\n",
       "Df Model:                           5                                         \n",
       "Covariance Type:            nonrobust                                         \n",
       "==========================================================================================\n",
       "                             coef    std err          t      P>|t|      [0.025      0.975]\n",
       "------------------------------------------------------------------------------------------\n",
       "Intercept                 -5.8324      0.483    -12.068      0.000      -6.781      -4.884\n",
       "marital[T.not married]    -0.3581      0.074     -4.843      0.000      -0.503      -0.213\n",
       "gender[T.male]             0.3681      0.070      5.257      0.000       0.231       0.505\n",
       "weeks                      0.3300      0.013     26.248      0.000       0.305       0.355\n",
       "visits                    -0.0025      0.009     -0.272      0.786      -0.021       0.016\n",
       "gained                     0.0090      0.002      3.627      0.000       0.004       0.014\n",
       "==============================================================================\n",
       "Omnibus:                        5.437   Durbin-Watson:                   2.007\n",
       "Prob(Omnibus):                  0.066   Jarque-Bera (JB):                6.857\n",
       "Skew:                           0.013   Prob(JB):                       0.0324\n",
       "Kurtosis:                       3.412   Cond. No.                         710.\n",
       "==============================================================================\n",
       "\n",
       "Notes:\n",
       "[1] Standard Errors assume that the covariance matrix of the errors is correctly specified.\n",
       "\"\"\""
      ]
     },
     "execution_count": 76,
     "metadata": {},
     "output_type": "execute_result"
    }
   ],
   "source": [
    "results_mature_mother = smf.ols('weight ~ weeks+visits+marital+gained+gender',data = df).fit()\n",
    "results_mature_mother.summary()"
   ]
  },
  {
   "cell_type": "markdown",
   "metadata": {},
   "source": [
    "#### 3.3.2. Linear Regression Equation\n",
    "\n",
    "Write out the linear regression equation for this model. Make sure to use the appropriate notation that we discussed in class."
   ]
  },
  {
   "cell_type": "markdown",
   "metadata": {},
   "source": [
    "birth_rate_hat = -5.8324 -0.3581marital[T.not married] +0.3681gender[T.male]+0.3300[weeks] - 0.0025[visits]+0.0090[gained]"
   ]
  },
  {
   "cell_type": "markdown",
   "metadata": {},
   "source": [
    "#### 3.3.3. Intercept Interpretation\n",
    "\n",
    "Put your intercept for this linear regression model into words. Make sure that you don't use misleading language in your interpretation."
   ]
  },
  {
   "cell_type": "markdown",
   "metadata": {},
   "source": [
    "We would expect the average number of births with unmarried women, that were pregnant for 0 weeks, had 0 visits, and gained 0 pounds to be -5.8324. This does not make sence, but that is what the incerpect represents. "
   ]
  },
  {
   "cell_type": "markdown",
   "metadata": {},
   "source": [
    "#### 3.3.4. Weeks Slope Interpretation\n",
    "\n",
    "Put your weeks slope for this linear regression model into words. Make sure that you don't use misleading language in your interpretation."
   ]
  },
  {
   "cell_type": "markdown",
   "metadata": {},
   "source": [
    "All else held equal, if we were to increase the number of weks of pregnancy, we would expect the number of births to increase by 0.33 on average."
   ]
  },
  {
   "cell_type": "markdown",
   "metadata": {},
   "source": [
    "#### 3.3.5. Marital Slope Interpretation\n",
    "\n",
    "Put your marital slope for this linear regression model into words. Make sure that you don't use misleading language in your interpretation."
   ]
  },
  {
   "cell_type": "markdown",
   "metadata": {},
   "source": [
    "All else held equal, if we were to change the martial status to unmarried, we would expect the number of births to decrease by 0.3681 on average. In other words, if we were change the martial status to married, we would expect the number of birthds to increase by 0.3681 on average."
   ]
  },
  {
   "cell_type": "markdown",
   "metadata": {},
   "source": [
    "### 3.4. Inference on the \"Main Model\"\n",
    "\n",
    "Finally, we would like to conduct inference on the population slopes that correspond to this main model. \n",
    "\n",
    "#### 3.4.1. Conditions for Inference\n",
    "Check your 5 conditions for inference below."
   ]
  },
  {
   "cell_type": "markdown",
   "metadata": {},
   "source": [
    "# Condition 1\n",
    "Check the linearity condition by looking at this fitted values vs. residuals plot for our simple linear regression model. It appears that there are about the same number of residual points that are negative and that are postive. Thus, this indicates that this condition is met."
   ]
  },
  {
   "cell_type": "code",
   "execution_count": 77,
   "metadata": {},
   "outputs": [
    {
     "data": {
      "image/png": "[encoded data removed]",
      "text/plain": [
       "<Figure size 432x288 with 1 Axes>"
      ]
     },
     "metadata": {},
     "output_type": "display_data"
    }
   ],
   "source": [
    "plt.scatter(results_mature_mother.fittedvalues, results.resid) \n",
    "plt.hlines(y=0, xmin=np.min(results_mature_mother.fittedvalues), xmax=np.max(results_mature_mother.fittedvalues)) \n",
    "plt.ylabel('Residual') \n",
    "plt.xlabel('Fitted Value') \n",
    "plt.show() "
   ]
  },
  {
   "cell_type": "markdown",
   "metadata": {},
   "source": [
    "# Condition 2 : \n",
    "Constant Variance of Residuals Condition:\n",
    "Looking at the same model above, it appears that the y-axis spread of the residual points changes as we move from the left to the right of this residual plot. Thus, this condition is not met."
   ]
  },
  {
   "cell_type": "markdown",
   "metadata": {},
   "source": [
    "# Condition 3 :\n",
    "\n",
    "The residuals are normal, with a mean of zero by looking at a histogram of the residuals for this model below. The distrobution shows to be approximately normal and centered at 0."
   ]
  },
  {
   "cell_type": "code",
   "execution_count": 78,
   "metadata": {},
   "outputs": [
    {
     "data": {
      "image/png": "[encoded data removed]",
      "text/plain": [
       "<Figure size 432x288 with 1 Axes>"
      ]
     },
     "metadata": {},
     "output_type": "display_data"
    }
   ],
   "source": [
    "plt.hist(results.resid) \n",
    "plt.xlabel('Residuals') \n",
    "plt.show() "
   ]
  },
  {
   "cell_type": "markdown",
   "metadata": {},
   "source": [
    "# Condition 4 : \n",
    "Independence of Residuals\n",
    "* the data is randomly sampled\n",
    "* the sample size n = 964 < 10 % all births in NC\n",
    "* This condition is met"
   ]
  },
  {
   "cell_type": "markdown",
   "metadata": {},
   "source": [
    "# Condition 5 : \n",
    "No Multi-Collinearity Condition"
   ]
  },
  {
   "cell_type": "markdown",
   "metadata": {},
   "source": [
    "When examining each relationship between each pair of numerical explanatory variables, we do not see any strong linear relationships. Therfore, there are no multicollinear explanatory variables. Thus this condition is met. "
   ]
  },
  {
   "cell_type": "code",
   "execution_count": 79,
   "metadata": {},
   "outputs": [
    {
     "data": {
      "image/png": "[encoded data removed]",
      "text/plain": [
       "<Figure size 540x540 with 12 Axes>"
      ]
     },
     "metadata": {},
     "output_type": "display_data"
    }
   ],
   "source": [
    "sns.pairplot(df[['weeks','visits','gained']]) \n",
    "plt.show() "
   ]
  },
  {
   "cell_type": "code",
   "execution_count": 80,
   "metadata": {},
   "outputs": [
    {
     "data": {
      "text/html": [
       "<div>\n",
       "<style scoped>\n",
       "    .dataframe tbody tr th:only-of-type {\n",
       "        vertical-align: middle;\n",
       "    }\n",
       "\n",
       "    .dataframe tbody tr th {\n",
       "        vertical-align: top;\n",
       "    }\n",
       "\n",
       "    .dataframe thead th {\n",
       "        text-align: right;\n",
       "    }\n",
       "</style>\n",
       "<table border=\"1\" class=\"dataframe\">\n",
       "  <thead>\n",
       "    <tr style=\"text-align: right;\">\n",
       "      <th></th>\n",
       "      <th>weeks</th>\n",
       "      <th>visits</th>\n",
       "      <th>gained</th>\n",
       "    </tr>\n",
       "  </thead>\n",
       "  <tbody>\n",
       "    <tr>\n",
       "      <th>weeks</th>\n",
       "      <td>1.000000</td>\n",
       "      <td>0.160212</td>\n",
       "      <td>0.089231</td>\n",
       "    </tr>\n",
       "    <tr>\n",
       "      <th>visits</th>\n",
       "      <td>0.160212</td>\n",
       "      <td>1.000000</td>\n",
       "      <td>0.059570</td>\n",
       "    </tr>\n",
       "    <tr>\n",
       "      <th>gained</th>\n",
       "      <td>0.089231</td>\n",
       "      <td>0.059570</td>\n",
       "      <td>1.000000</td>\n",
       "    </tr>\n",
       "  </tbody>\n",
       "</table>\n",
       "</div>"
      ],
      "text/plain": [
       "           weeks    visits    gained\n",
       "weeks   1.000000  0.160212  0.089231\n",
       "visits  0.160212  1.000000  0.059570\n",
       "gained  0.089231  0.059570  1.000000"
      ]
     },
     "execution_count": 80,
     "metadata": {},
     "output_type": "execute_result"
    }
   ],
   "source": [
    "df[['weeks','visits','gained']].corr() "
   ]
  },
  {
   "cell_type": "markdown",
   "metadata": {},
   "source": [
    "#### 3.4.2. Assessing all Population Slopes\n",
    "\n",
    "Finally, we would like to determine *which* explanatory variables we have sufficient evidence to suggest are <u>linearly associated</u> with **child birth weight** in *ALL North Carolina births*? \n",
    "\n",
    "Or in other words, we would like to determine *which* of our slopes in the corresponding population main model we have sufficient evidence to suggest are non-zero. For any hypothesis test(s) that you use to answer this question, use a significance level of $\\alpha=0.01.$ \n",
    "\n",
    "Answer this question below and explain your answers."
   ]
  },
  {
   "cell_type": "markdown",
   "metadata": {},
   "source": [
    "Ho: Beta_1 = 0 \n",
    "\n",
    "Ha : Beta_1 != 0"
   ]
  },
  {
   "cell_type": "markdown",
   "metadata": {},
   "source": [
    "p - value < 0.0001"
   ]
  },
  {
   "cell_type": "markdown",
   "metadata": {},
   "source": [
    "Ho: Beta_2 = 0 \n",
    "\n",
    "Ha : Beta_2 != 0"
   ]
  },
  {
   "cell_type": "markdown",
   "metadata": {},
   "source": [
    "pvalue < 0.0001"
   ]
  },
  {
   "cell_type": "markdown",
   "metadata": {},
   "source": [
    "Ho: Beta_3 = 0 \n",
    "\n",
    "Ha : Beta_3 != 0"
   ]
  },
  {
   "cell_type": "markdown",
   "metadata": {},
   "source": [
    "pvalue < 0.0001"
   ]
  },
  {
   "cell_type": "markdown",
   "metadata": {},
   "source": [
    "Ho: Beta_4 = 0 \n",
    "\n",
    "Ha : Beta_4 != 0"
   ]
  },
  {
   "cell_type": "markdown",
   "metadata": {},
   "source": [
    "pvalue = 0.786"
   ]
  },
  {
   "cell_type": "markdown",
   "metadata": {},
   "source": [
    "Ho: Beta_5 = 0 \n",
    "\n",
    "Ha : Beta_5 != 0"
   ]
  },
  {
   "cell_type": "markdown",
   "metadata": {},
   "source": [
    "pvalue < 0.0001"
   ]
  },
  {
   "cell_type": "markdown",
   "metadata": {},
   "source": [
    "All of these p-values, except for the 4th one, are greater than the alpha level 0.01. Thus, the only slope that we have evidence to suggest is non-zero in the corresponding population model is Beta_5"
   ]
  },
  {
   "cell_type": "markdown",
   "metadata": {},
   "source": [
    "#### 3.4.3. Assessing the Type 1 Error Rate so Far\n",
    "\n",
    "Recall that every hypothesis test that we have used to answer questions in this entire exam has used a significance level of $\\alpha=0.01$. \n",
    "\n",
    "1. How many hypothesis tests have we used through out this *whole exam* to answer our research questions? *(You may or may not have explicitly written out each one of these hypothesis tests).*\n",
    "\n",
    "\n",
    "2. With this in mind, what is the probability that we have made at least one Type 1 error throughout all of our hypothesis tests that we used in this exam?"
   ]
  },
  {
   "cell_type": "markdown",
   "metadata": {},
   "source": [
    "number of hypothesis tests : 7"
   ]
  },
  {
   "cell_type": "code",
   "execution_count": 81,
   "metadata": {},
   "outputs": [
    {
     "data": {
      "text/plain": [
       "0.07"
      ]
     },
     "execution_count": 81,
     "metadata": {},
     "output_type": "execute_result"
    }
   ],
   "source": [
    "prob_of_getting_a_type_1_error = 0.01*(7)\n",
    "prob_of_getting_a_type_1_error"
   ]
  },
  {
   "cell_type": "markdown",
   "metadata": {},
   "source": [
    "### 3.5. Population Weeks Slope Confidence Interval\n",
    "\n",
    "#### 3.5.1. Weeks Slope Confidence Interval\n",
    "Create a 99% confidence interval for the weeks slope in the corresponding population model."
   ]
  },
  {
   "cell_type": "code",
   "execution_count": 82,
   "metadata": {},
   "outputs": [
    {
     "data": {
      "text/plain": [
       "25.384615384615387"
      ]
     },
     "execution_count": 82,
     "metadata": {},
     "output_type": "execute_result"
    }
   ],
   "source": [
    "point_estimate_weeks = 0.33\n",
    "standard_error_weeks = 0.013\n",
    "null_value_weeks = 0 \n",
    " \n",
    "test_stat_weeks = (point_estimate_weeks - null_value_weeks)/standard_error_weeks \n",
    "test_stat_weeks"
   ]
  },
  {
   "cell_type": "code",
   "execution_count": 83,
   "metadata": {},
   "outputs": [
    {
     "data": {
      "text/plain": [
       "2.3263478740408408"
      ]
     },
     "execution_count": 83,
     "metadata": {},
     "output_type": "execute_result"
    }
   ],
   "source": [
    "critical_value_weeks = t.ppf(0.99, df=958) \n",
    "critical_value "
   ]
  },
  {
   "cell_type": "code",
   "execution_count": 84,
   "metadata": {},
   "outputs": [
    {
     "name": "stdout",
     "output_type": "stream",
     "text": [
      "0.2997067932146884 0.3602932067853116\n"
     ]
    }
   ],
   "source": [
    "lower_bound_weeks = point_estimate_weeks - critical_value_weeks*standard_error_weeks\n",
    "upper_bound_weeks = point_estimate_weeks + critical_value_weeks*standard_error_weeks\n",
    "print(lower_bound_weeks, upper_bound_weeks) "
   ]
  },
  {
   "cell_type": "markdown",
   "metadata": {},
   "source": [
    "#### 3.5.2. Interpretation\n",
    "\n",
    "Put this confidence interval into words."
   ]
  },
  {
   "cell_type": "markdown",
   "metadata": {},
   "source": [
    "We are 99% confident that the number of weeks slope is between 0.2997067932146884 and 0.3602932067853116"
   ]
  },
  {
   "cell_type": "markdown",
   "metadata": {},
   "source": [
    "## <u>Research Goal 3</u>: Explanatory Variable with the Highest Predictive Power in Predicting Birth Weight\n",
    "\n",
    "For our third research question, we would like to determine *which* explanatory variable has the most \"predictive power\" on it's own when it comes to predicting **child birth weight**.\n",
    "\n",
    "### 4.1. 5 Simple Linear Regression Models\n",
    "\n",
    "To help us answer this question, fit five simple linear regression models\n",
    "* one that predicts weight with marital status\n",
    "* one that predicts weight with baby gender\n",
    "* one that predicts weight with weeks\n",
    "* one that predicts weight with visits\n",
    "* one that predicts weight with gained\n",
    "\n",
    "For each of these 5 fitted models, either print out the summary output table or just the R^2.\n"
   ]
  },
  {
   "cell_type": "code",
   "execution_count": 85,
   "metadata": {},
   "outputs": [
    {
     "data": {
      "text/html": [
       "<table class=\"simpletable\">\n",
       "<caption>OLS Regression Results</caption>\n",
       "<tr>\n",
       "  <th>Dep. Variable:</th>         <td>weight</td>      <th>  R-squared:         </th> <td>   0.025</td>\n",
       "</tr>\n",
       "<tr>\n",
       "  <th>Model:</th>                   <td>OLS</td>       <th>  Adj. R-squared:    </th> <td>   0.024</td>\n",
       "</tr>\n",
       "<tr>\n",
       "  <th>Method:</th>             <td>Least Squares</td>  <th>  F-statistic:       </th> <td>   24.81</td>\n",
       "</tr>\n",
       "<tr>\n",
       "  <th>Date:</th>             <td>Fri, 04 Nov 2022</td> <th>  Prob (F-statistic):</th> <td>7.51e-07</td>\n",
       "</tr>\n",
       "<tr>\n",
       "  <th>Time:</th>                 <td>09:38:42</td>     <th>  Log-Likelihood:    </th> <td> -1728.7</td>\n",
       "</tr>\n",
       "<tr>\n",
       "  <th>No. Observations:</th>      <td>   964</td>      <th>  AIC:               </th> <td>   3461.</td>\n",
       "</tr>\n",
       "<tr>\n",
       "  <th>Df Residuals:</th>          <td>   962</td>      <th>  BIC:               </th> <td>   3471.</td>\n",
       "</tr>\n",
       "<tr>\n",
       "  <th>Df Model:</th>              <td>     1</td>      <th>                     </th>     <td> </td>   \n",
       "</tr>\n",
       "<tr>\n",
       "  <th>Covariance Type:</th>      <td>nonrobust</td>    <th>                     </th>     <td> </td>   \n",
       "</tr>\n",
       "</table>\n",
       "<table class=\"simpletable\">\n",
       "<tr>\n",
       "             <td></td>               <th>coef</th>     <th>std err</th>      <th>t</th>      <th>P>|t|</th>  <th>[0.025</th>    <th>0.975]</th>  \n",
       "</tr>\n",
       "<tr>\n",
       "  <th>Intercept</th>              <td>    7.3116</td> <td>    0.059</td> <td>  123.044</td> <td> 0.000</td> <td>    7.195</td> <td>    7.428</td>\n",
       "</tr>\n",
       "<tr>\n",
       "  <th>marital[T.not married]</th> <td>   -0.4816</td> <td>    0.097</td> <td>   -4.981</td> <td> 0.000</td> <td>   -0.671</td> <td>   -0.292</td>\n",
       "</tr>\n",
       "</table>\n",
       "<table class=\"simpletable\">\n",
       "<tr>\n",
       "  <th>Omnibus:</th>       <td>191.131</td> <th>  Durbin-Watson:     </th> <td>   1.652</td>\n",
       "</tr>\n",
       "<tr>\n",
       "  <th>Prob(Omnibus):</th> <td> 0.000</td>  <th>  Jarque-Bera (JB):  </th> <td> 441.473</td>\n",
       "</tr>\n",
       "<tr>\n",
       "  <th>Skew:</th>          <td>-1.074</td>  <th>  Prob(JB):          </th> <td>1.37e-96</td>\n",
       "</tr>\n",
       "<tr>\n",
       "  <th>Kurtosis:</th>      <td> 5.525</td>  <th>  Cond. No.          </th> <td>    2.43</td>\n",
       "</tr>\n",
       "</table><br/><br/>Notes:<br/>[1] Standard Errors assume that the covariance matrix of the errors is correctly specified."
      ],
      "text/plain": [
       "<class 'statsmodels.iolib.summary.Summary'>\n",
       "\"\"\"\n",
       "                            OLS Regression Results                            \n",
       "==============================================================================\n",
       "Dep. Variable:                 weight   R-squared:                       0.025\n",
       "Model:                            OLS   Adj. R-squared:                  0.024\n",
       "Method:                 Least Squares   F-statistic:                     24.81\n",
       "Date:                Fri, 04 Nov 2022   Prob (F-statistic):           7.51e-07\n",
       "Time:                        09:38:42   Log-Likelihood:                -1728.7\n",
       "No. Observations:                 964   AIC:                             3461.\n",
       "Df Residuals:                     962   BIC:                             3471.\n",
       "Df Model:                           1                                         \n",
       "Covariance Type:            nonrobust                                         \n",
       "==========================================================================================\n",
       "                             coef    std err          t      P>|t|      [0.025      0.975]\n",
       "------------------------------------------------------------------------------------------\n",
       "Intercept                  7.3116      0.059    123.044      0.000       7.195       7.428\n",
       "marital[T.not married]    -0.4816      0.097     -4.981      0.000      -0.671      -0.292\n",
       "==============================================================================\n",
       "Omnibus:                      191.131   Durbin-Watson:                   1.652\n",
       "Prob(Omnibus):                  0.000   Jarque-Bera (JB):              441.473\n",
       "Skew:                          -1.074   Prob(JB):                     1.37e-96\n",
       "Kurtosis:                       5.525   Cond. No.                         2.43\n",
       "==============================================================================\n",
       "\n",
       "Notes:\n",
       "[1] Standard Errors assume that the covariance matrix of the errors is correctly specified.\n",
       "\"\"\""
      ]
     },
     "execution_count": 85,
     "metadata": {},
     "output_type": "execute_result"
    }
   ],
   "source": [
    "results_marital = smf.ols('weight ~ marital',data = df).fit()\n",
    "results_marital.summary()"
   ]
  },
  {
   "cell_type": "code",
   "execution_count": 86,
   "metadata": {},
   "outputs": [
    {
     "data": {
      "text/html": [
       "<table class=\"simpletable\">\n",
       "<caption>OLS Regression Results</caption>\n",
       "<tr>\n",
       "  <th>Dep. Variable:</th>         <td>weight</td>      <th>  R-squared:         </th> <td>   0.021</td>\n",
       "</tr>\n",
       "<tr>\n",
       "  <th>Model:</th>                   <td>OLS</td>       <th>  Adj. R-squared:    </th> <td>   0.020</td>\n",
       "</tr>\n",
       "<tr>\n",
       "  <th>Method:</th>             <td>Least Squares</td>  <th>  F-statistic:       </th> <td>   20.23</td>\n",
       "</tr>\n",
       "<tr>\n",
       "  <th>Date:</th>             <td>Fri, 04 Nov 2022</td> <th>  Prob (F-statistic):</th> <td>7.72e-06</td>\n",
       "</tr>\n",
       "<tr>\n",
       "  <th>Time:</th>                 <td>09:38:42</td>     <th>  Log-Likelihood:    </th> <td> -1731.0</td>\n",
       "</tr>\n",
       "<tr>\n",
       "  <th>No. Observations:</th>      <td>   964</td>      <th>  AIC:               </th> <td>   3466.</td>\n",
       "</tr>\n",
       "<tr>\n",
       "  <th>Df Residuals:</th>          <td>   962</td>      <th>  BIC:               </th> <td>   3476.</td>\n",
       "</tr>\n",
       "<tr>\n",
       "  <th>Df Model:</th>              <td>     1</td>      <th>                     </th>     <td> </td>   \n",
       "</tr>\n",
       "<tr>\n",
       "  <th>Covariance Type:</th>      <td>nonrobust</td>    <th>                     </th>     <td> </td>   \n",
       "</tr>\n",
       "</table>\n",
       "<table class=\"simpletable\">\n",
       "<tr>\n",
       "         <td></td>           <th>coef</th>     <th>std err</th>      <th>t</th>      <th>P>|t|</th>  <th>[0.025</th>    <th>0.975]</th>  \n",
       "</tr>\n",
       "<tr>\n",
       "  <th>Intercept</th>      <td>    6.9189</td> <td>    0.066</td> <td>  104.225</td> <td> 0.000</td> <td>    6.789</td> <td>    7.049</td>\n",
       "</tr>\n",
       "<tr>\n",
       "  <th>gender[T.male]</th> <td>    0.4227</td> <td>    0.094</td> <td>    4.497</td> <td> 0.000</td> <td>    0.238</td> <td>    0.607</td>\n",
       "</tr>\n",
       "</table>\n",
       "<table class=\"simpletable\">\n",
       "<tr>\n",
       "  <th>Omnibus:</th>       <td>209.839</td> <th>  Durbin-Watson:     </th> <td>   1.604</td> \n",
       "</tr>\n",
       "<tr>\n",
       "  <th>Prob(Omnibus):</th> <td> 0.000</td>  <th>  Jarque-Bera (JB):  </th> <td> 515.906</td> \n",
       "</tr>\n",
       "<tr>\n",
       "  <th>Skew:</th>          <td>-1.148</td>  <th>  Prob(JB):          </th> <td>9.39e-113</td>\n",
       "</tr>\n",
       "<tr>\n",
       "  <th>Kurtosis:</th>      <td> 5.752</td>  <th>  Cond. No.          </th> <td>    2.62</td> \n",
       "</tr>\n",
       "</table><br/><br/>Notes:<br/>[1] Standard Errors assume that the covariance matrix of the errors is correctly specified."
      ],
      "text/plain": [
       "<class 'statsmodels.iolib.summary.Summary'>\n",
       "\"\"\"\n",
       "                            OLS Regression Results                            \n",
       "==============================================================================\n",
       "Dep. Variable:                 weight   R-squared:                       0.021\n",
       "Model:                            OLS   Adj. R-squared:                  0.020\n",
       "Method:                 Least Squares   F-statistic:                     20.23\n",
       "Date:                Fri, 04 Nov 2022   Prob (F-statistic):           7.72e-06\n",
       "Time:                        09:38:42   Log-Likelihood:                -1731.0\n",
       "No. Observations:                 964   AIC:                             3466.\n",
       "Df Residuals:                     962   BIC:                             3476.\n",
       "Df Model:                           1                                         \n",
       "Covariance Type:            nonrobust                                         \n",
       "==================================================================================\n",
       "                     coef    std err          t      P>|t|      [0.025      0.975]\n",
       "----------------------------------------------------------------------------------\n",
       "Intercept          6.9189      0.066    104.225      0.000       6.789       7.049\n",
       "gender[T.male]     0.4227      0.094      4.497      0.000       0.238       0.607\n",
       "==============================================================================\n",
       "Omnibus:                      209.839   Durbin-Watson:                   1.604\n",
       "Prob(Omnibus):                  0.000   Jarque-Bera (JB):              515.906\n",
       "Skew:                          -1.148   Prob(JB):                    9.39e-113\n",
       "Kurtosis:                       5.752   Cond. No.                         2.62\n",
       "==============================================================================\n",
       "\n",
       "Notes:\n",
       "[1] Standard Errors assume that the covariance matrix of the errors is correctly specified.\n",
       "\"\"\""
      ]
     },
     "execution_count": 86,
     "metadata": {},
     "output_type": "execute_result"
    }
   ],
   "source": [
    "results_gender = smf.ols('weight ~ gender',data = df).fit()\n",
    "results_gender.summary()"
   ]
  },
  {
   "cell_type": "code",
   "execution_count": 87,
   "metadata": {},
   "outputs": [
    {
     "data": {
      "text/html": [
       "<table class=\"simpletable\">\n",
       "<caption>OLS Regression Results</caption>\n",
       "<tr>\n",
       "  <th>Dep. Variable:</th>         <td>weight</td>      <th>  R-squared:         </th> <td>   0.423</td> \n",
       "</tr>\n",
       "<tr>\n",
       "  <th>Model:</th>                   <td>OLS</td>       <th>  Adj. R-squared:    </th> <td>   0.422</td> \n",
       "</tr>\n",
       "<tr>\n",
       "  <th>Method:</th>             <td>Least Squares</td>  <th>  F-statistic:       </th> <td>   705.3</td> \n",
       "</tr>\n",
       "<tr>\n",
       "  <th>Date:</th>             <td>Fri, 04 Nov 2022</td> <th>  Prob (F-statistic):</th> <td>5.15e-117</td>\n",
       "</tr>\n",
       "<tr>\n",
       "  <th>Time:</th>                 <td>09:38:42</td>     <th>  Log-Likelihood:    </th> <td> -1475.9</td> \n",
       "</tr>\n",
       "<tr>\n",
       "  <th>No. Observations:</th>      <td>   964</td>      <th>  AIC:               </th> <td>   2956.</td> \n",
       "</tr>\n",
       "<tr>\n",
       "  <th>Df Residuals:</th>          <td>   962</td>      <th>  BIC:               </th> <td>   2966.</td> \n",
       "</tr>\n",
       "<tr>\n",
       "  <th>Df Model:</th>              <td>     1</td>      <th>                     </th>     <td> </td>    \n",
       "</tr>\n",
       "<tr>\n",
       "  <th>Covariance Type:</th>      <td>nonrobust</td>    <th>                     </th>     <td> </td>    \n",
       "</tr>\n",
       "</table>\n",
       "<table class=\"simpletable\">\n",
       "<tr>\n",
       "      <td></td>         <th>coef</th>     <th>std err</th>      <th>t</th>      <th>P>|t|</th>  <th>[0.025</th>    <th>0.975]</th>  \n",
       "</tr>\n",
       "<tr>\n",
       "  <th>Intercept</th> <td>   -5.8829</td> <td>    0.491</td> <td>  -11.974</td> <td> 0.000</td> <td>   -6.847</td> <td>   -4.919</td>\n",
       "</tr>\n",
       "<tr>\n",
       "  <th>weeks</th>     <td>    0.3389</td> <td>    0.013</td> <td>   26.558</td> <td> 0.000</td> <td>    0.314</td> <td>    0.364</td>\n",
       "</tr>\n",
       "</table>\n",
       "<table class=\"simpletable\">\n",
       "<tr>\n",
       "  <th>Omnibus:</th>       <td> 4.449</td> <th>  Durbin-Watson:     </th> <td>   1.992</td>\n",
       "</tr>\n",
       "<tr>\n",
       "  <th>Prob(Omnibus):</th> <td> 0.108</td> <th>  Jarque-Bera (JB):  </th> <td>   4.809</td>\n",
       "</tr>\n",
       "<tr>\n",
       "  <th>Skew:</th>          <td> 0.088</td> <th>  Prob(JB):          </th> <td>  0.0903</td>\n",
       "</tr>\n",
       "<tr>\n",
       "  <th>Kurtosis:</th>      <td> 3.298</td> <th>  Cond. No.          </th> <td>    525.</td>\n",
       "</tr>\n",
       "</table><br/><br/>Notes:<br/>[1] Standard Errors assume that the covariance matrix of the errors is correctly specified."
      ],
      "text/plain": [
       "<class 'statsmodels.iolib.summary.Summary'>\n",
       "\"\"\"\n",
       "                            OLS Regression Results                            \n",
       "==============================================================================\n",
       "Dep. Variable:                 weight   R-squared:                       0.423\n",
       "Model:                            OLS   Adj. R-squared:                  0.422\n",
       "Method:                 Least Squares   F-statistic:                     705.3\n",
       "Date:                Fri, 04 Nov 2022   Prob (F-statistic):          5.15e-117\n",
       "Time:                        09:38:42   Log-Likelihood:                -1475.9\n",
       "No. Observations:                 964   AIC:                             2956.\n",
       "Df Residuals:                     962   BIC:                             2966.\n",
       "Df Model:                           1                                         \n",
       "Covariance Type:            nonrobust                                         \n",
       "==============================================================================\n",
       "                 coef    std err          t      P>|t|      [0.025      0.975]\n",
       "------------------------------------------------------------------------------\n",
       "Intercept     -5.8829      0.491    -11.974      0.000      -6.847      -4.919\n",
       "weeks          0.3389      0.013     26.558      0.000       0.314       0.364\n",
       "==============================================================================\n",
       "Omnibus:                        4.449   Durbin-Watson:                   1.992\n",
       "Prob(Omnibus):                  0.108   Jarque-Bera (JB):                4.809\n",
       "Skew:                           0.088   Prob(JB):                       0.0903\n",
       "Kurtosis:                       3.298   Cond. No.                         525.\n",
       "==============================================================================\n",
       "\n",
       "Notes:\n",
       "[1] Standard Errors assume that the covariance matrix of the errors is correctly specified.\n",
       "\"\"\""
      ]
     },
     "execution_count": 87,
     "metadata": {},
     "output_type": "execute_result"
    }
   ],
   "source": [
    "results_weeks = smf.ols('weight ~ weeks',data = df).fit()\n",
    "results_weeks.summary()"
   ]
  },
  {
   "cell_type": "code",
   "execution_count": 88,
   "metadata": {},
   "outputs": [
    {
     "data": {
      "text/html": [
       "<table class=\"simpletable\">\n",
       "<caption>OLS Regression Results</caption>\n",
       "<tr>\n",
       "  <th>Dep. Variable:</th>         <td>weight</td>      <th>  R-squared:         </th> <td>   0.015</td>\n",
       "</tr>\n",
       "<tr>\n",
       "  <th>Model:</th>                   <td>OLS</td>       <th>  Adj. R-squared:    </th> <td>   0.014</td>\n",
       "</tr>\n",
       "<tr>\n",
       "  <th>Method:</th>             <td>Least Squares</td>  <th>  F-statistic:       </th> <td>   14.36</td>\n",
       "</tr>\n",
       "<tr>\n",
       "  <th>Date:</th>             <td>Fri, 04 Nov 2022</td> <th>  Prob (F-statistic):</th> <td>0.000160</td>\n",
       "</tr>\n",
       "<tr>\n",
       "  <th>Time:</th>                 <td>09:38:42</td>     <th>  Log-Likelihood:    </th> <td> -1733.9</td>\n",
       "</tr>\n",
       "<tr>\n",
       "  <th>No. Observations:</th>      <td>   964</td>      <th>  AIC:               </th> <td>   3472.</td>\n",
       "</tr>\n",
       "<tr>\n",
       "  <th>Df Residuals:</th>          <td>   962</td>      <th>  BIC:               </th> <td>   3481.</td>\n",
       "</tr>\n",
       "<tr>\n",
       "  <th>Df Model:</th>              <td>     1</td>      <th>                     </th>     <td> </td>   \n",
       "</tr>\n",
       "<tr>\n",
       "  <th>Covariance Type:</th>      <td>nonrobust</td>    <th>                     </th>     <td> </td>   \n",
       "</tr>\n",
       "</table>\n",
       "<table class=\"simpletable\">\n",
       "<tr>\n",
       "      <td></td>         <th>coef</th>     <th>std err</th>      <th>t</th>      <th>P>|t|</th>  <th>[0.025</th>    <th>0.975]</th>  \n",
       "</tr>\n",
       "<tr>\n",
       "  <th>Intercept</th> <td>    6.5719</td> <td>    0.155</td> <td>   42.521</td> <td> 0.000</td> <td>    6.269</td> <td>    6.875</td>\n",
       "</tr>\n",
       "<tr>\n",
       "  <th>visits</th>    <td>    0.0457</td> <td>    0.012</td> <td>    3.790</td> <td> 0.000</td> <td>    0.022</td> <td>    0.069</td>\n",
       "</tr>\n",
       "</table>\n",
       "<table class=\"simpletable\">\n",
       "<tr>\n",
       "  <th>Omnibus:</th>       <td>182.115</td> <th>  Durbin-Watson:     </th> <td>   1.640</td>\n",
       "</tr>\n",
       "<tr>\n",
       "  <th>Prob(Omnibus):</th> <td> 0.000</td>  <th>  Jarque-Bera (JB):  </th> <td> 411.366</td>\n",
       "</tr>\n",
       "<tr>\n",
       "  <th>Skew:</th>          <td>-1.035</td>  <th>  Prob(JB):          </th> <td>4.71e-90</td>\n",
       "</tr>\n",
       "<tr>\n",
       "  <th>Kurtosis:</th>      <td> 5.440</td>  <th>  Cond. No.          </th> <td>    42.2</td>\n",
       "</tr>\n",
       "</table><br/><br/>Notes:<br/>[1] Standard Errors assume that the covariance matrix of the errors is correctly specified."
      ],
      "text/plain": [
       "<class 'statsmodels.iolib.summary.Summary'>\n",
       "\"\"\"\n",
       "                            OLS Regression Results                            \n",
       "==============================================================================\n",
       "Dep. Variable:                 weight   R-squared:                       0.015\n",
       "Model:                            OLS   Adj. R-squared:                  0.014\n",
       "Method:                 Least Squares   F-statistic:                     14.36\n",
       "Date:                Fri, 04 Nov 2022   Prob (F-statistic):           0.000160\n",
       "Time:                        09:38:42   Log-Likelihood:                -1733.9\n",
       "No. Observations:                 964   AIC:                             3472.\n",
       "Df Residuals:                     962   BIC:                             3481.\n",
       "Df Model:                           1                                         \n",
       "Covariance Type:            nonrobust                                         \n",
       "==============================================================================\n",
       "                 coef    std err          t      P>|t|      [0.025      0.975]\n",
       "------------------------------------------------------------------------------\n",
       "Intercept      6.5719      0.155     42.521      0.000       6.269       6.875\n",
       "visits         0.0457      0.012      3.790      0.000       0.022       0.069\n",
       "==============================================================================\n",
       "Omnibus:                      182.115   Durbin-Watson:                   1.640\n",
       "Prob(Omnibus):                  0.000   Jarque-Bera (JB):              411.366\n",
       "Skew:                          -1.035   Prob(JB):                     4.71e-90\n",
       "Kurtosis:                       5.440   Cond. No.                         42.2\n",
       "==============================================================================\n",
       "\n",
       "Notes:\n",
       "[1] Standard Errors assume that the covariance matrix of the errors is correctly specified.\n",
       "\"\"\""
      ]
     },
     "execution_count": 88,
     "metadata": {},
     "output_type": "execute_result"
    }
   ],
   "source": [
    "results_visits = smf.ols('weight ~ visits',data = df).fit()\n",
    "results_visits.summary()"
   ]
  },
  {
   "cell_type": "code",
   "execution_count": 89,
   "metadata": {},
   "outputs": [
    {
     "data": {
      "text/html": [
       "<table class=\"simpletable\">\n",
       "<caption>OLS Regression Results</caption>\n",
       "<tr>\n",
       "  <th>Dep. Variable:</th>         <td>weight</td>      <th>  R-squared:         </th> <td>   0.023</td>\n",
       "</tr>\n",
       "<tr>\n",
       "  <th>Model:</th>                   <td>OLS</td>       <th>  Adj. R-squared:    </th> <td>   0.022</td>\n",
       "</tr>\n",
       "<tr>\n",
       "  <th>Method:</th>             <td>Least Squares</td>  <th>  F-statistic:       </th> <td>   22.48</td>\n",
       "</tr>\n",
       "<tr>\n",
       "  <th>Date:</th>             <td>Fri, 04 Nov 2022</td> <th>  Prob (F-statistic):</th> <td>2.44e-06</td>\n",
       "</tr>\n",
       "<tr>\n",
       "  <th>Time:</th>                 <td>09:38:42</td>     <th>  Log-Likelihood:    </th> <td> -1729.9</td>\n",
       "</tr>\n",
       "<tr>\n",
       "  <th>No. Observations:</th>      <td>   964</td>      <th>  AIC:               </th> <td>   3464.</td>\n",
       "</tr>\n",
       "<tr>\n",
       "  <th>Df Residuals:</th>          <td>   962</td>      <th>  BIC:               </th> <td>   3473.</td>\n",
       "</tr>\n",
       "<tr>\n",
       "  <th>Df Model:</th>              <td>     1</td>      <th>                     </th>     <td> </td>   \n",
       "</tr>\n",
       "<tr>\n",
       "  <th>Covariance Type:</th>      <td>nonrobust</td>    <th>                     </th>     <td> </td>   \n",
       "</tr>\n",
       "</table>\n",
       "<table class=\"simpletable\">\n",
       "<tr>\n",
       "      <td></td>         <th>coef</th>     <th>std err</th>      <th>t</th>      <th>P>|t|</th>  <th>[0.025</th>    <th>0.975]</th>  \n",
       "</tr>\n",
       "<tr>\n",
       "  <th>Intercept</th> <td>    6.6539</td> <td>    0.111</td> <td>   60.057</td> <td> 0.000</td> <td>    6.436</td> <td>    6.871</td>\n",
       "</tr>\n",
       "<tr>\n",
       "  <th>gained</th>    <td>    0.0157</td> <td>    0.003</td> <td>    4.741</td> <td> 0.000</td> <td>    0.009</td> <td>    0.022</td>\n",
       "</tr>\n",
       "</table>\n",
       "<table class=\"simpletable\">\n",
       "<tr>\n",
       "  <th>Omnibus:</th>       <td>196.255</td> <th>  Durbin-Watson:     </th> <td>   1.603</td> \n",
       "</tr>\n",
       "<tr>\n",
       "  <th>Prob(Omnibus):</th> <td> 0.000</td>  <th>  Jarque-Bera (JB):  </th> <td> 470.731</td> \n",
       "</tr>\n",
       "<tr>\n",
       "  <th>Skew:</th>          <td>-1.086</td>  <th>  Prob(JB):          </th> <td>6.05e-103</td>\n",
       "</tr>\n",
       "<tr>\n",
       "  <th>Kurtosis:</th>      <td> 5.646</td>  <th>  Cond. No.          </th> <td>    79.1</td> \n",
       "</tr>\n",
       "</table><br/><br/>Notes:<br/>[1] Standard Errors assume that the covariance matrix of the errors is correctly specified."
      ],
      "text/plain": [
       "<class 'statsmodels.iolib.summary.Summary'>\n",
       "\"\"\"\n",
       "                            OLS Regression Results                            \n",
       "==============================================================================\n",
       "Dep. Variable:                 weight   R-squared:                       0.023\n",
       "Model:                            OLS   Adj. R-squared:                  0.022\n",
       "Method:                 Least Squares   F-statistic:                     22.48\n",
       "Date:                Fri, 04 Nov 2022   Prob (F-statistic):           2.44e-06\n",
       "Time:                        09:38:42   Log-Likelihood:                -1729.9\n",
       "No. Observations:                 964   AIC:                             3464.\n",
       "Df Residuals:                     962   BIC:                             3473.\n",
       "Df Model:                           1                                         \n",
       "Covariance Type:            nonrobust                                         \n",
       "==============================================================================\n",
       "                 coef    std err          t      P>|t|      [0.025      0.975]\n",
       "------------------------------------------------------------------------------\n",
       "Intercept      6.6539      0.111     60.057      0.000       6.436       6.871\n",
       "gained         0.0157      0.003      4.741      0.000       0.009       0.022\n",
       "==============================================================================\n",
       "Omnibus:                      196.255   Durbin-Watson:                   1.603\n",
       "Prob(Omnibus):                  0.000   Jarque-Bera (JB):              470.731\n",
       "Skew:                          -1.086   Prob(JB):                    6.05e-103\n",
       "Kurtosis:                       5.646   Cond. No.                         79.1\n",
       "==============================================================================\n",
       "\n",
       "Notes:\n",
       "[1] Standard Errors assume that the covariance matrix of the errors is correctly specified.\n",
       "\"\"\""
      ]
     },
     "execution_count": 89,
     "metadata": {},
     "output_type": "execute_result"
    }
   ],
   "source": [
    "results_gained = smf.ols('weight ~ gained',data = df).fit()\n",
    "results_gained.summary()"
   ]
  },
  {
   "cell_type": "markdown",
   "metadata": {},
   "source": [
    "### 4.2. Explanatory Variable with the Most Predictive Power\n",
    "\n",
    "The \"predictive power\" that an explanatory variable has (on it's own) in predicting the birth weight can be measured by the overall fit it's simple linear regression model has. Therefore, which of our 5 explanatory variables that we evaluated has the highest \"predictive power\" (on it's own) when it comes to predicting birth weight? Explain."
   ]
  },
  {
   "cell_type": "markdown",
   "metadata": {},
   "source": [
    "The birthweight vs weeks has the highest predictive power since the R^2 value is the highest out of all the other variables. "
   ]
  },
  {
   "cell_type": "markdown",
   "metadata": {},
   "source": [
    "## 🎉🎉🎉Enjoy the weekend! Just a few more week until the break! 🎉🎉🎉"
   ]
  }
 ],
 "metadata": {
  "kernelspec": {
   "display_name": "Python 3 (ipykernel)",
   "language": "python",
   "name": "python3"
  },
  "language_info": {
   "codemirror_mode": {
    "name": "ipython",
    "version": 3
   },
   "file_extension": ".py",
   "mimetype": "text/x-python",
   "name": "python",
   "nbconvert_exporter": "python",
   "pygments_lexer": "ipython3",
   "version": "3.9.12"
  }
 },
 "nbformat": 4,
 "nbformat_minor": 4
}
