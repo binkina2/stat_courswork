{
 "cells": [
  {
   "cell_type": "markdown",
   "metadata": {},
   "source": [
    "# STAT 207 Lab 8 - Group Part - [5.75 total points/5 points]\n",
    "\n",
    "You can get 0.75 extra points here.\n",
    "\n",
    "## Hypothesis Testing"
   ]
  },
  {
   "cell_type": "markdown",
   "metadata": {},
   "source": [
    "Due: Tuesday, October 18, 11:59pm CST\n",
    "\n",
    "<p>&nbsp;</p>\n",
    "<table style=\"border: none;border-collapse: collapse;width:102pt;\">\n",
    "    <tbody>\n",
    "        <tr>\n",
    "            <td style=\"color:black;font-size:15px;font-weight:700;font-style:normal;text-decoration:none;font-family:Calibri, sans-serif;text-align:right;vertical-align:bottom;border:.5pt solid windowtext;height:14.25pt;width:51pt;\">Problem</td>\n",
    "            <td style=\"color:black;font-size:15px;font-weight:700;font-style:normal;text-decoration:none;font-family:Calibri, sans-serif;text-align:right;vertical-align:bottom;border:.5pt solid windowtext;border-left:none;width:51pt;\">Points</td>\n",
    "        </tr>\n",
    "        <tr>\n",
    "            <td style=\"color:black;font-size:15px;font-weight:400;font-style:normal;text-decoration:none;font-family:Calibri, sans-serif;text-align:right;vertical-align:bottom;border:none;height:14.25pt;\">1.1</td>\n",
    "            <td style=\"color:black;font-size:15px;font-weight:400;font-style:normal;text-decoration:none;font-family:Calibri, sans-serif;text-align:right;vertical-align:bottom;border:none;\">0.25</td>\n",
    "        </tr>\n",
    "        <tr>\n",
    "            <td style=\"color:black;font-size:15px;font-weight:400;font-style:normal;text-decoration:none;font-family:Calibri, sans-serif;text-align:right;vertical-align:bottom;border:none;height:14.25pt;\">1.2</td>\n",
    "            <td style=\"color:black;font-size:15px;font-weight:400;font-style:normal;text-decoration:none;font-family:Calibri, sans-serif;text-align:right;vertical-align:bottom;border:none;\">0.25</td>\n",
    "        </tr>\n",
    "        <tr>\n",
    "            <td style=\"color:black;font-size:15px;font-weight:400;font-style:normal;text-decoration:none;font-family:Calibri, sans-serif;text-align:right;vertical-align:bottom;border:none;height:14.25pt;\">1.3</td>\n",
    "            <td style=\"color:black;font-size:15px;font-weight:400;font-style:normal;text-decoration:none;font-family:Calibri, sans-serif;text-align:right;vertical-align:bottom;border:none;\">0.25</td>\n",
    "        </tr>\n",
    "        <tr>\n",
    "            <td style=\"color:black;font-size:15px;font-weight:400;font-style:normal;text-decoration:none;font-family:Calibri, sans-serif;text-align:right;vertical-align:bottom;border:none;height:14.25pt;\">2.1</td>\n",
    "            <td style=\"color:black;font-size:15px;font-weight:400;font-style:normal;text-decoration:none;font-family:Calibri, sans-serif;text-align:right;vertical-align:bottom;border:none;\">0.5</td>\n",
    "        </tr>\n",
    "        <tr>\n",
    "            <td style=\"color:black;font-size:15px;font-weight:400;font-style:normal;text-decoration:none;font-family:Calibri, sans-serif;text-align:right;vertical-align:bottom;border:none;height:14.25pt;\">2.2</td>\n",
    "            <td style=\"color:black;font-size:15px;font-weight:400;font-style:normal;text-decoration:none;font-family:Calibri, sans-serif;text-align:right;vertical-align:bottom;border:none;\">0.25</td>\n",
    "        </tr>\n",
    "        <tr>\n",
    "            <td style=\"color:black;font-size:15px;font-weight:400;font-style:normal;text-decoration:none;font-family:Calibri, sans-serif;text-align:right;vertical-align:bottom;border:none;height:14.25pt;\">2.3</td>\n",
    "            <td style=\"color:black;font-size:15px;font-weight:400;font-style:normal;text-decoration:none;font-family:Calibri, sans-serif;text-align:right;vertical-align:bottom;border:none;\">0.5</td>\n",
    "        </tr>\n",
    "        <tr>\n",
    "            <td style=\"color:black;font-size:15px;font-weight:400;font-style:normal;text-decoration:none;font-family:Calibri, sans-serif;text-align:right;vertical-align:bottom;border:none;height:14.25pt;\">2.4</td>\n",
    "            <td style=\"color:black;font-size:15px;font-weight:400;font-style:normal;text-decoration:none;font-family:Calibri, sans-serif;text-align:right;vertical-align:bottom;border:none;\">0.75</td>\n",
    "        </tr>\n",
    "        <tr>\n",
    "            <td style=\"color:black;font-size:15px;font-weight:400;font-style:normal;text-decoration:none;font-family:Calibri, sans-serif;text-align:right;vertical-align:bottom;border:none;height:14.25pt;\">2.5</td>\n",
    "            <td style=\"color:black;font-size:15px;font-weight:400;font-style:normal;text-decoration:none;font-family:Calibri, sans-serif;text-align:right;vertical-align:bottom;border:none;\">0.5</td>\n",
    "        </tr>\n",
    "        <tr>\n",
    "            <td style=\"color:black;font-size:15px;font-weight:400;font-style:normal;text-decoration:none;font-family:Calibri, sans-serif;text-align:right;vertical-align:bottom;border:none;height:14.25pt;\">3.1</td>\n",
    "            <td style=\"color:black;font-size:15px;font-weight:400;font-style:normal;text-decoration:none;font-family:Calibri, sans-serif;text-align:right;vertical-align:bottom;border:none;\">0.5</td>\n",
    "        </tr>\n",
    "        <tr>\n",
    "            <td style=\"color:black;font-size:15px;font-weight:400;font-style:normal;text-decoration:none;font-family:Calibri, sans-serif;text-align:right;vertical-align:bottom;border:none;height:14.25pt;\">3.2</td>\n",
    "            <td style=\"color:black;font-size:15px;font-weight:400;font-style:normal;text-decoration:none;font-family:Calibri, sans-serif;text-align:right;vertical-align:bottom;border:none;\">0.25</td>\n",
    "        </tr>\n",
    "        <tr>\n",
    "            <td style=\"color:black;font-size:15px;font-weight:400;font-style:normal;text-decoration:none;font-family:Calibri, sans-serif;text-align:right;vertical-align:bottom;border:none;height:14.25pt;\">3.3</td>\n",
    "            <td style=\"color:black;font-size:15px;font-weight:400;font-style:normal;text-decoration:none;font-family:Calibri, sans-serif;text-align:right;vertical-align:bottom;border:none;\">0.5</td>\n",
    "        </tr>\n",
    "        <tr>\n",
    "            <td style=\"color:black;font-size:15px;font-weight:400;font-style:normal;text-decoration:none;font-family:Calibri, sans-serif;text-align:right;vertical-align:bottom;border:none;height:14.25pt;\">3.4</td>\n",
    "            <td style=\"color:black;font-size:15px;font-weight:400;font-style:normal;text-decoration:none;font-family:Calibri, sans-serif;text-align:right;vertical-align:bottom;border:none;\">0.75</td>\n",
    "        </tr>\n",
    "        <tr>\n",
    "            <td style=\"color:black;font-size:15px;font-weight:400;font-style:normal;text-decoration:none;font-family:Calibri, sans-serif;text-align:right;vertical-align:bottom;border:none;height:14.25pt;\">3.5</td>\n",
    "            <td style=\"color:black;font-size:15px;font-weight:400;font-style:normal;text-decoration:none;font-family:Calibri, sans-serif;text-align:right;vertical-align:bottom;border:none;\">0.5</td>\n",
    "        </tr>\n",
    "    </tbody>\n",
    "</table>\n",
    "\n",
    "## <u>Case Study</u>: American Community Survey Analysis\n",
    "\n",
    "The data in the **acs12.csv** contains information about a **random sample** of **adults living in the U.S. in 2012**. Let's use this random sample to evaluate hypotheses about:\n",
    "* the **average income** of **all adults living in the U.S.** and\n",
    "* the **proportion** of **all adults living in the U.S.** that speak a **language** other than English at home."
   ]
  },
  {
   "cell_type": "code",
   "execution_count": 43,
   "metadata": {},
   "outputs": [],
   "source": [
    "import pandas as pd\n",
    "\n",
    "import numpy as np\n",
    "\n",
    "import matplotlib.pyplot as plt\n",
    "\n",
    "from scipy.stats import bernoulli\n",
    "from scipy.stats import binom\n",
    "from scipy.stats import norm\n",
    "from scipy import stats\n",
    "\n",
    "from scipy.stats import t\n",
    "\n",
    "import math"
   ]
  },
  {
   "cell_type": "markdown",
   "metadata": {},
   "source": [
    "## 1. Data Cleaning\n",
    "\n",
    "### Reading in the csv File\n",
    "\n",
    "Read the csv file into a dataframe. There are missing values in this csv file that are indicated with the 'missing value' string. Make sure that when you read this csv file into a dataframe, you encode these 'missing value' strings as NaN values.\n",
    "\n"
   ]
  },
  {
   "cell_type": "code",
   "execution_count": 44,
   "metadata": {},
   "outputs": [
    {
     "data": {
      "text/html": [
       "<div>\n",
       "<style scoped>\n",
       "    .dataframe tbody tr th:only-of-type {\n",
       "        vertical-align: middle;\n",
       "    }\n",
       "\n",
       "    .dataframe tbody tr th {\n",
       "        vertical-align: top;\n",
       "    }\n",
       "\n",
       "    .dataframe thead th {\n",
       "        text-align: right;\n",
       "    }\n",
       "</style>\n",
       "<table border=\"1\" class=\"dataframe\">\n",
       "  <thead>\n",
       "    <tr style=\"text-align: right;\">\n",
       "      <th></th>\n",
       "      <th>income</th>\n",
       "      <th>employment</th>\n",
       "      <th>hrs_work</th>\n",
       "      <th>race</th>\n",
       "      <th>age</th>\n",
       "      <th>gender</th>\n",
       "      <th>citizen</th>\n",
       "      <th>time_to_work</th>\n",
       "      <th>lang</th>\n",
       "      <th>married</th>\n",
       "      <th>edu</th>\n",
       "      <th>disability</th>\n",
       "      <th>birth_qrtr</th>\n",
       "    </tr>\n",
       "  </thead>\n",
       "  <tbody>\n",
       "    <tr>\n",
       "      <th>0</th>\n",
       "      <td>60000.0</td>\n",
       "      <td>not in labor force</td>\n",
       "      <td>40.0</td>\n",
       "      <td>white</td>\n",
       "      <td>68</td>\n",
       "      <td>female</td>\n",
       "      <td>yes</td>\n",
       "      <td>NaN</td>\n",
       "      <td>english</td>\n",
       "      <td>no</td>\n",
       "      <td>college</td>\n",
       "      <td>no</td>\n",
       "      <td>jul thru sep</td>\n",
       "    </tr>\n",
       "    <tr>\n",
       "      <th>1</th>\n",
       "      <td>0.0</td>\n",
       "      <td>not in labor force</td>\n",
       "      <td>NaN</td>\n",
       "      <td>white</td>\n",
       "      <td>88</td>\n",
       "      <td>male</td>\n",
       "      <td>yes</td>\n",
       "      <td>NaN</td>\n",
       "      <td>english</td>\n",
       "      <td>no</td>\n",
       "      <td>hs or lower</td>\n",
       "      <td>yes</td>\n",
       "      <td>jan thru mar</td>\n",
       "    </tr>\n",
       "    <tr>\n",
       "      <th>2</th>\n",
       "      <td>NaN</td>\n",
       "      <td>NaN</td>\n",
       "      <td>NaN</td>\n",
       "      <td>white</td>\n",
       "      <td>12</td>\n",
       "      <td>female</td>\n",
       "      <td>yes</td>\n",
       "      <td>NaN</td>\n",
       "      <td>english</td>\n",
       "      <td>no</td>\n",
       "      <td>hs or lower</td>\n",
       "      <td>no</td>\n",
       "      <td>oct thru dec</td>\n",
       "    </tr>\n",
       "    <tr>\n",
       "      <th>3</th>\n",
       "      <td>0.0</td>\n",
       "      <td>not in labor force</td>\n",
       "      <td>NaN</td>\n",
       "      <td>white</td>\n",
       "      <td>17</td>\n",
       "      <td>male</td>\n",
       "      <td>yes</td>\n",
       "      <td>NaN</td>\n",
       "      <td>other</td>\n",
       "      <td>no</td>\n",
       "      <td>hs or lower</td>\n",
       "      <td>no</td>\n",
       "      <td>oct thru dec</td>\n",
       "    </tr>\n",
       "    <tr>\n",
       "      <th>4</th>\n",
       "      <td>0.0</td>\n",
       "      <td>not in labor force</td>\n",
       "      <td>NaN</td>\n",
       "      <td>white</td>\n",
       "      <td>77</td>\n",
       "      <td>female</td>\n",
       "      <td>yes</td>\n",
       "      <td>NaN</td>\n",
       "      <td>other</td>\n",
       "      <td>no</td>\n",
       "      <td>hs or lower</td>\n",
       "      <td>yes</td>\n",
       "      <td>jul thru sep</td>\n",
       "    </tr>\n",
       "    <tr>\n",
       "      <th>...</th>\n",
       "      <td>...</td>\n",
       "      <td>...</td>\n",
       "      <td>...</td>\n",
       "      <td>...</td>\n",
       "      <td>...</td>\n",
       "      <td>...</td>\n",
       "      <td>...</td>\n",
       "      <td>...</td>\n",
       "      <td>...</td>\n",
       "      <td>...</td>\n",
       "      <td>...</td>\n",
       "      <td>...</td>\n",
       "      <td>...</td>\n",
       "    </tr>\n",
       "    <tr>\n",
       "      <th>1995</th>\n",
       "      <td>0.0</td>\n",
       "      <td>not in labor force</td>\n",
       "      <td>NaN</td>\n",
       "      <td>white</td>\n",
       "      <td>71</td>\n",
       "      <td>female</td>\n",
       "      <td>yes</td>\n",
       "      <td>NaN</td>\n",
       "      <td>english</td>\n",
       "      <td>yes</td>\n",
       "      <td>hs or lower</td>\n",
       "      <td>no</td>\n",
       "      <td>oct thru dec</td>\n",
       "    </tr>\n",
       "    <tr>\n",
       "      <th>1996</th>\n",
       "      <td>0.0</td>\n",
       "      <td>not in labor force</td>\n",
       "      <td>NaN</td>\n",
       "      <td>other</td>\n",
       "      <td>50</td>\n",
       "      <td>female</td>\n",
       "      <td>no</td>\n",
       "      <td>NaN</td>\n",
       "      <td>other</td>\n",
       "      <td>yes</td>\n",
       "      <td>hs or lower</td>\n",
       "      <td>no</td>\n",
       "      <td>jul thru sep</td>\n",
       "    </tr>\n",
       "    <tr>\n",
       "      <th>1997</th>\n",
       "      <td>70000.0</td>\n",
       "      <td>employed</td>\n",
       "      <td>40.0</td>\n",
       "      <td>asian</td>\n",
       "      <td>63</td>\n",
       "      <td>male</td>\n",
       "      <td>yes</td>\n",
       "      <td>30.0</td>\n",
       "      <td>english</td>\n",
       "      <td>no</td>\n",
       "      <td>college</td>\n",
       "      <td>no</td>\n",
       "      <td>jan thru mar</td>\n",
       "    </tr>\n",
       "    <tr>\n",
       "      <th>1998</th>\n",
       "      <td>105000.0</td>\n",
       "      <td>employed</td>\n",
       "      <td>50.0</td>\n",
       "      <td>asian</td>\n",
       "      <td>36</td>\n",
       "      <td>male</td>\n",
       "      <td>yes</td>\n",
       "      <td>30.0</td>\n",
       "      <td>english</td>\n",
       "      <td>yes</td>\n",
       "      <td>college</td>\n",
       "      <td>no</td>\n",
       "      <td>apr thru jun</td>\n",
       "    </tr>\n",
       "    <tr>\n",
       "      <th>1999</th>\n",
       "      <td>0.0</td>\n",
       "      <td>unemployed</td>\n",
       "      <td>NaN</td>\n",
       "      <td>black</td>\n",
       "      <td>22</td>\n",
       "      <td>male</td>\n",
       "      <td>yes</td>\n",
       "      <td>NaN</td>\n",
       "      <td>english</td>\n",
       "      <td>no</td>\n",
       "      <td>college</td>\n",
       "      <td>no</td>\n",
       "      <td>oct thru dec</td>\n",
       "    </tr>\n",
       "  </tbody>\n",
       "</table>\n",
       "<p>2000 rows × 13 columns</p>\n",
       "</div>"
      ],
      "text/plain": [
       "        income          employment  hrs_work   race  age  gender citizen  \\\n",
       "0      60000.0  not in labor force      40.0  white   68  female     yes   \n",
       "1          0.0  not in labor force       NaN  white   88    male     yes   \n",
       "2          NaN                 NaN       NaN  white   12  female     yes   \n",
       "3          0.0  not in labor force       NaN  white   17    male     yes   \n",
       "4          0.0  not in labor force       NaN  white   77  female     yes   \n",
       "...        ...                 ...       ...    ...  ...     ...     ...   \n",
       "1995       0.0  not in labor force       NaN  white   71  female     yes   \n",
       "1996       0.0  not in labor force       NaN  other   50  female      no   \n",
       "1997   70000.0            employed      40.0  asian   63    male     yes   \n",
       "1998  105000.0            employed      50.0  asian   36    male     yes   \n",
       "1999       0.0          unemployed       NaN  black   22    male     yes   \n",
       "\n",
       "      time_to_work     lang married          edu disability    birth_qrtr  \n",
       "0              NaN  english      no      college         no  jul thru sep  \n",
       "1              NaN  english      no  hs or lower        yes  jan thru mar  \n",
       "2              NaN  english      no  hs or lower         no  oct thru dec  \n",
       "3              NaN    other      no  hs or lower         no  oct thru dec  \n",
       "4              NaN    other      no  hs or lower        yes  jul thru sep  \n",
       "...            ...      ...     ...          ...        ...           ...  \n",
       "1995           NaN  english     yes  hs or lower         no  oct thru dec  \n",
       "1996           NaN    other     yes  hs or lower         no  jul thru sep  \n",
       "1997          30.0  english      no      college         no  jan thru mar  \n",
       "1998          30.0  english     yes      college         no  apr thru jun  \n",
       "1999           NaN  english      no      college         no  oct thru dec  \n",
       "\n",
       "[2000 rows x 13 columns]"
      ]
     },
     "execution_count": 44,
     "metadata": {},
     "output_type": "execute_result"
    }
   ],
   "source": [
    "import pandas as pd\n",
    "df = pd.read_csv((\"acs12.csv\"),na_values = ['missing value'])\n",
    "df"
   ]
  },
  {
   "cell_type": "markdown",
   "metadata": {},
   "source": [
    "###  Cleaning the Dataframe\n",
    "\n",
    "We plan to only use the **income** and the **lang** variables. First, create a dataframe that is comprised of just these variables, and then drop all rows in this new dataframe that have a missing value."
   ]
  },
  {
   "cell_type": "code",
   "execution_count": 45,
   "metadata": {},
   "outputs": [
    {
     "data": {
      "text/html": [
       "<div>\n",
       "<style scoped>\n",
       "    .dataframe tbody tr th:only-of-type {\n",
       "        vertical-align: middle;\n",
       "    }\n",
       "\n",
       "    .dataframe tbody tr th {\n",
       "        vertical-align: top;\n",
       "    }\n",
       "\n",
       "    .dataframe thead th {\n",
       "        text-align: right;\n",
       "    }\n",
       "</style>\n",
       "<table border=\"1\" class=\"dataframe\">\n",
       "  <thead>\n",
       "    <tr style=\"text-align: right;\">\n",
       "      <th></th>\n",
       "      <th>income</th>\n",
       "      <th>lang</th>\n",
       "    </tr>\n",
       "  </thead>\n",
       "  <tbody>\n",
       "    <tr>\n",
       "      <th>0</th>\n",
       "      <td>60000.0</td>\n",
       "      <td>english</td>\n",
       "    </tr>\n",
       "    <tr>\n",
       "      <th>1</th>\n",
       "      <td>0.0</td>\n",
       "      <td>english</td>\n",
       "    </tr>\n",
       "    <tr>\n",
       "      <th>3</th>\n",
       "      <td>0.0</td>\n",
       "      <td>other</td>\n",
       "    </tr>\n",
       "    <tr>\n",
       "      <th>4</th>\n",
       "      <td>0.0</td>\n",
       "      <td>other</td>\n",
       "    </tr>\n",
       "    <tr>\n",
       "      <th>5</th>\n",
       "      <td>1700.0</td>\n",
       "      <td>other</td>\n",
       "    </tr>\n",
       "    <tr>\n",
       "      <th>...</th>\n",
       "      <td>...</td>\n",
       "      <td>...</td>\n",
       "    </tr>\n",
       "    <tr>\n",
       "      <th>1995</th>\n",
       "      <td>0.0</td>\n",
       "      <td>english</td>\n",
       "    </tr>\n",
       "    <tr>\n",
       "      <th>1996</th>\n",
       "      <td>0.0</td>\n",
       "      <td>other</td>\n",
       "    </tr>\n",
       "    <tr>\n",
       "      <th>1997</th>\n",
       "      <td>70000.0</td>\n",
       "      <td>english</td>\n",
       "    </tr>\n",
       "    <tr>\n",
       "      <th>1998</th>\n",
       "      <td>105000.0</td>\n",
       "      <td>english</td>\n",
       "    </tr>\n",
       "    <tr>\n",
       "      <th>1999</th>\n",
       "      <td>0.0</td>\n",
       "      <td>english</td>\n",
       "    </tr>\n",
       "  </tbody>\n",
       "</table>\n",
       "<p>1623 rows × 2 columns</p>\n",
       "</div>"
      ],
      "text/plain": [
       "        income     lang\n",
       "0      60000.0  english\n",
       "1          0.0  english\n",
       "3          0.0    other\n",
       "4          0.0    other\n",
       "5       1700.0    other\n",
       "...        ...      ...\n",
       "1995       0.0  english\n",
       "1996       0.0    other\n",
       "1997   70000.0  english\n",
       "1998  105000.0  english\n",
       "1999       0.0  english\n",
       "\n",
       "[1623 rows x 2 columns]"
      ]
     },
     "execution_count": 45,
     "metadata": {},
     "output_type": "execute_result"
    }
   ],
   "source": [
    "df2= df[['income', 'lang']].dropna()\n",
    "df2"
   ]
  },
  {
   "cell_type": "markdown",
   "metadata": {},
   "source": [
    "###  Number of Rows\n",
    "\n",
    "How many rows does this cleaned dataframe have?"
   ]
  },
  {
   "cell_type": "code",
   "execution_count": 46,
   "metadata": {},
   "outputs": [
    {
     "data": {
      "text/plain": [
       "1623"
      ]
     },
     "execution_count": 46,
     "metadata": {},
     "output_type": "execute_result"
    }
   ],
   "source": [
    "len(df2)"
   ]
  },
  {
   "cell_type": "markdown",
   "metadata": {},
   "source": [
    "## 2. Hypothesis Testing on Average Income\n",
    "\n",
    "In 2021, the average income for adults living in the U.S. was estimated to be $63,214. We would like to evaluate if there is evidence to suggest that the average income for adults living in the U.S. in 2012 was different from this number.\n",
    "\n",
    "### 2.1. Set up Hypotheses\n",
    "\n",
    "First set up your hypotheses for this test. Make sure you define any parameters that you use."
   ]
  },
  {
   "cell_type": "markdown",
   "metadata": {},
   "source": [
    "Ho: the average income for adults living in US is 63,214\n",
    "Ha: the average income for adults living in US is not 63,214\n"
   ]
  },
  {
   "cell_type": "markdown",
   "metadata": {},
   "source": [
    "### 2.2. Exploring the Sample of Incomes\n",
    "\n",
    "Calculate the mean and standard deviation income of this random sample. Also, plot this sample distribution with a histogram. Make sure you give this plot an appropriate title and set of x- and y-axis labels."
   ]
  },
  {
   "cell_type": "code",
   "execution_count": 47,
   "metadata": {},
   "outputs": [
    {
     "data": {
      "text/plain": [
       "23599.981515711646"
      ]
     },
     "execution_count": 47,
     "metadata": {},
     "output_type": "execute_result"
    }
   ],
   "source": [
    "mean_of_random_sample = df2['income'].mean()\n",
    "mean_of_random_sample"
   ]
  },
  {
   "cell_type": "code",
   "execution_count": 48,
   "metadata": {},
   "outputs": [
    {
     "data": {
      "text/plain": [
       "46567.23136687436"
      ]
     },
     "execution_count": 48,
     "metadata": {},
     "output_type": "execute_result"
    }
   ],
   "source": [
    "std_of_random_sample = df2['income'].std()\n",
    "std_of_random_sample"
   ]
  },
  {
   "cell_type": "code",
   "execution_count": 49,
   "metadata": {},
   "outputs": [
    {
     "data": {
      "image/png": "[encoded data removed]",
      "text/plain": [
       "<Figure size 432x288 with 1 Axes>"
      ]
     },
     "metadata": {
      "needs_background": "light"
     },
     "output_type": "display_data"
    }
   ],
   "source": [
    "df2['income'].hist()\n",
    "plt.title('Income Rates')\n",
    "plt.xlabel('Income')\n",
    "plt.ylabel('Frequency')\n",
    "plt.show()"
   ]
  },
  {
   "cell_type": "markdown",
   "metadata": {},
   "source": [
    "### 2.3. Conditions\n",
    "\n",
    "Next, check the conditions for conducting this hypothesis test."
   ]
  },
  {
   "cell_type": "markdown",
   "metadata": {},
   "source": [
    "* the sample is collected randomly from the population\n",
    "* n = 1623 < 10 percent of adults in US\n",
    "* n > 30\n",
    "*The CLT is met "
   ]
  },
  {
   "cell_type": "markdown",
   "metadata": {},
   "source": [
    "### 2.4. p-value\n",
    "\n",
    "Calculate the p-value for this hypothesis test.\n",
    "\n",
    "*You can calculate this p-value using any of the methods that we have discussed so far*."
   ]
  },
  {
   "cell_type": "code",
   "execution_count": 50,
   "metadata": {},
   "outputs": [
    {
     "data": {
      "text/plain": [
       "34.271076142528884"
      ]
     },
     "execution_count": 50,
     "metadata": {},
     "output_type": "execute_result"
    }
   ],
   "source": [
    "t_score = (63214 - mean_of_random_sample)/ ( (std_of_random_sample) / math.sqrt(df2.shape[0]))\n",
    "t_score"
   ]
  },
  {
   "cell_type": "code",
   "execution_count": 75,
   "metadata": {},
   "outputs": [
    {
     "data": {
      "text/plain": [
       "2.8909933948654286e-81"
      ]
     },
     "execution_count": 75,
     "metadata": {},
     "output_type": "execute_result"
    }
   ],
   "source": [
    "t.cdf(t_score,df = 1622)"
   ]
  },
  {
   "cell_type": "markdown",
   "metadata": {},
   "source": [
    "### 2.5. Conclusion\n",
    "\n",
    "Finally, make a conclusion with your p-value and a significance level of $\\alpha = 0.05$."
   ]
  },
  {
   "cell_type": "markdown",
   "metadata": {},
   "source": [
    "Since the pvalue is less than 0.05, we sufficient evidence to reject the null hypothesis and conclude the alternative"
   ]
  },
  {
   "cell_type": "markdown",
   "metadata": {},
   "source": [
    "## 3. Hypothesis Testing on the Proportion of Adults that Speak a Language Other than English at Home\n",
    "\n",
    "Next, we would like to assess how representative the adult residents of Champaign County, IL might be in comparison to the rest of adults living in the U.S. in 2012. It was recently estimated that about 17% of adults living in **Champaign county** speak a language other than English at home.\n",
    "\n",
    "Given that UIUC has a high amount of international students, we would like to test the claim that the proportion of all adults living in the U.S. in 2012 that speak a language other than English at home is different from this 17%.\n",
    "\n",
    "### 3.1. Set up Hypotheses\n",
    "\n",
    "First set up your hypotheses for this test. Make sure you define any parameters that you use."
   ]
  },
  {
   "cell_type": "markdown",
   "metadata": {},
   "source": [
    "Ho : about 17 percent of adults living in Champaign County speak a language other than english \n",
    "\n",
    "Ha : a different percentage than 17 percent of adults living in Champaign County speak a language other than english "
   ]
  },
  {
   "cell_type": "markdown",
   "metadata": {},
   "source": [
    "### 3.2. Exploring the Sample of Languages Spoken at Home\n",
    "\n",
    "Calculate the proportion of adults in this sample that speak a language 'other' than English at home."
   ]
  },
  {
   "cell_type": "code",
   "execution_count": 76,
   "metadata": {},
   "outputs": [
    {
     "data": {
      "text/plain": [
       "0.19038817005545286"
      ]
     },
     "execution_count": 76,
     "metadata": {},
     "output_type": "execute_result"
    }
   ],
   "source": [
    "len(df2[df2.lang == 'other'])/len(df2)"
   ]
  },
  {
   "cell_type": "code",
   "execution_count": 77,
   "metadata": {},
   "outputs": [
    {
     "data": {
      "text/plain": [
       "275.91"
      ]
     },
     "execution_count": 77,
     "metadata": {},
     "output_type": "execute_result"
    }
   ],
   "source": [
    "0.17*(len(df2))"
   ]
  },
  {
   "cell_type": "markdown",
   "metadata": {},
   "source": [
    "### 3.3. Conditions\n",
    "\n",
    "Next, check the conditions for conducting this hypothesis test."
   ]
  },
  {
   "cell_type": "markdown",
   "metadata": {},
   "source": [
    "* the sample is collected randomly from the population\n",
    "* Say there are more than 50k students at UIUC, then n = 1623 < 10 percent of students (5000)\n",
    "* n = 1623 > 30\n",
    "*The CLT is met "
   ]
  },
  {
   "cell_type": "markdown",
   "metadata": {},
   "source": [
    "### 3.4. p-value\n",
    "\n",
    "Calculate the p-value for this hypothesis test.\n",
    "\n",
    "*You can calculate this p-value using any of the methods that we have discussed so far*."
   ]
  },
  {
   "cell_type": "code",
   "execution_count": 78,
   "metadata": {},
   "outputs": [
    {
     "data": {
      "text/plain": [
       "-20.17823642874747"
      ]
     },
     "execution_count": 78,
     "metadata": {},
     "output_type": "execute_result"
    }
   ],
   "source": [
    "t_score2 = (275.91 - mean_of_random_sample)/ ( (std_of_random_sample) / math.sqrt(df2.shape[0]))\n",
    "t_score2"
   ]
  },
  {
   "cell_type": "code",
   "execution_count": 79,
   "metadata": {},
   "outputs": [
    {
     "data": {
      "text/plain": [
       "2.8909933948654286e-81"
      ]
     },
     "execution_count": 79,
     "metadata": {},
     "output_type": "execute_result"
    }
   ],
   "source": [
    "t.cdf(t_score2,df = 1622)"
   ]
  },
  {
   "cell_type": "markdown",
   "metadata": {},
   "source": [
    "### 3.5. Conclusion\n",
    "\n",
    "Finally, make a conclusion with your p-value and a significance level of $\\alpha = 0.01$."
   ]
  },
  {
   "cell_type": "markdown",
   "metadata": {},
   "source": [
    "Becuase the p value is bascically 0, we have sufficient evidence to reject the null hypothesis and conclude the alternative, meaning that the percent of students at UIUC that speak a language other than english is not 17 percent. "
   ]
  },
  {
   "cell_type": "markdown",
   "metadata": {},
   "source": [
    "### <u>Contribution Report</u>:"
   ]
  },
  {
   "cell_type": "markdown",
   "metadata": {},
   "source": [
    "all worked on everything together"
   ]
  }
 ],
 "metadata": {
  "kernelspec": {
   "display_name": "Python 3 (ipykernel)",
   "language": "python",
   "name": "python3"
  },
  "language_info": {
   "codemirror_mode": {
    "name": "ipython",
    "version": 3
   },
   "file_extension": ".py",
   "mimetype": "text/x-python",
   "name": "python",
   "nbconvert_exporter": "python",
   "pygments_lexer": "ipython3",
   "version": "3.9.12"
  }
 },
 "nbformat": 4,
 "nbformat_minor": 2
}
