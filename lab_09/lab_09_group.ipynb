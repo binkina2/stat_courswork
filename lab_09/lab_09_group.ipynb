{
 "cells": [
  {
   "cell_type": "markdown",
   "metadata": {},
   "source": [
    "# STAT 207 Lab 9 - Group Part - [5 total points]\n",
    "\n",
    "## Inference for Mean Differences and Proportion Differences"
   ]
  },
  {
   "cell_type": "markdown",
   "metadata": {},
   "source": [
    "Due: Tuesday, October 25 11:59pm CST\n",
    "\n",
    "## Testing for Associations in the Global 2021 Billionaire Population\n",
    "\n",
    "In this lab, we will return to the 2021 global billionaire dataset. We will assume that the dataset in the **Billionaire.csv** represents our population of interest. However, as we discussed, in most cases of inference we will not actually have access to this full population of data. The purpose of conducting inference is to use random samples from an unattainable population of data to make an inference about some unknown population parameter.\n",
    "\n",
    "However, for the sake of parts of this lab, again we will work with the actual population of data to gain a deeper understanding of the properties of inference. \n",
    "\n",
    "## Research Goals\n",
    "\n",
    "In this group lab we have the following research goals.\n",
    "\n",
    "1. Create an *actual* sampling distribution of sample mean differences (that will correspond to the theoretical one that we utilized in the individual lab).\n",
    "2. Analyze this *actual* sampling distribution.\n"
   ]
  },
  {
   "cell_type": "markdown",
   "metadata": {},
   "source": [
    "### Imports"
   ]
  },
  {
   "cell_type": "code",
   "execution_count": 53,
   "metadata": {},
   "outputs": [],
   "source": [
    "import pandas as pd\n",
    "import numpy as np\n",
    "import matplotlib.pyplot as plt\n",
    "\n",
    "from scipy.stats import bernoulli\n",
    "from scipy.stats import binom\n",
    "from scipy.stats import norm\n",
    "from scipy import stats\n",
    "from scipy.stats import t\n",
    "\n",
    "import math"
   ]
  },
  {
   "cell_type": "markdown",
   "metadata": {},
   "source": [
    "## 1. [0.5 pt] Data Processing and Cleaning\n",
    "\n",
    "Read the **Billionaire.csv** file into a dataframe. \n",
    "\n",
    "This dataframe has some missing values in the age column! However, we are in luck! The missing values in this csv file are encoded as 'N/A'. Luckily, the string 'N/A' is a string that the **pd.read_csv()** function automatically knows represents a missing value. So it will automatically turn these string values into a **NaN** value (whether you specify this with the **missing_values** parameter or not) and therefore not cause your numerical variable datatypes to be read as strings in this particular example.\n",
    "\n",
    "You should drop all rows with missing values."
   ]
  },
  {
   "cell_type": "code",
   "execution_count": 54,
   "metadata": {},
   "outputs": [
    {
     "data": {
      "text/html": [
       "<div>\n",
       "<style scoped>\n",
       "    .dataframe tbody tr th:only-of-type {\n",
       "        vertical-align: middle;\n",
       "    }\n",
       "\n",
       "    .dataframe tbody tr th {\n",
       "        vertical-align: top;\n",
       "    }\n",
       "\n",
       "    .dataframe thead th {\n",
       "        text-align: right;\n",
       "    }\n",
       "</style>\n",
       "<table border=\"1\" class=\"dataframe\">\n",
       "  <thead>\n",
       "    <tr style=\"text-align: right;\">\n",
       "      <th></th>\n",
       "      <th>Name</th>\n",
       "      <th>NetWorth_billions</th>\n",
       "      <th>Country</th>\n",
       "      <th>Source</th>\n",
       "      <th>Rank</th>\n",
       "      <th>Age</th>\n",
       "      <th>Industry</th>\n",
       "    </tr>\n",
       "  </thead>\n",
       "  <tbody>\n",
       "    <tr>\n",
       "      <th>0</th>\n",
       "      <td>Jeff Bezos</td>\n",
       "      <td>177.0</td>\n",
       "      <td>United States</td>\n",
       "      <td>Amazon</td>\n",
       "      <td>1</td>\n",
       "      <td>57.0</td>\n",
       "      <td>Technology</td>\n",
       "    </tr>\n",
       "    <tr>\n",
       "      <th>1</th>\n",
       "      <td>Elon Musk</td>\n",
       "      <td>151.0</td>\n",
       "      <td>United States</td>\n",
       "      <td>Tesla, SpaceX</td>\n",
       "      <td>2</td>\n",
       "      <td>49.0</td>\n",
       "      <td>Automotive</td>\n",
       "    </tr>\n",
       "    <tr>\n",
       "      <th>2</th>\n",
       "      <td>Bernard Arnault &amp; family</td>\n",
       "      <td>150.0</td>\n",
       "      <td>France</td>\n",
       "      <td>LVMH</td>\n",
       "      <td>3</td>\n",
       "      <td>72.0</td>\n",
       "      <td>Fashion &amp; Retail</td>\n",
       "    </tr>\n",
       "    <tr>\n",
       "      <th>3</th>\n",
       "      <td>Bill Gates</td>\n",
       "      <td>124.0</td>\n",
       "      <td>United States</td>\n",
       "      <td>Microsoft</td>\n",
       "      <td>4</td>\n",
       "      <td>65.0</td>\n",
       "      <td>Technology</td>\n",
       "    </tr>\n",
       "    <tr>\n",
       "      <th>4</th>\n",
       "      <td>Mark Zuckerberg</td>\n",
       "      <td>97.0</td>\n",
       "      <td>United States</td>\n",
       "      <td>Facebook</td>\n",
       "      <td>5</td>\n",
       "      <td>36.0</td>\n",
       "      <td>Technology</td>\n",
       "    </tr>\n",
       "    <tr>\n",
       "      <th>...</th>\n",
       "      <td>...</td>\n",
       "      <td>...</td>\n",
       "      <td>...</td>\n",
       "      <td>...</td>\n",
       "      <td>...</td>\n",
       "      <td>...</td>\n",
       "      <td>...</td>\n",
       "    </tr>\n",
       "    <tr>\n",
       "      <th>2750</th>\n",
       "      <td>Daniel Yong Zhang</td>\n",
       "      <td>1.0</td>\n",
       "      <td>China</td>\n",
       "      <td>e-commerce</td>\n",
       "      <td>2674</td>\n",
       "      <td>49.0</td>\n",
       "      <td>Technology</td>\n",
       "    </tr>\n",
       "    <tr>\n",
       "      <th>2751</th>\n",
       "      <td>Zhang Yuqiang</td>\n",
       "      <td>1.0</td>\n",
       "      <td>China</td>\n",
       "      <td>Fiberglass</td>\n",
       "      <td>2674</td>\n",
       "      <td>65.0</td>\n",
       "      <td>Manufacturing</td>\n",
       "    </tr>\n",
       "    <tr>\n",
       "      <th>2752</th>\n",
       "      <td>Zhao Meiguang</td>\n",
       "      <td>1.0</td>\n",
       "      <td>China</td>\n",
       "      <td>gold mining</td>\n",
       "      <td>2674</td>\n",
       "      <td>58.0</td>\n",
       "      <td>Metals &amp; Mining</td>\n",
       "    </tr>\n",
       "    <tr>\n",
       "      <th>2753</th>\n",
       "      <td>Zhong Naixiong</td>\n",
       "      <td>1.0</td>\n",
       "      <td>China</td>\n",
       "      <td>conglomerate</td>\n",
       "      <td>2674</td>\n",
       "      <td>58.0</td>\n",
       "      <td>Diversified</td>\n",
       "    </tr>\n",
       "    <tr>\n",
       "      <th>2754</th>\n",
       "      <td>Zhou Wei family</td>\n",
       "      <td>1.0</td>\n",
       "      <td>China</td>\n",
       "      <td>Software</td>\n",
       "      <td>2674</td>\n",
       "      <td>54.0</td>\n",
       "      <td>Technology</td>\n",
       "    </tr>\n",
       "  </tbody>\n",
       "</table>\n",
       "<p>2676 rows × 7 columns</p>\n",
       "</div>"
      ],
      "text/plain": [
       "                          Name  NetWorth_billions        Country  \\\n",
       "0                   Jeff Bezos              177.0  United States   \n",
       "1                    Elon Musk              151.0  United States   \n",
       "2     Bernard Arnault & family              150.0         France   \n",
       "3                   Bill Gates              124.0  United States   \n",
       "4              Mark Zuckerberg               97.0  United States   \n",
       "...                        ...                ...            ...   \n",
       "2750         Daniel Yong Zhang                1.0          China   \n",
       "2751             Zhang Yuqiang                1.0          China   \n",
       "2752             Zhao Meiguang                1.0          China   \n",
       "2753            Zhong Naixiong                1.0          China   \n",
       "2754           Zhou Wei family                1.0          China   \n",
       "\n",
       "             Source  Rank   Age          Industry  \n",
       "0            Amazon     1  57.0        Technology  \n",
       "1     Tesla, SpaceX     2  49.0        Automotive  \n",
       "2              LVMH     3  72.0  Fashion & Retail  \n",
       "3         Microsoft     4  65.0        Technology  \n",
       "4          Facebook     5  36.0        Technology  \n",
       "...             ...   ...   ...               ...  \n",
       "2750     e-commerce  2674  49.0        Technology  \n",
       "2751     Fiberglass  2674  65.0     Manufacturing  \n",
       "2752    gold mining  2674  58.0   Metals & Mining  \n",
       "2753   conglomerate  2674  58.0       Diversified  \n",
       "2754       Software  2674  54.0        Technology  \n",
       "\n",
       "[2676 rows x 7 columns]"
      ]
     },
     "execution_count": 54,
     "metadata": {},
     "output_type": "execute_result"
    }
   ],
   "source": [
    "df = pd.read_csv((\"Billionaire.csv\"), na_values = ['missing_values'])\n",
    "df.dropna()"
   ]
  },
  {
   "cell_type": "code",
   "execution_count": 55,
   "metadata": {},
   "outputs": [
    {
     "data": {
      "text/plain": [
       "2755"
      ]
     },
     "execution_count": 55,
     "metadata": {},
     "output_type": "execute_result"
    }
   ],
   "source": [
    "len(df)"
   ]
  },
  {
   "cell_type": "markdown",
   "metadata": {},
   "source": [
    "## 2. [0.5 pt] Two Populations of Tech and Non-Tech Billionaires\n",
    "\n",
    "In this analysis, we will consider two populations:\n",
    "* the population of billionaires that work in tech\n",
    "* the population of billionaires that do not work in tech\n",
    "\n",
    "Create two dataframes:\n",
    "* one that is comprised of the tech industry billionaires\n",
    "* one that is comprised of the non-tech industry billionaires"
   ]
  },
  {
   "cell_type": "code",
   "execution_count": 56,
   "metadata": {},
   "outputs": [
    {
     "data": {
      "text/html": [
       "<div>\n",
       "<style scoped>\n",
       "    .dataframe tbody tr th:only-of-type {\n",
       "        vertical-align: middle;\n",
       "    }\n",
       "\n",
       "    .dataframe tbody tr th {\n",
       "        vertical-align: top;\n",
       "    }\n",
       "\n",
       "    .dataframe thead th {\n",
       "        text-align: right;\n",
       "    }\n",
       "</style>\n",
       "<table border=\"1\" class=\"dataframe\">\n",
       "  <thead>\n",
       "    <tr style=\"text-align: right;\">\n",
       "      <th></th>\n",
       "      <th>Name</th>\n",
       "      <th>NetWorth_billions</th>\n",
       "      <th>Country</th>\n",
       "      <th>Source</th>\n",
       "      <th>Rank</th>\n",
       "      <th>Age</th>\n",
       "      <th>Industry</th>\n",
       "    </tr>\n",
       "  </thead>\n",
       "  <tbody>\n",
       "    <tr>\n",
       "      <th>0</th>\n",
       "      <td>Jeff Bezos</td>\n",
       "      <td>177.0</td>\n",
       "      <td>United States</td>\n",
       "      <td>Amazon</td>\n",
       "      <td>1</td>\n",
       "      <td>57.0</td>\n",
       "      <td>Technology</td>\n",
       "    </tr>\n",
       "    <tr>\n",
       "      <th>3</th>\n",
       "      <td>Bill Gates</td>\n",
       "      <td>124.0</td>\n",
       "      <td>United States</td>\n",
       "      <td>Microsoft</td>\n",
       "      <td>4</td>\n",
       "      <td>65.0</td>\n",
       "      <td>Technology</td>\n",
       "    </tr>\n",
       "    <tr>\n",
       "      <th>4</th>\n",
       "      <td>Mark Zuckerberg</td>\n",
       "      <td>97.0</td>\n",
       "      <td>United States</td>\n",
       "      <td>Facebook</td>\n",
       "      <td>5</td>\n",
       "      <td>36.0</td>\n",
       "      <td>Technology</td>\n",
       "    </tr>\n",
       "    <tr>\n",
       "      <th>6</th>\n",
       "      <td>Larry Ellison</td>\n",
       "      <td>93.0</td>\n",
       "      <td>United States</td>\n",
       "      <td>software</td>\n",
       "      <td>7</td>\n",
       "      <td>76.0</td>\n",
       "      <td>Technology</td>\n",
       "    </tr>\n",
       "    <tr>\n",
       "      <th>7</th>\n",
       "      <td>Larry Page</td>\n",
       "      <td>91.5</td>\n",
       "      <td>United States</td>\n",
       "      <td>Google</td>\n",
       "      <td>8</td>\n",
       "      <td>48.0</td>\n",
       "      <td>Technology</td>\n",
       "    </tr>\n",
       "  </tbody>\n",
       "</table>\n",
       "</div>"
      ],
      "text/plain": [
       "              Name  NetWorth_billions        Country     Source  Rank   Age  \\\n",
       "0       Jeff Bezos              177.0  United States     Amazon     1  57.0   \n",
       "3       Bill Gates              124.0  United States  Microsoft     4  65.0   \n",
       "4  Mark Zuckerberg               97.0  United States   Facebook     5  36.0   \n",
       "6    Larry Ellison               93.0  United States   software     7  76.0   \n",
       "7       Larry Page               91.5  United States     Google     8  48.0   \n",
       "\n",
       "     Industry  \n",
       "0  Technology  \n",
       "3  Technology  \n",
       "4  Technology  \n",
       "6  Technology  \n",
       "7  Technology  "
      ]
     },
     "execution_count": 56,
     "metadata": {},
     "output_type": "execute_result"
    }
   ],
   "source": [
    "df_tech = df[df.Industry == 'Technology']\n",
    "df_tech.head()"
   ]
  },
  {
   "cell_type": "code",
   "execution_count": 57,
   "metadata": {},
   "outputs": [
    {
     "data": {
      "text/html": [
       "<div>\n",
       "<style scoped>\n",
       "    .dataframe tbody tr th:only-of-type {\n",
       "        vertical-align: middle;\n",
       "    }\n",
       "\n",
       "    .dataframe tbody tr th {\n",
       "        vertical-align: top;\n",
       "    }\n",
       "\n",
       "    .dataframe thead th {\n",
       "        text-align: right;\n",
       "    }\n",
       "</style>\n",
       "<table border=\"1\" class=\"dataframe\">\n",
       "  <thead>\n",
       "    <tr style=\"text-align: right;\">\n",
       "      <th></th>\n",
       "      <th>Name</th>\n",
       "      <th>NetWorth_billions</th>\n",
       "      <th>Country</th>\n",
       "      <th>Source</th>\n",
       "      <th>Rank</th>\n",
       "      <th>Age</th>\n",
       "      <th>Industry</th>\n",
       "    </tr>\n",
       "  </thead>\n",
       "  <tbody>\n",
       "    <tr>\n",
       "      <th>1</th>\n",
       "      <td>Elon Musk</td>\n",
       "      <td>151.0</td>\n",
       "      <td>United States</td>\n",
       "      <td>Tesla, SpaceX</td>\n",
       "      <td>2</td>\n",
       "      <td>49.0</td>\n",
       "      <td>Automotive</td>\n",
       "    </tr>\n",
       "    <tr>\n",
       "      <th>2</th>\n",
       "      <td>Bernard Arnault &amp; family</td>\n",
       "      <td>150.0</td>\n",
       "      <td>France</td>\n",
       "      <td>LVMH</td>\n",
       "      <td>3</td>\n",
       "      <td>72.0</td>\n",
       "      <td>Fashion &amp; Retail</td>\n",
       "    </tr>\n",
       "    <tr>\n",
       "      <th>5</th>\n",
       "      <td>Warren Buffett</td>\n",
       "      <td>96.0</td>\n",
       "      <td>United States</td>\n",
       "      <td>Berkshire Hathaway</td>\n",
       "      <td>6</td>\n",
       "      <td>90.0</td>\n",
       "      <td>Finance &amp; Investments</td>\n",
       "    </tr>\n",
       "    <tr>\n",
       "      <th>9</th>\n",
       "      <td>Mukesh Ambani</td>\n",
       "      <td>84.5</td>\n",
       "      <td>India</td>\n",
       "      <td>diversified</td>\n",
       "      <td>10</td>\n",
       "      <td>63.0</td>\n",
       "      <td>Diversified</td>\n",
       "    </tr>\n",
       "    <tr>\n",
       "      <th>10</th>\n",
       "      <td>Amancio Ortega</td>\n",
       "      <td>77.0</td>\n",
       "      <td>Spain</td>\n",
       "      <td>Zara</td>\n",
       "      <td>11</td>\n",
       "      <td>85.0</td>\n",
       "      <td>Fashion &amp; Retail</td>\n",
       "    </tr>\n",
       "  </tbody>\n",
       "</table>\n",
       "</div>"
      ],
      "text/plain": [
       "                        Name  NetWorth_billions        Country  \\\n",
       "1                  Elon Musk              151.0  United States   \n",
       "2   Bernard Arnault & family              150.0         France   \n",
       "5             Warren Buffett               96.0  United States   \n",
       "9              Mukesh Ambani               84.5          India   \n",
       "10            Amancio Ortega               77.0          Spain   \n",
       "\n",
       "                Source  Rank   Age               Industry  \n",
       "1        Tesla, SpaceX     2  49.0             Automotive  \n",
       "2                 LVMH     3  72.0       Fashion & Retail  \n",
       "5   Berkshire Hathaway     6  90.0  Finance & Investments  \n",
       "9          diversified    10  63.0            Diversified  \n",
       "10                Zara    11  85.0       Fashion & Retail  "
      ]
     },
     "execution_count": 57,
     "metadata": {},
     "output_type": "execute_result"
    }
   ],
   "source": [
    "df_non_tech = df[df.Industry != 'Technology']\n",
    "df_non_tech.head()"
   ]
  },
  {
   "cell_type": "markdown",
   "metadata": {},
   "source": [
    "## 3. [3 pt] *Actual* Sampling Distribution of Sample Mean Differences\n",
    "\n",
    "Below you should create an *actual* sampling distribution of sample mean differences (ie. values for $\\bar{x}_{tech}-\\bar{x}_{nontech}$) with the following specifications.\n",
    "\n",
    "1. Let $\\bar{x}_{tech}$ be the mean age of a random sample of 31 tech billionaires from the population of 2021 tech billionaires.\n",
    "2. Let $\\bar{x}_{nontech}$ be the mean age of a random sample of 40 tech billionaires from the population of 2021 tech billionaires.\n",
    "3. Your sampling distribution should be comprised of 1000 sample mean differences (ie. values for $\\bar{x}_{tech}-\\bar{x}_{nontech}$)."
   ]
  },
  {
   "cell_type": "code",
   "execution_count": 70,
   "metadata": {},
   "outputs": [],
   "source": [
    "def create_random_sample(df_tech, x = '', n=1, M = 1, random_state = 345):\n",
    "    sample_tech_age_mean = []\n",
    "    sample_non_tech_age_mean = []\n",
    "    df_mean_difference = []\n",
    "    \n",
    "    for i in range(M):\n",
    "        rand_tech_sample = df_tech['Age'].sample(31, replace=False)\n",
    "        rand_non_tech_sample = df_non_tech['Age'].sample(40, replace=False)\n",
    "\n",
    "        rand_tech_sample_mean = rand_tech_sample.mean()\n",
    "        rand_non_tech_sample_mean = rand_non_tech_sample.mean()\n",
    "\n",
    "    \n",
    "        df_mean_difference.append(rand_tech_sample_mean - rand_non_tech_sample_mean)\n",
    "\n",
    "\n",
    "        df_sample_age_mean = pd.DataFrame({'Mean Differences' : df_mean_difference})\n",
    "        \n",
    "    return df_sample_age_mean"
   ]
  },
  {
   "cell_type": "code",
   "execution_count": 80,
   "metadata": {},
   "outputs": [
    {
     "data": {
      "text/html": [
       "<div>\n",
       "<style scoped>\n",
       "    .dataframe tbody tr th:only-of-type {\n",
       "        vertical-align: middle;\n",
       "    }\n",
       "\n",
       "    .dataframe tbody tr th {\n",
       "        vertical-align: top;\n",
       "    }\n",
       "\n",
       "    .dataframe thead th {\n",
       "        text-align: right;\n",
       "    }\n",
       "</style>\n",
       "<table border=\"1\" class=\"dataframe\">\n",
       "  <thead>\n",
       "    <tr style=\"text-align: right;\">\n",
       "      <th></th>\n",
       "      <th>Mean Differences</th>\n",
       "    </tr>\n",
       "  </thead>\n",
       "  <tbody>\n",
       "    <tr>\n",
       "      <th>0</th>\n",
       "      <td>-8.285360</td>\n",
       "    </tr>\n",
       "    <tr>\n",
       "      <th>1</th>\n",
       "      <td>-7.219864</td>\n",
       "    </tr>\n",
       "    <tr>\n",
       "      <th>2</th>\n",
       "      <td>-8.003509</td>\n",
       "    </tr>\n",
       "    <tr>\n",
       "      <th>3</th>\n",
       "      <td>-6.954907</td>\n",
       "    </tr>\n",
       "    <tr>\n",
       "      <th>4</th>\n",
       "      <td>-11.236842</td>\n",
       "    </tr>\n",
       "    <tr>\n",
       "      <th>...</th>\n",
       "      <td>...</td>\n",
       "    </tr>\n",
       "    <tr>\n",
       "      <th>995</th>\n",
       "      <td>-11.498185</td>\n",
       "    </tr>\n",
       "    <tr>\n",
       "      <th>996</th>\n",
       "      <td>-9.108354</td>\n",
       "    </tr>\n",
       "    <tr>\n",
       "      <th>997</th>\n",
       "      <td>-7.610256</td>\n",
       "    </tr>\n",
       "    <tr>\n",
       "      <th>998</th>\n",
       "      <td>-11.451613</td>\n",
       "    </tr>\n",
       "    <tr>\n",
       "      <th>999</th>\n",
       "      <td>-8.466667</td>\n",
       "    </tr>\n",
       "  </tbody>\n",
       "</table>\n",
       "<p>1000 rows × 1 columns</p>\n",
       "</div>"
      ],
      "text/plain": [
       "     Mean Differences\n",
       "0           -8.285360\n",
       "1           -7.219864\n",
       "2           -8.003509\n",
       "3           -6.954907\n",
       "4          -11.236842\n",
       "..                ...\n",
       "995        -11.498185\n",
       "996         -9.108354\n",
       "997         -7.610256\n",
       "998        -11.451613\n",
       "999         -8.466667\n",
       "\n",
       "[1000 rows x 1 columns]"
      ]
     },
     "execution_count": 80,
     "metadata": {},
     "output_type": "execute_result"
    }
   ],
   "source": [
    "actual_sample = create_random_sample(df_tech, x = 'Age', n = 31, M=1000)\n",
    "actual_sample"
   ]
  },
  {
   "cell_type": "markdown",
   "metadata": {},
   "source": [
    "## 4. Sampling Distribution Properties\n",
    "\n",
    "### 4.1. [0.5 pt] Mean and Standard Deviation\n",
    "Calculate the *actual* mean and the standard deviation of this *actual* sampling distribution of sample mean differences that you created above"
   ]
  },
  {
   "cell_type": "code",
   "execution_count": 81,
   "metadata": {},
   "outputs": [
    {
     "data": {
      "text/plain": [
       "-9.527691664328469"
      ]
     },
     "execution_count": 81,
     "metadata": {},
     "output_type": "execute_result"
    }
   ],
   "source": [
    "actual_sample['Mean Differences'].mean()"
   ]
  },
  {
   "cell_type": "code",
   "execution_count": 82,
   "metadata": {},
   "outputs": [
    {
     "data": {
      "text/plain": [
       "2.9283755533037974"
      ]
     },
     "execution_count": 82,
     "metadata": {},
     "output_type": "execute_result"
    }
   ],
   "source": [
    "actual_sample['Mean Differences'].std()"
   ]
  },
  {
   "cell_type": "markdown",
   "metadata": {},
   "source": [
    "### 4.2. [0.5 pt] Sampling Distribution Shape\n",
    "\n",
    "Plot this sampling distribution of sample mean differences in a histogram. Make sure you appropriately label this plot."
   ]
  },
  {
   "cell_type": "code",
   "execution_count": 83,
   "metadata": {},
   "outputs": [
    {
     "data": {
      "image/png": "[encoded data removed]",
      "text/plain": [
       "<Figure size 432x288 with 1 Axes>"
      ]
     },
     "metadata": {
      "needs_background": "light"
     },
     "output_type": "display_data"
    }
   ],
   "source": [
    "actual_sample['Mean Differences'].hist()\n",
    "plt.title('Ages of Tech Billionairs Mean Differences')\n",
    "plt.xlabel('Mean Age Differences')\n",
    "plt.ylabel('Frequency')\n",
    "plt.show()"
   ]
  },
  {
   "cell_type": "markdown",
   "metadata": {},
   "source": [
    "I did this lab myself "
   ]
  }
 ],
 "metadata": {
  "kernelspec": {
   "display_name": "Python 3 (ipykernel)",
   "language": "python",
   "name": "python3"
  },
  "language_info": {
   "codemirror_mode": {
    "name": "ipython",
    "version": 3
   },
   "file_extension": ".py",
   "mimetype": "text/x-python",
   "name": "python",
   "nbconvert_exporter": "python",
   "pygments_lexer": "ipython3",
   "version": "3.9.12"
  }
 },
 "nbformat": 4,
 "nbformat_minor": 2
}
