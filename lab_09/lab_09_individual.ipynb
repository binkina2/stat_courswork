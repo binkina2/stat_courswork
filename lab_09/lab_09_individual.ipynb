{
 "cells": [
  {
   "cell_type": "markdown",
   "metadata": {},
   "source": [
    "# STAT 207 Lab 9 - Individual Part - [25 total points]\n",
    "\n",
    "## Inference for Mean Differences and Proportion Differences"
   ]
  },
  {
   "cell_type": "markdown",
   "metadata": {},
   "source": [
    "Due: Tuesday, October 25 11:59pm CST\n",
    "\n",
    "## Testing for Associations in the Global 2021 Billionaire Population\n",
    "\n",
    "In this lab, we will return to the 2021 global billionaire dataset. We will assume that the dataset in the **Billionaire.csv** represents our population of interest. However, as we discussed, in most cases of inference we will not actually have access to this full population of data. The purpose of conducting inference is to use random samples from an unattainable population of data to make an inference about some unknown population parameter.\n",
    "\n",
    "However, for the sake of some parts of this lab, again we will utilize and work with the actual population of data to gain a deeper understanding of the properties of inference. \n",
    "\n",
    "\n",
    "### Research Questions\n",
    "In this analysis, we will seek to answer the following research questions.\n",
    "1. Is there an association between billioniares that work in tech (or not) and the age of the billionaires. If so, quantify this association with a confidence interval.\n",
    "2. Is there an association between billioniares that work in tech (or not) and billionaires that live in the USA (or not). If so, quantify this association with a confidence interval.\n",
    "\n",
    "\n",
    "\n",
    "<p>&nbsp;</p>\n",
    "<table style=\"border: none;border-collapse: collapse;width:102pt;\">\n",
    "    <tbody>\n",
    "        <tr>\n",
    "            <td style=\"color:black;font-size:15px;font-weight:700;font-style:normal;text-decoration:none;font-family:Calibri, sans-serif;text-align:general;vertical-align:bottom;border:.5pt solid windowtext;height:14.25pt;width:51pt;\">Problem</td>\n",
    "            <td style=\"color:black;font-size:15px;font-weight:700;font-style:normal;text-decoration:none;font-family:Calibri, sans-serif;text-align:general;vertical-align:bottom;border:.5pt solid windowtext;border-left:none;width:51pt;\">Points</td>\n",
    "        </tr>\n",
    "        <tr>\n",
    "            <td style=\"color:black;font-size:15px;font-weight:400;font-style:normal;text-decoration:none;font-family:Calibri, sans-serif;text-align:right;vertical-align:bottom;border:.5pt solid windowtext;height:14.25pt;border-top:none;\">1.1</td>\n",
    "            <td style=\"color:black;font-size:15px;font-weight:400;font-style:normal;text-decoration:none;font-family:Calibri, sans-serif;text-align:right;vertical-align:bottom;border:.5pt solid windowtext;border-top:none;border-left:none;\">0.75</td>\n",
    "        </tr>\n",
    "        <tr>\n",
    "            <td style=\"color:black;font-size:15px;font-weight:400;font-style:normal;text-decoration:none;font-family:Calibri, sans-serif;text-align:right;vertical-align:bottom;border:.5pt solid windowtext;height:14.25pt;border-top:none;\">2.1</td>\n",
    "            <td style=\"color:black;font-size:15px;font-weight:400;font-style:normal;text-decoration:none;font-family:Calibri, sans-serif;text-align:right;vertical-align:bottom;border:.5pt solid windowtext;border-top:none;border-left:none;\">0.75</td>\n",
    "        </tr>\n",
    "        <tr>\n",
    "            <td style=\"color:black;font-size:15px;font-weight:400;font-style:normal;text-decoration:none;font-family:Calibri, sans-serif;text-align:right;vertical-align:bottom;border:.5pt solid windowtext;height:14.25pt;border-top:none;\">2.2</td>\n",
    "            <td style=\"color:black;font-size:15px;font-weight:400;font-style:normal;text-decoration:none;font-family:Calibri, sans-serif;text-align:right;vertical-align:bottom;border:.5pt solid windowtext;border-top:none;border-left:none;\">0.75</td>\n",
    "        </tr>\n",
    "        <tr>\n",
    "            <td style=\"color:black;font-size:15px;font-weight:400;font-style:normal;text-decoration:none;font-family:Calibri, sans-serif;text-align:right;vertical-align:bottom;border:.5pt solid windowtext;height:14.25pt;border-top:none;\">2.3</td>\n",
    "            <td style=\"color:black;font-size:15px;font-weight:400;font-style:normal;text-decoration:none;font-family:Calibri, sans-serif;text-align:right;vertical-align:bottom;border:.5pt solid windowtext;border-top:none;border-left:none;\">0.75</td>\n",
    "        </tr>\n",
    "        <tr>\n",
    "            <td style=\"color:black;font-size:15px;font-weight:400;font-style:normal;text-decoration:none;font-family:Calibri, sans-serif;text-align:right;vertical-align:bottom;border:.5pt solid windowtext;height:14.25pt;border-top:none;\">2.4</td>\n",
    "            <td style=\"color:black;font-size:15px;font-weight:400;font-style:normal;text-decoration:none;font-family:Calibri, sans-serif;text-align:right;vertical-align:bottom;border:.5pt solid windowtext;border-top:none;border-left:none;\">0.75</td>\n",
    "        </tr>\n",
    "        <tr>\n",
    "            <td style=\"color:black;font-size:15px;font-weight:400;font-style:normal;text-decoration:none;font-family:Calibri, sans-serif;text-align:right;vertical-align:bottom;border:.5pt solid windowtext;height:14.25pt;border-top:none;\">3.1</td>\n",
    "            <td style=\"color:black;font-size:15px;font-weight:400;font-style:normal;text-decoration:none;font-family:Calibri, sans-serif;text-align:right;vertical-align:bottom;border:.5pt solid windowtext;border-top:none;border-left:none;\">0.75</td>\n",
    "        </tr>\n",
    "        <tr>\n",
    "            <td style=\"color:black;font-size:15px;font-weight:400;font-style:normal;text-decoration:none;font-family:Calibri, sans-serif;text-align:right;vertical-align:bottom;border:.5pt solid windowtext;height:14.25pt;border-top:none;\">3.2</td>\n",
    "            <td style=\"color:black;font-size:15px;font-weight:400;font-style:normal;text-decoration:none;font-family:Calibri, sans-serif;text-align:right;vertical-align:bottom;border:.5pt solid windowtext;border-top:none;border-left:none;\">0.75</td>\n",
    "        </tr>\n",
    "        <tr>\n",
    "            <td style=\"color:black;font-size:15px;font-weight:400;font-style:normal;text-decoration:none;font-family:Calibri, sans-serif;text-align:right;vertical-align:bottom;border:.5pt solid windowtext;height:14.25pt;border-top:none;\">3.3</td>\n",
    "            <td style=\"color:black;font-size:15px;font-weight:400;font-style:normal;text-decoration:none;font-family:Calibri, sans-serif;text-align:right;vertical-align:bottom;border:.5pt solid windowtext;border-top:none;border-left:none;\">0.75</td>\n",
    "        </tr>\n",
    "        <tr>\n",
    "            <td style=\"color:black;font-size:15px;font-weight:400;font-style:normal;text-decoration:none;font-family:Calibri, sans-serif;text-align:right;vertical-align:bottom;border:.5pt solid windowtext;height:14.25pt;border-top:none;\">4.1</td>\n",
    "            <td style=\"color:black;font-size:15px;font-weight:400;font-style:normal;text-decoration:none;font-family:Calibri, sans-serif;text-align:right;vertical-align:bottom;border:.5pt solid windowtext;border-top:none;border-left:none;\">0.75</td>\n",
    "        </tr>\n",
    "        <tr>\n",
    "            <td style=\"color:black;font-size:15px;font-weight:400;font-style:normal;text-decoration:none;font-family:Calibri, sans-serif;text-align:right;vertical-align:bottom;border:.5pt solid windowtext;height:14.25pt;border-top:none;\">4.2</td>\n",
    "            <td style=\"color:black;font-size:15px;font-weight:400;font-style:normal;text-decoration:none;font-family:Calibri, sans-serif;text-align:right;vertical-align:bottom;border:.5pt solid windowtext;border-top:none;border-left:none;\">0.75</td>\n",
    "        </tr>\n",
    "        <tr>\n",
    "            <td style=\"color:black;font-size:15px;font-weight:400;font-style:normal;text-decoration:none;font-family:Calibri, sans-serif;text-align:right;vertical-align:bottom;border:.5pt solid windowtext;height:14.25pt;border-top:none;\">4.3</td>\n",
    "            <td style=\"color:black;font-size:15px;font-weight:400;font-style:normal;text-decoration:none;font-family:Calibri, sans-serif;text-align:right;vertical-align:bottom;border:.5pt solid windowtext;border-top:none;border-left:none;\">1.25</td>\n",
    "        </tr>\n",
    "        <tr>\n",
    "            <td style=\"color:black;font-size:15px;font-weight:400;font-style:normal;text-decoration:none;font-family:Calibri, sans-serif;text-align:right;vertical-align:bottom;border:.5pt solid windowtext;height:14.25pt;border-top:none;\">4.4 and 4.5</td>\n",
    "            <td style=\"color:black;font-size:15px;font-weight:400;font-style:normal;text-decoration:none;font-family:Calibri, sans-serif;text-align:right;vertical-align:bottom;border:.5pt solid windowtext;border-top:none;border-left:none;\">1</td>\n",
    "        </tr>\n",
    "        <tr>\n",
    "            <td style=\"color:black;font-size:15px;font-weight:400;font-style:normal;text-decoration:none;font-family:Calibri, sans-serif;text-align:right;vertical-align:bottom;border:.5pt solid windowtext;height:14.25pt;border-top:none;\">5.1</td>\n",
    "            <td style=\"color:black;font-size:15px;font-weight:400;font-style:normal;text-decoration:none;font-family:Calibri, sans-serif;text-align:right;vertical-align:bottom;border:.5pt solid windowtext;border-top:none;border-left:none;\">0.75</td>\n",
    "        </tr>\n",
    "        <tr>\n",
    "            <td style=\"color:black;font-size:15px;font-weight:400;font-style:normal;text-decoration:none;font-family:Calibri, sans-serif;text-align:right;vertical-align:bottom;border:.5pt solid windowtext;height:14.25pt;border-top:none;\">5.2</td>\n",
    "            <td style=\"color:black;font-size:15px;font-weight:400;font-style:normal;text-decoration:none;font-family:Calibri, sans-serif;text-align:right;vertical-align:bottom;border:.5pt solid windowtext;border-top:none;border-left:none;\">0.75</td>\n",
    "        </tr>\n",
    "        <tr>\n",
    "            <td style=\"color:black;font-size:15px;font-weight:400;font-style:normal;text-decoration:none;font-family:Calibri, sans-serif;text-align:right;vertical-align:bottom;border:.5pt solid windowtext;height:14.25pt;border-top:none;\">5.3</td>\n",
    "            <td style=\"color:black;font-size:15px;font-weight:400;font-style:normal;text-decoration:none;font-family:Calibri, sans-serif;text-align:right;vertical-align:bottom;border:.5pt solid windowtext;border-top:none;border-left:none;\">1.25</td>\n",
    "        </tr>\n",
    "        <tr>\n",
    "            <td style=\"color:black;font-size:15px;font-weight:400;font-style:normal;text-decoration:none;font-family:Calibri, sans-serif;text-align:right;vertical-align:bottom;border:.5pt solid windowtext;height:14.25pt;border-top:none;\">5.4</td>\n",
    "            <td style=\"color:black;font-size:15px;font-weight:400;font-style:normal;text-decoration:none;font-family:Calibri, sans-serif;text-align:right;vertical-align:bottom;border:.5pt solid windowtext;border-top:none;border-left:none;\">1</td>\n",
    "        </tr>\n",
    "        <tr>\n",
    "            <td style=\"color:black;font-size:15px;font-weight:400;font-style:normal;text-decoration:none;font-family:Calibri, sans-serif;text-align:right;vertical-align:bottom;border:.5pt solid windowtext;height:14.25pt;border-top:none;\">6.1</td>\n",
    "            <td style=\"color:black;font-size:15px;font-weight:400;font-style:normal;text-decoration:none;font-family:Calibri, sans-serif;text-align:right;vertical-align:bottom;border:.5pt solid windowtext;border-top:none;border-left:none;\">0.5</td>\n",
    "        </tr>\n",
    "        <tr>\n",
    "            <td style=\"color:black;font-size:15px;font-weight:400;font-style:normal;text-decoration:none;font-family:Calibri, sans-serif;text-align:right;vertical-align:bottom;border:.5pt solid windowtext;height:14.25pt;border-top:none;\">6.2</td>\n",
    "            <td style=\"color:black;font-size:15px;font-weight:400;font-style:normal;text-decoration:none;font-family:Calibri, sans-serif;text-align:right;vertical-align:bottom;border:.5pt solid windowtext;border-top:none;border-left:none;\">0.5</td>\n",
    "        </tr>\n",
    "        <tr>\n",
    "            <td style=\"color:black;font-size:15px;font-weight:400;font-style:normal;text-decoration:none;font-family:Calibri, sans-serif;text-align:right;vertical-align:bottom;border:.5pt solid windowtext;height:14.25pt;border-top:none;\">6.3</td>\n",
    "            <td style=\"color:black;font-size:15px;font-weight:400;font-style:normal;text-decoration:none;font-family:Calibri, sans-serif;text-align:right;vertical-align:bottom;border:.5pt solid windowtext;border-top:none;border-left:none;\">1.25</td>\n",
    "        </tr>\n",
    "        <tr>\n",
    "            <td style=\"color:black;font-size:15px;font-weight:400;font-style:normal;text-decoration:none;font-family:Calibri, sans-serif;text-align:right;vertical-align:bottom;border:.5pt solid windowtext;height:14.25pt;border-top:none;\">6.4</td>\n",
    "            <td style=\"color:black;font-size:15px;font-weight:400;font-style:normal;text-decoration:none;font-family:Calibri, sans-serif;text-align:right;vertical-align:bottom;border:.5pt solid windowtext;border-top:none;border-left:none;\">0.75</td>\n",
    "        </tr>\n",
    "        <tr>\n",
    "            <td style=\"color:black;font-size:15px;font-weight:400;font-style:normal;text-decoration:none;font-family:Calibri, sans-serif;text-align:right;vertical-align:bottom;border:.5pt solid windowtext;height:14.25pt;border-top:none;\">6.5</td>\n",
    "            <td style=\"color:black;font-size:15px;font-weight:400;font-style:normal;text-decoration:none;font-family:Calibri, sans-serif;text-align:right;vertical-align:bottom;border:.5pt solid windowtext;border-top:none;border-left:none;\">0.5</td>\n",
    "        </tr>\n",
    "        <tr>\n",
    "            <td style=\"color:black;font-size:15px;font-weight:400;font-style:normal;text-decoration:none;font-family:Calibri, sans-serif;text-align:right;vertical-align:bottom;border:.5pt solid windowtext;height:14.25pt;border-top:none;\">6.6</td>\n",
    "            <td style=\"color:black;font-size:15px;font-weight:400;font-style:normal;text-decoration:none;font-family:Calibri, sans-serif;text-align:right;vertical-align:bottom;border:.5pt solid windowtext;border-top:none;border-left:none;\">0.5</td>\n",
    "        </tr>\n",
    "        <tr>\n",
    "            <td style=\"color:black;font-size:15px;font-weight:400;font-style:normal;text-decoration:none;font-family:Calibri, sans-serif;text-align:right;vertical-align:bottom;border:.5pt solid windowtext;height:14.25pt;border-top:none;\">6.7</td>\n",
    "            <td style=\"color:black;font-size:15px;font-weight:400;font-style:normal;text-decoration:none;font-family:Calibri, sans-serif;text-align:right;vertical-align:bottom;border:.5pt solid windowtext;border-top:none;border-left:none;\">1.5</td>\n",
    "        </tr>\n",
    "        <tr>\n",
    "            <td style=\"color:black;font-size:15px;font-weight:400;font-style:normal;text-decoration:none;font-family:Calibri, sans-serif;text-align:right;vertical-align:bottom;border:.5pt solid windowtext;height:14.25pt;border-top:none;\">6.8</td>\n",
    "            <td style=\"color:black;font-size:15px;font-weight:400;font-style:normal;text-decoration:none;font-family:Calibri, sans-serif;text-align:right;vertical-align:bottom;border:.5pt solid windowtext;border-top:none;border-left:none;\">0.5</td>\n",
    "        </tr>\n",
    "        <tr>\n",
    "            <td style=\"color:black;font-size:15px;font-weight:400;font-style:normal;text-decoration:none;font-family:Calibri, sans-serif;text-align:right;vertical-align:bottom;border:.5pt solid windowtext;height:14.25pt;border-top:none;\">7.1</td>\n",
    "            <td style=\"color:black;font-size:15px;font-weight:400;font-style:normal;text-decoration:none;font-family:Calibri, sans-serif;text-align:right;vertical-align:bottom;border:.5pt solid windowtext;border-top:none;border-left:none;\">0.5</td>\n",
    "        </tr>\n",
    "        <tr>\n",
    "            <td style=\"color:black;font-size:15px;font-weight:400;font-style:normal;text-decoration:none;font-family:Calibri, sans-serif;text-align:right;vertical-align:bottom;border:.5pt solid windowtext;height:14.25pt;border-top:none;\">7.2</td>\n",
    "            <td style=\"color:black;font-size:15px;font-weight:400;font-style:normal;text-decoration:none;font-family:Calibri, sans-serif;text-align:right;vertical-align:bottom;border:.5pt solid windowtext;border-top:none;border-left:none;\">0.75</td>\n",
    "        </tr>\n",
    "        <tr>\n",
    "            <td style=\"color:black;font-size:15px;font-weight:400;font-style:normal;text-decoration:none;font-family:Calibri, sans-serif;text-align:right;vertical-align:bottom;border:.5pt solid windowtext;height:14.25pt;border-top:none;\">7.3</td>\n",
    "            <td style=\"color:black;font-size:15px;font-weight:400;font-style:normal;text-decoration:none;font-family:Calibri, sans-serif;text-align:right;vertical-align:bottom;border:.5pt solid windowtext;border-top:none;border-left:none;\">1.25</td>\n",
    "        </tr>\n",
    "        <tr>\n",
    "            <td style=\"color:black;font-size:15px;font-weight:400;font-style:normal;text-decoration:none;font-family:Calibri, sans-serif;text-align:right;vertical-align:bottom;border:.5pt solid windowtext;height:14.25pt;border-top:none;\">7.4</td>\n",
    "            <td style=\"color:black;font-size:15px;font-weight:400;font-style:normal;text-decoration:none;font-family:Calibri, sans-serif;text-align:right;vertical-align:bottom;border:.5pt solid windowtext;border-top:none;border-left:none;\">0.5</td>\n",
    "        </tr>\n",
    "        <tr>\n",
    "            <td style=\"color:black;font-size:15px;font-weight:400;font-style:normal;text-decoration:none;font-family:Calibri, sans-serif;text-align:right;vertical-align:bottom;border:.5pt solid windowtext;height:14.25pt;border-top:none;\">7.5</td>\n",
    "            <td style=\"color:black;font-size:15px;font-weight:400;font-style:normal;text-decoration:none;font-family:Calibri, sans-serif;text-align:right;vertical-align:bottom;border:.5pt solid windowtext;border-top:none;border-left:none;\">0.5</td>\n",
    "        </tr>\n",
    "        <tr>\n",
    "            <td style=\"color:black;font-size:15px;font-weight:400;font-style:normal;text-decoration:none;font-family:Calibri, sans-serif;text-align:right;vertical-align:bottom;border:.5pt solid windowtext;height:14.25pt;border-top:none;\">7.6</td>\n",
    "            <td style=\"color:black;font-size:15px;font-weight:400;font-style:normal;text-decoration:none;font-family:Calibri, sans-serif;text-align:right;vertical-align:bottom;border:.5pt solid windowtext;border-top:none;border-left:none;\">1.5</td>\n",
    "        </tr>\n",
    "        <tr>\n",
    "            <td style=\"color:black;font-size:15px;font-weight:400;font-style:normal;text-decoration:none;font-family:Calibri, sans-serif;text-align:right;vertical-align:bottom;border:.5pt solid windowtext;height:14.25pt;border-top:none;\">7.7</td>\n",
    "            <td style=\"color:black;font-size:15px;font-weight:400;font-style:normal;text-decoration:none;font-family:Calibri, sans-serif;text-align:right;vertical-align:bottom;border:.5pt solid windowtext;border-top:none;border-left:none;\">0.5</td>\n",
    "        </tr>\n",
    "    </tbody>\n",
    "</table>\n",
    "\n",
    "\n",
    "\n"
   ]
  },
  {
   "cell_type": "markdown",
   "metadata": {},
   "source": [
    "### Imports"
   ]
  },
  {
   "cell_type": "code",
   "execution_count": 289,
   "metadata": {},
   "outputs": [],
   "source": [
    "import pandas as pd\n",
    "import numpy as np\n",
    "import matplotlib.pyplot as plt\n",
    "\n",
    "from scipy.stats import bernoulli\n",
    "from scipy.stats import binom\n",
    "from scipy.stats import norm\n",
    "from scipy import stats\n",
    "from scipy.stats import t\n",
    "\n",
    "import math"
   ]
  },
  {
   "cell_type": "markdown",
   "metadata": {},
   "source": [
    "## 1. Data Processing\n",
    "\n",
    "### 1.1. Data Cleaning\n",
    "\n",
    "Read the **Billionaire.csv** file into a dataframe. \n",
    "\n",
    "This dataframe has some missing values in the age column! However, we are in luck! The missing values in this csv file are encoded as 'N/A'. Luckily, the string 'N/A' is a string that the **pd.read_csv()** function automatically knows represents a missing value. So it will automatically turn these string values into a **NaN** value (whether you specify this with the **missing_values** parameter or not) and therefore not cause your numerical variable datatypes to be read as strings in this particular example.\n",
    "\n",
    "You should drop all rows with missing values."
   ]
  },
  {
   "cell_type": "code",
   "execution_count": 290,
   "metadata": {},
   "outputs": [
    {
     "data": {
      "text/html": [
       "<div>\n",
       "<style scoped>\n",
       "    .dataframe tbody tr th:only-of-type {\n",
       "        vertical-align: middle;\n",
       "    }\n",
       "\n",
       "    .dataframe tbody tr th {\n",
       "        vertical-align: top;\n",
       "    }\n",
       "\n",
       "    .dataframe thead th {\n",
       "        text-align: right;\n",
       "    }\n",
       "</style>\n",
       "<table border=\"1\" class=\"dataframe\">\n",
       "  <thead>\n",
       "    <tr style=\"text-align: right;\">\n",
       "      <th></th>\n",
       "      <th>Name</th>\n",
       "      <th>NetWorth_billions</th>\n",
       "      <th>Country</th>\n",
       "      <th>Source</th>\n",
       "      <th>Rank</th>\n",
       "      <th>Age</th>\n",
       "      <th>Industry</th>\n",
       "    </tr>\n",
       "  </thead>\n",
       "  <tbody>\n",
       "    <tr>\n",
       "      <th>0</th>\n",
       "      <td>Jeff Bezos</td>\n",
       "      <td>177.0</td>\n",
       "      <td>United States</td>\n",
       "      <td>Amazon</td>\n",
       "      <td>1</td>\n",
       "      <td>57.0</td>\n",
       "      <td>Technology</td>\n",
       "    </tr>\n",
       "    <tr>\n",
       "      <th>1</th>\n",
       "      <td>Elon Musk</td>\n",
       "      <td>151.0</td>\n",
       "      <td>United States</td>\n",
       "      <td>Tesla, SpaceX</td>\n",
       "      <td>2</td>\n",
       "      <td>49.0</td>\n",
       "      <td>Automotive</td>\n",
       "    </tr>\n",
       "    <tr>\n",
       "      <th>2</th>\n",
       "      <td>Bernard Arnault &amp; family</td>\n",
       "      <td>150.0</td>\n",
       "      <td>France</td>\n",
       "      <td>LVMH</td>\n",
       "      <td>3</td>\n",
       "      <td>72.0</td>\n",
       "      <td>Fashion &amp; Retail</td>\n",
       "    </tr>\n",
       "    <tr>\n",
       "      <th>3</th>\n",
       "      <td>Bill Gates</td>\n",
       "      <td>124.0</td>\n",
       "      <td>United States</td>\n",
       "      <td>Microsoft</td>\n",
       "      <td>4</td>\n",
       "      <td>65.0</td>\n",
       "      <td>Technology</td>\n",
       "    </tr>\n",
       "    <tr>\n",
       "      <th>4</th>\n",
       "      <td>Mark Zuckerberg</td>\n",
       "      <td>97.0</td>\n",
       "      <td>United States</td>\n",
       "      <td>Facebook</td>\n",
       "      <td>5</td>\n",
       "      <td>36.0</td>\n",
       "      <td>Technology</td>\n",
       "    </tr>\n",
       "    <tr>\n",
       "      <th>...</th>\n",
       "      <td>...</td>\n",
       "      <td>...</td>\n",
       "      <td>...</td>\n",
       "      <td>...</td>\n",
       "      <td>...</td>\n",
       "      <td>...</td>\n",
       "      <td>...</td>\n",
       "    </tr>\n",
       "    <tr>\n",
       "      <th>2750</th>\n",
       "      <td>Daniel Yong Zhang</td>\n",
       "      <td>1.0</td>\n",
       "      <td>China</td>\n",
       "      <td>e-commerce</td>\n",
       "      <td>2674</td>\n",
       "      <td>49.0</td>\n",
       "      <td>Technology</td>\n",
       "    </tr>\n",
       "    <tr>\n",
       "      <th>2751</th>\n",
       "      <td>Zhang Yuqiang</td>\n",
       "      <td>1.0</td>\n",
       "      <td>China</td>\n",
       "      <td>Fiberglass</td>\n",
       "      <td>2674</td>\n",
       "      <td>65.0</td>\n",
       "      <td>Manufacturing</td>\n",
       "    </tr>\n",
       "    <tr>\n",
       "      <th>2752</th>\n",
       "      <td>Zhao Meiguang</td>\n",
       "      <td>1.0</td>\n",
       "      <td>China</td>\n",
       "      <td>gold mining</td>\n",
       "      <td>2674</td>\n",
       "      <td>58.0</td>\n",
       "      <td>Metals &amp; Mining</td>\n",
       "    </tr>\n",
       "    <tr>\n",
       "      <th>2753</th>\n",
       "      <td>Zhong Naixiong</td>\n",
       "      <td>1.0</td>\n",
       "      <td>China</td>\n",
       "      <td>conglomerate</td>\n",
       "      <td>2674</td>\n",
       "      <td>58.0</td>\n",
       "      <td>Diversified</td>\n",
       "    </tr>\n",
       "    <tr>\n",
       "      <th>2754</th>\n",
       "      <td>Zhou Wei family</td>\n",
       "      <td>1.0</td>\n",
       "      <td>China</td>\n",
       "      <td>Software</td>\n",
       "      <td>2674</td>\n",
       "      <td>54.0</td>\n",
       "      <td>Technology</td>\n",
       "    </tr>\n",
       "  </tbody>\n",
       "</table>\n",
       "<p>2676 rows × 7 columns</p>\n",
       "</div>"
      ],
      "text/plain": [
       "                          Name  NetWorth_billions        Country  \\\n",
       "0                   Jeff Bezos              177.0  United States   \n",
       "1                    Elon Musk              151.0  United States   \n",
       "2     Bernard Arnault & family              150.0         France   \n",
       "3                   Bill Gates              124.0  United States   \n",
       "4              Mark Zuckerberg               97.0  United States   \n",
       "...                        ...                ...            ...   \n",
       "2750         Daniel Yong Zhang                1.0          China   \n",
       "2751             Zhang Yuqiang                1.0          China   \n",
       "2752             Zhao Meiguang                1.0          China   \n",
       "2753            Zhong Naixiong                1.0          China   \n",
       "2754           Zhou Wei family                1.0          China   \n",
       "\n",
       "             Source  Rank   Age          Industry  \n",
       "0            Amazon     1  57.0        Technology  \n",
       "1     Tesla, SpaceX     2  49.0        Automotive  \n",
       "2              LVMH     3  72.0  Fashion & Retail  \n",
       "3         Microsoft     4  65.0        Technology  \n",
       "4          Facebook     5  36.0        Technology  \n",
       "...             ...   ...   ...               ...  \n",
       "2750     e-commerce  2674  49.0        Technology  \n",
       "2751     Fiberglass  2674  65.0     Manufacturing  \n",
       "2752    gold mining  2674  58.0   Metals & Mining  \n",
       "2753   conglomerate  2674  58.0       Diversified  \n",
       "2754       Software  2674  54.0        Technology  \n",
       "\n",
       "[2676 rows x 7 columns]"
      ]
     },
     "execution_count": 290,
     "metadata": {},
     "output_type": "execute_result"
    }
   ],
   "source": [
    "df = pd.read_csv((\"Billionaire.csv\"), na_values = ['missing_values'])\n",
    "df.dropna()"
   ]
  },
  {
   "cell_type": "markdown",
   "metadata": {},
   "source": [
    "## 2. Two Populations of Tech and Non-Tech Billionaires\n",
    "\n",
    "In this analysis, we will consider two populations:\n",
    "* the population of billionaires that work in tech\n",
    "* the population of billionaires that do not work in tech\n",
    "\n",
    "### 2.1. Creating the Populations\n",
    "\n",
    "First, create two dataframes:\n",
    "* one that is comprised of the tech industry billionaires\n",
    "* one that is comprised of the non-tech industry billionaires"
   ]
  },
  {
   "cell_type": "code",
   "execution_count": 291,
   "metadata": {},
   "outputs": [
    {
     "data": {
      "text/html": [
       "<div>\n",
       "<style scoped>\n",
       "    .dataframe tbody tr th:only-of-type {\n",
       "        vertical-align: middle;\n",
       "    }\n",
       "\n",
       "    .dataframe tbody tr th {\n",
       "        vertical-align: top;\n",
       "    }\n",
       "\n",
       "    .dataframe thead th {\n",
       "        text-align: right;\n",
       "    }\n",
       "</style>\n",
       "<table border=\"1\" class=\"dataframe\">\n",
       "  <thead>\n",
       "    <tr style=\"text-align: right;\">\n",
       "      <th></th>\n",
       "      <th>Name</th>\n",
       "      <th>NetWorth_billions</th>\n",
       "      <th>Country</th>\n",
       "      <th>Source</th>\n",
       "      <th>Rank</th>\n",
       "      <th>Age</th>\n",
       "      <th>Industry</th>\n",
       "    </tr>\n",
       "  </thead>\n",
       "  <tbody>\n",
       "    <tr>\n",
       "      <th>0</th>\n",
       "      <td>Jeff Bezos</td>\n",
       "      <td>177.0</td>\n",
       "      <td>United States</td>\n",
       "      <td>Amazon</td>\n",
       "      <td>1</td>\n",
       "      <td>57.0</td>\n",
       "      <td>Technology</td>\n",
       "    </tr>\n",
       "    <tr>\n",
       "      <th>3</th>\n",
       "      <td>Bill Gates</td>\n",
       "      <td>124.0</td>\n",
       "      <td>United States</td>\n",
       "      <td>Microsoft</td>\n",
       "      <td>4</td>\n",
       "      <td>65.0</td>\n",
       "      <td>Technology</td>\n",
       "    </tr>\n",
       "    <tr>\n",
       "      <th>4</th>\n",
       "      <td>Mark Zuckerberg</td>\n",
       "      <td>97.0</td>\n",
       "      <td>United States</td>\n",
       "      <td>Facebook</td>\n",
       "      <td>5</td>\n",
       "      <td>36.0</td>\n",
       "      <td>Technology</td>\n",
       "    </tr>\n",
       "    <tr>\n",
       "      <th>6</th>\n",
       "      <td>Larry Ellison</td>\n",
       "      <td>93.0</td>\n",
       "      <td>United States</td>\n",
       "      <td>software</td>\n",
       "      <td>7</td>\n",
       "      <td>76.0</td>\n",
       "      <td>Technology</td>\n",
       "    </tr>\n",
       "    <tr>\n",
       "      <th>7</th>\n",
       "      <td>Larry Page</td>\n",
       "      <td>91.5</td>\n",
       "      <td>United States</td>\n",
       "      <td>Google</td>\n",
       "      <td>8</td>\n",
       "      <td>48.0</td>\n",
       "      <td>Technology</td>\n",
       "    </tr>\n",
       "  </tbody>\n",
       "</table>\n",
       "</div>"
      ],
      "text/plain": [
       "              Name  NetWorth_billions        Country     Source  Rank   Age  \\\n",
       "0       Jeff Bezos              177.0  United States     Amazon     1  57.0   \n",
       "3       Bill Gates              124.0  United States  Microsoft     4  65.0   \n",
       "4  Mark Zuckerberg               97.0  United States   Facebook     5  36.0   \n",
       "6    Larry Ellison               93.0  United States   software     7  76.0   \n",
       "7       Larry Page               91.5  United States     Google     8  48.0   \n",
       "\n",
       "     Industry  \n",
       "0  Technology  \n",
       "3  Technology  \n",
       "4  Technology  \n",
       "6  Technology  \n",
       "7  Technology  "
      ]
     },
     "execution_count": 291,
     "metadata": {},
     "output_type": "execute_result"
    }
   ],
   "source": [
    "df_tech = df[df.Industry == 'Technology']\n",
    "df_tech.head()"
   ]
  },
  {
   "cell_type": "code",
   "execution_count": 292,
   "metadata": {},
   "outputs": [
    {
     "data": {
      "text/html": [
       "<div>\n",
       "<style scoped>\n",
       "    .dataframe tbody tr th:only-of-type {\n",
       "        vertical-align: middle;\n",
       "    }\n",
       "\n",
       "    .dataframe tbody tr th {\n",
       "        vertical-align: top;\n",
       "    }\n",
       "\n",
       "    .dataframe thead th {\n",
       "        text-align: right;\n",
       "    }\n",
       "</style>\n",
       "<table border=\"1\" class=\"dataframe\">\n",
       "  <thead>\n",
       "    <tr style=\"text-align: right;\">\n",
       "      <th></th>\n",
       "      <th>Name</th>\n",
       "      <th>NetWorth_billions</th>\n",
       "      <th>Country</th>\n",
       "      <th>Source</th>\n",
       "      <th>Rank</th>\n",
       "      <th>Age</th>\n",
       "      <th>Industry</th>\n",
       "    </tr>\n",
       "  </thead>\n",
       "  <tbody>\n",
       "    <tr>\n",
       "      <th>1</th>\n",
       "      <td>Elon Musk</td>\n",
       "      <td>151.0</td>\n",
       "      <td>United States</td>\n",
       "      <td>Tesla, SpaceX</td>\n",
       "      <td>2</td>\n",
       "      <td>49.0</td>\n",
       "      <td>Automotive</td>\n",
       "    </tr>\n",
       "    <tr>\n",
       "      <th>2</th>\n",
       "      <td>Bernard Arnault &amp; family</td>\n",
       "      <td>150.0</td>\n",
       "      <td>France</td>\n",
       "      <td>LVMH</td>\n",
       "      <td>3</td>\n",
       "      <td>72.0</td>\n",
       "      <td>Fashion &amp; Retail</td>\n",
       "    </tr>\n",
       "    <tr>\n",
       "      <th>5</th>\n",
       "      <td>Warren Buffett</td>\n",
       "      <td>96.0</td>\n",
       "      <td>United States</td>\n",
       "      <td>Berkshire Hathaway</td>\n",
       "      <td>6</td>\n",
       "      <td>90.0</td>\n",
       "      <td>Finance &amp; Investments</td>\n",
       "    </tr>\n",
       "    <tr>\n",
       "      <th>9</th>\n",
       "      <td>Mukesh Ambani</td>\n",
       "      <td>84.5</td>\n",
       "      <td>India</td>\n",
       "      <td>diversified</td>\n",
       "      <td>10</td>\n",
       "      <td>63.0</td>\n",
       "      <td>Diversified</td>\n",
       "    </tr>\n",
       "    <tr>\n",
       "      <th>10</th>\n",
       "      <td>Amancio Ortega</td>\n",
       "      <td>77.0</td>\n",
       "      <td>Spain</td>\n",
       "      <td>Zara</td>\n",
       "      <td>11</td>\n",
       "      <td>85.0</td>\n",
       "      <td>Fashion &amp; Retail</td>\n",
       "    </tr>\n",
       "  </tbody>\n",
       "</table>\n",
       "</div>"
      ],
      "text/plain": [
       "                        Name  NetWorth_billions        Country  \\\n",
       "1                  Elon Musk              151.0  United States   \n",
       "2   Bernard Arnault & family              150.0         France   \n",
       "5             Warren Buffett               96.0  United States   \n",
       "9              Mukesh Ambani               84.5          India   \n",
       "10            Amancio Ortega               77.0          Spain   \n",
       "\n",
       "                Source  Rank   Age               Industry  \n",
       "1        Tesla, SpaceX     2  49.0             Automotive  \n",
       "2                 LVMH     3  72.0       Fashion & Retail  \n",
       "5   Berkshire Hathaway     6  90.0  Finance & Investments  \n",
       "9          diversified    10  63.0            Diversified  \n",
       "10                Zara    11  85.0       Fashion & Retail  "
      ]
     },
     "execution_count": 292,
     "metadata": {},
     "output_type": "execute_result"
    }
   ],
   "source": [
    "df_non_tech = df[df.Industry != 'Technology']\n",
    "df_non_tech.head()"
   ]
  },
  {
   "cell_type": "markdown",
   "metadata": {},
   "source": [
    "### 2.2. Population Means and Standard Deviations\n",
    "\n",
    "Next, for each of your two populations, calculate the mean and standard deviation of the ages."
   ]
  },
  {
   "cell_type": "code",
   "execution_count": 293,
   "metadata": {},
   "outputs": [
    {
     "data": {
      "text/plain": [
       "54.83380281690141"
      ]
     },
     "execution_count": 293,
     "metadata": {},
     "output_type": "execute_result"
    }
   ],
   "source": [
    "tech_pop_age_mean = df_tech['Age'].mean()\n",
    "tech_pop_age_mean "
   ]
  },
  {
   "cell_type": "code",
   "execution_count": 294,
   "metadata": {},
   "outputs": [
    {
     "data": {
      "text/plain": [
       "12.530549602904077"
      ]
     },
     "execution_count": 294,
     "metadata": {},
     "output_type": "execute_result"
    }
   ],
   "source": [
    "tech_pop_age_std = df_tech['Age'].std()\n",
    "tech_pop_age_std"
   ]
  },
  {
   "cell_type": "code",
   "execution_count": 295,
   "metadata": {},
   "outputs": [
    {
     "data": {
      "text/plain": [
       "64.38000861697545"
      ]
     },
     "execution_count": 295,
     "metadata": {},
     "output_type": "execute_result"
    }
   ],
   "source": [
    "non_tech_pop_age_mean = df_non_tech['Age'].mean()\n",
    "non_tech_pop_age_mean"
   ]
  },
  {
   "cell_type": "code",
   "execution_count": 296,
   "metadata": {},
   "outputs": [
    {
     "data": {
      "text/plain": [
       "13.129376649590908"
      ]
     },
     "execution_count": 296,
     "metadata": {},
     "output_type": "execute_result"
    }
   ],
   "source": [
    "non_tech_pop_age_std = df_non_tech['Age'].std()\n",
    "non_tech_pop_age_std"
   ]
  },
  {
   "cell_type": "markdown",
   "metadata": {},
   "source": [
    "### 2.3. Population Distribution Shapes\n",
    "\n",
    "Plot two histograms:\n",
    "* one for the population of tech billionaire ages\n",
    "* another one for the population of non-tech billionaire ages"
   ]
  },
  {
   "cell_type": "code",
   "execution_count": 297,
   "metadata": {},
   "outputs": [
    {
     "data": {
      "image/png": "[encoded data removed]",
      "text/plain": [
       "<Figure size 432x288 with 1 Axes>"
      ]
     },
     "metadata": {
      "needs_background": "light"
     },
     "output_type": "display_data"
    }
   ],
   "source": [
    "df_tech['Age'].hist()\n",
    "plt.title('Ages of Tech Billionairs')\n",
    "plt.xlabel('Ages')\n",
    "plt.ylabel('Frequency')\n",
    "plt.show()"
   ]
  },
  {
   "cell_type": "code",
   "execution_count": 298,
   "metadata": {},
   "outputs": [
    {
     "data": {
      "image/png": "[encoded data removed]",
      "text/plain": [
       "<Figure size 432x288 with 1 Axes>"
      ]
     },
     "metadata": {
      "needs_background": "light"
     },
     "output_type": "display_data"
    }
   ],
   "source": [
    "df_non_tech['Age'].hist()\n",
    "plt.title('Ages of Non-Tech Billionairs')\n",
    "plt.xlabel('Ages')\n",
    "plt.ylabel('Frequency')\n",
    "plt.show()"
   ]
  },
  {
   "cell_type": "markdown",
   "metadata": {},
   "source": [
    "### 2.4. Population Proportions\n",
    "\n",
    "Next, for each of your two populations, calculate the proportion of billionaires in the respective population that live in the United States."
   ]
  },
  {
   "cell_type": "code",
   "execution_count": 299,
   "metadata": {},
   "outputs": [
    {
     "name": "stderr",
     "output_type": "stream",
     "text": [
      "/var/folders/87/srlk1jvd02dcszgfk418mp0r0000gn/T/ipykernel_7144/1326652422.py:2: UserWarning: Boolean Series key will be reindexed to match DataFrame index.\n",
      "  prop_of_tech_in_US = len(df_tech[df.Country == \"United States\"])/len(df)\n"
     ]
    },
    {
     "data": {
      "text/plain": [
       "0.050816696914700546"
      ]
     },
     "execution_count": 299,
     "metadata": {},
     "output_type": "execute_result"
    }
   ],
   "source": [
    "#tech billionairs\n",
    "prop_of_tech_in_US = len(df_tech[df.Country == \"United States\"])/len(df)\n",
    "prop_of_tech_in_US "
   ]
  },
  {
   "cell_type": "code",
   "execution_count": 300,
   "metadata": {},
   "outputs": [
    {
     "name": "stderr",
     "output_type": "stream",
     "text": [
      "/var/folders/87/srlk1jvd02dcszgfk418mp0r0000gn/T/ipykernel_7144/960039167.py:1: UserWarning: Boolean Series key will be reindexed to match DataFrame index.\n",
      "  prop_of_non_tech_in_US = len(df_non_tech[df.Country == \"United States\"])/len(df)\n"
     ]
    },
    {
     "data": {
      "text/plain": [
       "0.211978221415608"
      ]
     },
     "execution_count": 300,
     "metadata": {},
     "output_type": "execute_result"
    }
   ],
   "source": [
    "prop_of_non_tech_in_US = len(df_non_tech[df.Country == \"United States\"])/len(df)\n",
    "prop_of_non_tech_in_US"
   ]
  },
  {
   "cell_type": "markdown",
   "metadata": {},
   "source": [
    "## 3. Two Random Samples of Tech and Non-Tech Billionaires\n",
    "\n",
    "Next we would like to collect two random samples, one from each of our populations.\n",
    "\n",
    "### 3.1. Creating the Random Samples\n",
    "\n",
    "* Collect a random sample of 31 tech billionaires from the tech billionaire population (use a random state of 100).\n",
    "* Collect a random sample of 40 nontech billionaires from the non-tech billionaire population (use a random state of 100).\n"
   ]
  },
  {
   "cell_type": "code",
   "execution_count": 301,
   "metadata": {},
   "outputs": [
    {
     "data": {
      "text/html": [
       "<div>\n",
       "<style scoped>\n",
       "    .dataframe tbody tr th:only-of-type {\n",
       "        vertical-align: middle;\n",
       "    }\n",
       "\n",
       "    .dataframe tbody tr th {\n",
       "        vertical-align: top;\n",
       "    }\n",
       "\n",
       "    .dataframe thead th {\n",
       "        text-align: right;\n",
       "    }\n",
       "</style>\n",
       "<table border=\"1\" class=\"dataframe\">\n",
       "  <thead>\n",
       "    <tr style=\"text-align: right;\">\n",
       "      <th></th>\n",
       "      <th>Name</th>\n",
       "      <th>Age</th>\n",
       "      <th>Country</th>\n",
       "    </tr>\n",
       "  </thead>\n",
       "  <tbody>\n",
       "    <tr>\n",
       "      <th>1114</th>\n",
       "      <td>Aneel Bhusri</td>\n",
       "      <td>55.0</td>\n",
       "      <td>United States</td>\n",
       "    </tr>\n",
       "    <tr>\n",
       "      <th>916</th>\n",
       "      <td>Eric Ya Shen</td>\n",
       "      <td>50.0</td>\n",
       "      <td>China</td>\n",
       "    </tr>\n",
       "    <tr>\n",
       "      <th>2432</th>\n",
       "      <td>Koo Bon-joon</td>\n",
       "      <td>69.0</td>\n",
       "      <td>South Korea</td>\n",
       "    </tr>\n",
       "    <tr>\n",
       "      <th>289</th>\n",
       "      <td>Azim Premji</td>\n",
       "      <td>75.0</td>\n",
       "      <td>India</td>\n",
       "    </tr>\n",
       "    <tr>\n",
       "      <th>1849</th>\n",
       "      <td>Tony Chen</td>\n",
       "      <td>71.0</td>\n",
       "      <td>Taiwan</td>\n",
       "    </tr>\n",
       "    <tr>\n",
       "      <th>681</th>\n",
       "      <td>Scott Cook</td>\n",
       "      <td>68.0</td>\n",
       "      <td>United States</td>\n",
       "    </tr>\n",
       "    <tr>\n",
       "      <th>503</th>\n",
       "      <td>Dagmar Dolby &amp; family</td>\n",
       "      <td>79.0</td>\n",
       "      <td>United States</td>\n",
       "    </tr>\n",
       "    <tr>\n",
       "      <th>1710</th>\n",
       "      <td>Li Min</td>\n",
       "      <td>55.0</td>\n",
       "      <td>China</td>\n",
       "    </tr>\n",
       "    <tr>\n",
       "      <th>1181</th>\n",
       "      <td>Vinod Khosla</td>\n",
       "      <td>66.0</td>\n",
       "      <td>United States</td>\n",
       "    </tr>\n",
       "    <tr>\n",
       "      <th>3</th>\n",
       "      <td>Bill Gates</td>\n",
       "      <td>65.0</td>\n",
       "      <td>United States</td>\n",
       "    </tr>\n",
       "    <tr>\n",
       "      <th>251</th>\n",
       "      <td>Kim Beom-su</td>\n",
       "      <td>55.0</td>\n",
       "      <td>South Korea</td>\n",
       "    </tr>\n",
       "    <tr>\n",
       "      <th>1751</th>\n",
       "      <td>Joachim Ante</td>\n",
       "      <td>38.0</td>\n",
       "      <td>Germany</td>\n",
       "    </tr>\n",
       "    <tr>\n",
       "      <th>2330</th>\n",
       "      <td>Bob Muglia</td>\n",
       "      <td>61.0</td>\n",
       "      <td>United States</td>\n",
       "    </tr>\n",
       "    <tr>\n",
       "      <th>1242</th>\n",
       "      <td>Evan Williams</td>\n",
       "      <td>49.0</td>\n",
       "      <td>United States</td>\n",
       "    </tr>\n",
       "    <tr>\n",
       "      <th>1168</th>\n",
       "      <td>Xiong Wu</td>\n",
       "      <td>45.0</td>\n",
       "      <td>China</td>\n",
       "    </tr>\n",
       "    <tr>\n",
       "      <th>1119</th>\n",
       "      <td>Morris Chang</td>\n",
       "      <td>89.0</td>\n",
       "      <td>Taiwan</td>\n",
       "    </tr>\n",
       "    <tr>\n",
       "      <th>1889</th>\n",
       "      <td>Todd McKinnon</td>\n",
       "      <td>49.0</td>\n",
       "      <td>United States</td>\n",
       "    </tr>\n",
       "    <tr>\n",
       "      <th>1666</th>\n",
       "      <td>Andrey Andreev</td>\n",
       "      <td>47.0</td>\n",
       "      <td>United Kingdom</td>\n",
       "    </tr>\n",
       "    <tr>\n",
       "      <th>14</th>\n",
       "      <td>Ma Huateng</td>\n",
       "      <td>49.0</td>\n",
       "      <td>China</td>\n",
       "    </tr>\n",
       "    <tr>\n",
       "      <th>95</th>\n",
       "      <td>Eric Schmidt</td>\n",
       "      <td>65.0</td>\n",
       "      <td>United States</td>\n",
       "    </tr>\n",
       "    <tr>\n",
       "      <th>706</th>\n",
       "      <td>Matthew Calkins</td>\n",
       "      <td>48.0</td>\n",
       "      <td>United States</td>\n",
       "    </tr>\n",
       "    <tr>\n",
       "      <th>910</th>\n",
       "      <td>Benjamin Zhengmin Pan &amp; family</td>\n",
       "      <td>51.0</td>\n",
       "      <td>China</td>\n",
       "    </tr>\n",
       "    <tr>\n",
       "      <th>448</th>\n",
       "      <td>Henry Samueli</td>\n",
       "      <td>66.0</td>\n",
       "      <td>United States</td>\n",
       "    </tr>\n",
       "    <tr>\n",
       "      <th>2412</th>\n",
       "      <td>Ryan Graves</td>\n",
       "      <td>37.0</td>\n",
       "      <td>United States</td>\n",
       "    </tr>\n",
       "    <tr>\n",
       "      <th>2242</th>\n",
       "      <td>Jayshree Ullal</td>\n",
       "      <td>60.0</td>\n",
       "      <td>United States</td>\n",
       "    </tr>\n",
       "    <tr>\n",
       "      <th>2482</th>\n",
       "      <td>Ronald Slabke</td>\n",
       "      <td>NaN</td>\n",
       "      <td>Germany</td>\n",
       "    </tr>\n",
       "    <tr>\n",
       "      <th>2044</th>\n",
       "      <td>Steve Case</td>\n",
       "      <td>62.0</td>\n",
       "      <td>United States</td>\n",
       "    </tr>\n",
       "    <tr>\n",
       "      <th>564</th>\n",
       "      <td>Lin Xiucheng &amp; family</td>\n",
       "      <td>65.0</td>\n",
       "      <td>China</td>\n",
       "    </tr>\n",
       "    <tr>\n",
       "      <th>670</th>\n",
       "      <td>Eric Lefkofsky</td>\n",
       "      <td>51.0</td>\n",
       "      <td>United States</td>\n",
       "    </tr>\n",
       "    <tr>\n",
       "      <th>2254</th>\n",
       "      <td>Swift Xie</td>\n",
       "      <td>41.0</td>\n",
       "      <td>China</td>\n",
       "    </tr>\n",
       "    <tr>\n",
       "      <th>2580</th>\n",
       "      <td>Lai Baosheng</td>\n",
       "      <td>NaN</td>\n",
       "      <td>China</td>\n",
       "    </tr>\n",
       "  </tbody>\n",
       "</table>\n",
       "</div>"
      ],
      "text/plain": [
       "                                Name   Age         Country\n",
       "1114                    Aneel Bhusri  55.0   United States\n",
       "916                     Eric Ya Shen  50.0           China\n",
       "2432                    Koo Bon-joon  69.0     South Korea\n",
       "289                      Azim Premji  75.0           India\n",
       "1849                       Tony Chen  71.0          Taiwan\n",
       "681                       Scott Cook  68.0   United States\n",
       "503            Dagmar Dolby & family  79.0   United States\n",
       "1710                          Li Min  55.0           China\n",
       "1181                    Vinod Khosla  66.0   United States\n",
       "3                         Bill Gates  65.0   United States\n",
       "251                      Kim Beom-su  55.0     South Korea\n",
       "1751                    Joachim Ante  38.0         Germany\n",
       "2330                      Bob Muglia  61.0   United States\n",
       "1242                   Evan Williams  49.0   United States\n",
       "1168                        Xiong Wu  45.0           China\n",
       "1119                    Morris Chang  89.0          Taiwan\n",
       "1889                   Todd McKinnon  49.0   United States\n",
       "1666                  Andrey Andreev  47.0  United Kingdom\n",
       "14                        Ma Huateng  49.0           China\n",
       "95                      Eric Schmidt  65.0   United States\n",
       "706                  Matthew Calkins  48.0   United States\n",
       "910   Benjamin Zhengmin Pan & family  51.0           China\n",
       "448                    Henry Samueli  66.0   United States\n",
       "2412                     Ryan Graves  37.0   United States\n",
       "2242                  Jayshree Ullal  60.0   United States\n",
       "2482                   Ronald Slabke   NaN         Germany\n",
       "2044                      Steve Case  62.0   United States\n",
       "564            Lin Xiucheng & family  65.0           China\n",
       "670                   Eric Lefkofsky  51.0   United States\n",
       "2254                       Swift Xie  41.0           China\n",
       "2580                    Lai Baosheng   NaN           China"
      ]
     },
     "execution_count": 301,
     "metadata": {},
     "output_type": "execute_result"
    }
   ],
   "source": [
    "sample1 = df_tech['Name'].sample(31, random_state=100,replace=False)\n",
    "sample_i = df_tech['Age'].sample(31, random_state=100,replace=False)\n",
    "sample_i_2 = df_tech['Country'].sample(31, random_state=100,replace=False)\n",
    "\n",
    "sample_of_31_tech_billionairs = pd.DataFrame({'Name':sample1,'Age' : sample_i,'Country' : sample_i_2})\n",
    "sample_of_31_tech_billionairs\n"
   ]
  },
  {
   "cell_type": "code",
   "execution_count": 302,
   "metadata": {},
   "outputs": [
    {
     "data": {
      "text/html": [
       "<div>\n",
       "<style scoped>\n",
       "    .dataframe tbody tr th:only-of-type {\n",
       "        vertical-align: middle;\n",
       "    }\n",
       "\n",
       "    .dataframe tbody tr th {\n",
       "        vertical-align: top;\n",
       "    }\n",
       "\n",
       "    .dataframe thead th {\n",
       "        text-align: right;\n",
       "    }\n",
       "</style>\n",
       "<table border=\"1\" class=\"dataframe\">\n",
       "  <thead>\n",
       "    <tr style=\"text-align: right;\">\n",
       "      <th></th>\n",
       "      <th>Name</th>\n",
       "      <th>Age</th>\n",
       "      <th>Country</th>\n",
       "    </tr>\n",
       "  </thead>\n",
       "  <tbody>\n",
       "    <tr>\n",
       "      <th>1796</th>\n",
       "      <td>Roberto Irineu Marinho</td>\n",
       "      <td>73.0</td>\n",
       "      <td>Brazil</td>\n",
       "    </tr>\n",
       "    <tr>\n",
       "      <th>222</th>\n",
       "      <td>Larry Xiangdong Chen</td>\n",
       "      <td>49.0</td>\n",
       "      <td>China</td>\n",
       "    </tr>\n",
       "    <tr>\n",
       "      <th>690</th>\n",
       "      <td>Ray Lee Hunt</td>\n",
       "      <td>78.0</td>\n",
       "      <td>United States</td>\n",
       "    </tr>\n",
       "    <tr>\n",
       "      <th>1683</th>\n",
       "      <td>Francois Feuillet</td>\n",
       "      <td>72.0</td>\n",
       "      <td>France</td>\n",
       "    </tr>\n",
       "    <tr>\n",
       "      <th>2176</th>\n",
       "      <td>Jitse Groen</td>\n",
       "      <td>42.0</td>\n",
       "      <td>Netherlands</td>\n",
       "    </tr>\n",
       "    <tr>\n",
       "      <th>1941</th>\n",
       "      <td>Chen Xuehua</td>\n",
       "      <td>60.0</td>\n",
       "      <td>China</td>\n",
       "    </tr>\n",
       "    <tr>\n",
       "      <th>2628</th>\n",
       "      <td>Su Rubo</td>\n",
       "      <td>66.0</td>\n",
       "      <td>China</td>\n",
       "    </tr>\n",
       "    <tr>\n",
       "      <th>552</th>\n",
       "      <td>Gustavo Denegri</td>\n",
       "      <td>84.0</td>\n",
       "      <td>Italy</td>\n",
       "    </tr>\n",
       "    <tr>\n",
       "      <th>1376</th>\n",
       "      <td>Edward DeBartolo, Jr.</td>\n",
       "      <td>74.0</td>\n",
       "      <td>United States</td>\n",
       "    </tr>\n",
       "    <tr>\n",
       "      <th>2116</th>\n",
       "      <td>Kenny Troutt</td>\n",
       "      <td>73.0</td>\n",
       "      <td>United States</td>\n",
       "    </tr>\n",
       "    <tr>\n",
       "      <th>91</th>\n",
       "      <td>Xu Hang</td>\n",
       "      <td>54.0</td>\n",
       "      <td>Hong Kong</td>\n",
       "    </tr>\n",
       "    <tr>\n",
       "      <th>83</th>\n",
       "      <td>Stefan Persson</td>\n",
       "      <td>73.0</td>\n",
       "      <td>Sweden</td>\n",
       "    </tr>\n",
       "    <tr>\n",
       "      <th>1668</th>\n",
       "      <td>Julian Baker</td>\n",
       "      <td>54.0</td>\n",
       "      <td>United States</td>\n",
       "    </tr>\n",
       "    <tr>\n",
       "      <th>1212</th>\n",
       "      <td>Abilio dos Santos Diniz</td>\n",
       "      <td>84.0</td>\n",
       "      <td>Brazil</td>\n",
       "    </tr>\n",
       "    <tr>\n",
       "      <th>1285</th>\n",
       "      <td>Rodney Sacks</td>\n",
       "      <td>71.0</td>\n",
       "      <td>United States</td>\n",
       "    </tr>\n",
       "    <tr>\n",
       "      <th>1748</th>\n",
       "      <td>Anita Zucker</td>\n",
       "      <td>69.0</td>\n",
       "      <td>United States</td>\n",
       "    </tr>\n",
       "    <tr>\n",
       "      <th>1453</th>\n",
       "      <td>Chin Jong Hwa</td>\n",
       "      <td>62.0</td>\n",
       "      <td>Taiwan</td>\n",
       "    </tr>\n",
       "    <tr>\n",
       "      <th>1664</th>\n",
       "      <td>Aziz Akhannouch &amp; family</td>\n",
       "      <td>60.0</td>\n",
       "      <td>Morocco</td>\n",
       "    </tr>\n",
       "    <tr>\n",
       "      <th>147</th>\n",
       "      <td>Cheng Yixiao</td>\n",
       "      <td>37.0</td>\n",
       "      <td>China</td>\n",
       "    </tr>\n",
       "    <tr>\n",
       "      <th>330</th>\n",
       "      <td>David Green &amp; family</td>\n",
       "      <td>79.0</td>\n",
       "      <td>United States</td>\n",
       "    </tr>\n",
       "    <tr>\n",
       "      <th>1302</th>\n",
       "      <td>David Chen</td>\n",
       "      <td>40.0</td>\n",
       "      <td>Singapore</td>\n",
       "    </tr>\n",
       "    <tr>\n",
       "      <th>2011</th>\n",
       "      <td>Tran Ba Duong &amp; family</td>\n",
       "      <td>61.0</td>\n",
       "      <td>Vietnam</td>\n",
       "    </tr>\n",
       "    <tr>\n",
       "      <th>1017</th>\n",
       "      <td>Gan Zhongru</td>\n",
       "      <td>72.0</td>\n",
       "      <td>China</td>\n",
       "    </tr>\n",
       "    <tr>\n",
       "      <th>1589</th>\n",
       "      <td>Dai Wenjun</td>\n",
       "      <td>52.0</td>\n",
       "      <td>China</td>\n",
       "    </tr>\n",
       "    <tr>\n",
       "      <th>755</th>\n",
       "      <td>Rakesh Gangwal</td>\n",
       "      <td>67.0</td>\n",
       "      <td>United States</td>\n",
       "    </tr>\n",
       "    <tr>\n",
       "      <th>870</th>\n",
       "      <td>Lim Wee Chai</td>\n",
       "      <td>63.0</td>\n",
       "      <td>Malaysia</td>\n",
       "    </tr>\n",
       "    <tr>\n",
       "      <th>1465</th>\n",
       "      <td>Gerry Harvey</td>\n",
       "      <td>81.0</td>\n",
       "      <td>Australia</td>\n",
       "    </tr>\n",
       "    <tr>\n",
       "      <th>2099</th>\n",
       "      <td>P.V.Krishna Reddy</td>\n",
       "      <td>51.0</td>\n",
       "      <td>India</td>\n",
       "    </tr>\n",
       "    <tr>\n",
       "      <th>1997</th>\n",
       "      <td>P.P. Reddy</td>\n",
       "      <td>63.0</td>\n",
       "      <td>India</td>\n",
       "    </tr>\n",
       "    <tr>\n",
       "      <th>2701</th>\n",
       "      <td>David Katzman</td>\n",
       "      <td>61.0</td>\n",
       "      <td>United States</td>\n",
       "    </tr>\n",
       "    <tr>\n",
       "      <th>2010</th>\n",
       "      <td>Clemens Toennies</td>\n",
       "      <td>64.0</td>\n",
       "      <td>Germany</td>\n",
       "    </tr>\n",
       "    <tr>\n",
       "      <th>1045</th>\n",
       "      <td>Eddy Kusnadi Sariaatmadja</td>\n",
       "      <td>67.0</td>\n",
       "      <td>Indonesia</td>\n",
       "    </tr>\n",
       "    <tr>\n",
       "      <th>45</th>\n",
       "      <td>Len Blavatnik</td>\n",
       "      <td>63.0</td>\n",
       "      <td>United States</td>\n",
       "    </tr>\n",
       "    <tr>\n",
       "      <th>1743</th>\n",
       "      <td>Yu Huijiao</td>\n",
       "      <td>55.0</td>\n",
       "      <td>China</td>\n",
       "    </tr>\n",
       "    <tr>\n",
       "      <th>1603</th>\n",
       "      <td>Bahaa Hariri</td>\n",
       "      <td>54.0</td>\n",
       "      <td>Lebanon</td>\n",
       "    </tr>\n",
       "    <tr>\n",
       "      <th>1043</th>\n",
       "      <td>Haim Saban</td>\n",
       "      <td>76.0</td>\n",
       "      <td>United States</td>\n",
       "    </tr>\n",
       "    <tr>\n",
       "      <th>2588</th>\n",
       "      <td>Norma Lerner</td>\n",
       "      <td>85.0</td>\n",
       "      <td>United States</td>\n",
       "    </tr>\n",
       "    <tr>\n",
       "      <th>2743</th>\n",
       "      <td>Sandy Weill</td>\n",
       "      <td>88.0</td>\n",
       "      <td>United States</td>\n",
       "    </tr>\n",
       "    <tr>\n",
       "      <th>1062</th>\n",
       "      <td>Zhu Xingming</td>\n",
       "      <td>54.0</td>\n",
       "      <td>China</td>\n",
       "    </tr>\n",
       "    <tr>\n",
       "      <th>2585</th>\n",
       "      <td>Lee Joong-keun</td>\n",
       "      <td>80.0</td>\n",
       "      <td>South Korea</td>\n",
       "    </tr>\n",
       "  </tbody>\n",
       "</table>\n",
       "</div>"
      ],
      "text/plain": [
       "                           Name   Age        Country\n",
       "1796     Roberto Irineu Marinho  73.0         Brazil\n",
       "222        Larry Xiangdong Chen  49.0          China\n",
       "690                Ray Lee Hunt  78.0  United States\n",
       "1683          Francois Feuillet  72.0         France\n",
       "2176                Jitse Groen  42.0    Netherlands\n",
       "1941                Chen Xuehua  60.0          China\n",
       "2628                    Su Rubo  66.0          China\n",
       "552             Gustavo Denegri  84.0          Italy\n",
       "1376      Edward DeBartolo, Jr.  74.0  United States\n",
       "2116               Kenny Troutt  73.0  United States\n",
       "91                      Xu Hang  54.0      Hong Kong\n",
       "83               Stefan Persson  73.0         Sweden\n",
       "1668               Julian Baker  54.0  United States\n",
       "1212    Abilio dos Santos Diniz  84.0         Brazil\n",
       "1285               Rodney Sacks  71.0  United States\n",
       "1748               Anita Zucker  69.0  United States\n",
       "1453              Chin Jong Hwa  62.0         Taiwan\n",
       "1664   Aziz Akhannouch & family  60.0        Morocco\n",
       "147                Cheng Yixiao  37.0          China\n",
       "330        David Green & family  79.0  United States\n",
       "1302                 David Chen  40.0      Singapore\n",
       "2011     Tran Ba Duong & family  61.0        Vietnam\n",
       "1017                Gan Zhongru  72.0          China\n",
       "1589                 Dai Wenjun  52.0          China\n",
       "755              Rakesh Gangwal  67.0  United States\n",
       "870                Lim Wee Chai  63.0       Malaysia\n",
       "1465               Gerry Harvey  81.0      Australia\n",
       "2099          P.V.Krishna Reddy  51.0          India\n",
       "1997                 P.P. Reddy  63.0          India\n",
       "2701              David Katzman  61.0  United States\n",
       "2010           Clemens Toennies  64.0        Germany\n",
       "1045  Eddy Kusnadi Sariaatmadja  67.0      Indonesia\n",
       "45                Len Blavatnik  63.0  United States\n",
       "1743                 Yu Huijiao  55.0          China\n",
       "1603               Bahaa Hariri  54.0        Lebanon\n",
       "1043                 Haim Saban  76.0  United States\n",
       "2588               Norma Lerner  85.0  United States\n",
       "2743                Sandy Weill  88.0  United States\n",
       "1062               Zhu Xingming  54.0          China\n",
       "2585             Lee Joong-keun  80.0    South Korea"
      ]
     },
     "execution_count": 302,
     "metadata": {},
     "output_type": "execute_result"
    }
   ],
   "source": [
    "sample2 = df_non_tech['Name'].sample(40, random_state=100,replace=False)\n",
    "sample_ii = df_non_tech['Age'].sample(40, random_state=100,replace=False)\n",
    "sample_i_3 = df_non_tech['Country'].sample(40, random_state=100,replace=False)\n",
    "sample_of_40_non_tech_billionairs = pd.DataFrame({'Name':sample2,'Age' : sample_ii,'Country' : sample_i_3})\n",
    "sample_of_40_non_tech_billionairs"
   ]
  },
  {
   "cell_type": "markdown",
   "metadata": {},
   "source": [
    "### 3.2. Sample Means and Standard Deviations\n",
    "\n",
    "Next, for each of your two random samples, calculate the mean and standard deviation of the ages."
   ]
  },
  {
   "cell_type": "code",
   "execution_count": 303,
   "metadata": {},
   "outputs": [
    {
     "data": {
      "text/plain": [
       "57.96551724137931"
      ]
     },
     "execution_count": 303,
     "metadata": {},
     "output_type": "execute_result"
    }
   ],
   "source": [
    "tech_sample_mean = sample_of_31_tech_billionairs['Age'].mean()\n",
    "tech_sample_mean"
   ]
  },
  {
   "cell_type": "code",
   "execution_count": 304,
   "metadata": {},
   "outputs": [
    {
     "data": {
      "text/plain": [
       "12.445546416922141"
      ]
     },
     "execution_count": 304,
     "metadata": {},
     "output_type": "execute_result"
    }
   ],
   "source": [
    "tech_sample_std = sample_of_31_tech_billionairs['Age'].std()\n",
    "tech_sample_std"
   ]
  },
  {
   "cell_type": "code",
   "execution_count": 305,
   "metadata": {},
   "outputs": [
    {
     "data": {
      "text/plain": [
       "65.275"
      ]
     },
     "execution_count": 305,
     "metadata": {},
     "output_type": "execute_result"
    }
   ],
   "source": [
    "non_tech_sample_mean = sample_of_40_non_tech_billionairs['Age'].mean()\n",
    "non_tech_sample_mean"
   ]
  },
  {
   "cell_type": "code",
   "execution_count": 306,
   "metadata": {},
   "outputs": [
    {
     "data": {
      "text/plain": [
       "12.703699239157638"
      ]
     },
     "execution_count": 306,
     "metadata": {},
     "output_type": "execute_result"
    }
   ],
   "source": [
    "non_tech_sample_std = sample_of_40_non_tech_billionairs['Age'].std()\n",
    "non_tech_sample_std"
   ]
  },
  {
   "cell_type": "markdown",
   "metadata": {},
   "source": [
    "### 3.3. Sample Proportions\n",
    "\n",
    "Next, for each of your two random samples, calculate the proportion of billionaires in the respective population that live in the United States."
   ]
  },
  {
   "cell_type": "code",
   "execution_count": 307,
   "metadata": {},
   "outputs": [
    {
     "data": {
      "text/plain": [
       "0.4838709677419355"
      ]
     },
     "execution_count": 307,
     "metadata": {},
     "output_type": "execute_result"
    }
   ],
   "source": [
    "sample_prop_of_tech_in_US = len(sample_of_31_tech_billionairs[sample_of_31_tech_billionairs.Country == \"United States\"])/len(sample_of_31_tech_billionairs)\n",
    "sample_prop_of_tech_in_US "
   ]
  },
  {
   "cell_type": "code",
   "execution_count": 308,
   "metadata": {},
   "outputs": [
    {
     "data": {
      "text/plain": [
       "0.325"
      ]
     },
     "execution_count": 308,
     "metadata": {},
     "output_type": "execute_result"
    }
   ],
   "source": [
    "sample_prop_of_non_tech_in_US = len(sample_of_40_non_tech_billionairs[sample_of_40_non_tech_billionairs.Country == \"United States\"])/len(sample_of_40_non_tech_billionairs)\n",
    "sample_prop_of_non_tech_in_US"
   ]
  },
  {
   "cell_type": "markdown",
   "metadata": {},
   "source": [
    "## 4. *Theoretical* Sampling Distribution of Sample Mean Differences\n",
    "\n",
    "Suppose we were to *theoretically* construct a sampling distribution of sample mean differences, where:\n",
    "* each of our random samples of tech billionaires from the population were all of size 31\n",
    "* each of our random samples of non-tech billionaires from the population were all of size 40\n",
    "\n",
    "Suppose that our sampling distribution was thus comprised of many, many sample mean age difference values (ie. values for $\\bar{x}_{tech}-\\bar{x}_{nontech}$).\n",
    "\n",
    "(Don't actually make this sampling distribution (you will do this in the group lab).\n"
   ]
  },
  {
   "cell_type": "markdown",
   "metadata": {},
   "source": [
    "### 4.1. Sampling Distribution Mean\n",
    "\n",
    "What would be the mean of this theoretical sampling distribution?"
   ]
  },
  {
   "cell_type": "code",
   "execution_count": 309,
   "metadata": {},
   "outputs": [
    {
     "data": {
      "text/plain": [
       "7.309482758620696"
      ]
     },
     "execution_count": 309,
     "metadata": {},
     "output_type": "execute_result"
    }
   ],
   "source": [
    "theoretical_mean = non_tech_sample_mean - tech_sample_mean\n",
    "theoretical_mean"
   ]
  },
  {
   "cell_type": "markdown",
   "metadata": {},
   "source": [
    "### 4.2. Sampling Distribution Standard Deviation\n",
    "\n",
    "What would be the standard deviation of this theoretical sampling distribution?"
   ]
  },
  {
   "cell_type": "code",
   "execution_count": 310,
   "metadata": {},
   "outputs": [
    {
     "data": {
      "text/plain": [
       "3.0051794307654514"
      ]
     },
     "execution_count": 310,
     "metadata": {},
     "output_type": "execute_result"
    }
   ],
   "source": [
    "theoretical_std = math.sqrt(((((tech_sample_std)**2)/31) + (((non_tech_sample_std)**2)/40)))\n",
    "theoretical_std"
   ]
  },
  {
   "cell_type": "markdown",
   "metadata": {},
   "source": [
    "### 4.3. Normality of Sampling Distribution\n",
    "\n",
    "Would this sampling distribution be approximately normal? Why or why not?"
   ]
  },
  {
   "cell_type": "markdown",
   "metadata": {},
   "source": [
    "* sample 1 is rand selected\n",
    "* n1 < 10 % of pop of billionairs\n",
    "* n1 = 31 > 30\n",
    "* sample 2 is rand selected\n",
    "* n2 = 40 > 30\n",
    "* observations in sample of tech and non-tech are independent of each other. \n",
    "* All conditions are met, therfore the sampling distrobution is approximatly normal."
   ]
  },
  {
   "cell_type": "markdown",
   "metadata": {},
   "source": [
    "### 4.4. Z-score of a Sample Mean Difference\n",
    "\n",
    "Using the two sample means $\\bar{x}_{tech}$ and $\\bar{x}_{nontech}$ that you calculated in 3.2, calculate the z-score of $(\\bar{x}_{tech} - \\bar{x}_{nontech})$"
   ]
  },
  {
   "cell_type": "code",
   "execution_count": 311,
   "metadata": {},
   "outputs": [
    {
     "data": {
      "text/plain": [
       "5.608879252311868"
      ]
     },
     "execution_count": 311,
     "metadata": {},
     "output_type": "execute_result"
    }
   ],
   "source": [
    "mu_diff = tech_pop_age_mean - non_tech_pop_age_mean\n",
    "z_score_means = (theoretical_mean - mu_diff) / theoretical_std\n",
    "z_score_means"
   ]
  },
  {
   "cell_type": "markdown",
   "metadata": {},
   "source": [
    "### 4.5. t-score of a Sample Mean Difference\n",
    "\n",
    "Using the two samples means $\\bar{x}_{tech}$ and $\\bar{x}_{nontech}$ that you calculated in 3.2, calculate the t-score of $(\\bar{x}_{tech} - \\bar{x}_{nontech})$."
   ]
  },
  {
   "cell_type": "code",
   "execution_count": 312,
   "metadata": {},
   "outputs": [
    {
     "data": {
      "text/plain": [
       "0.7305300605144801"
      ]
     },
     "execution_count": 312,
     "metadata": {},
     "output_type": "execute_result"
    }
   ],
   "source": [
    "t_score_means = ((tech_sample_mean - non_tech_sample_mean) - (tech_pop_age_mean - non_tech_pop_age_mean))/ (math.sqrt(((((tech_pop_age_std)**2)/31) + (((non_tech_pop_age_std)**2)/40))))\n",
    "t_score_means"
   ]
  },
  {
   "cell_type": "markdown",
   "metadata": {},
   "source": [
    "## 5. *Theoretical* Sampling Distribution of Sample Proportion Differences\n",
    "\n",
    "Suppose we were to *theoretically* construct a sampling distribution of sample prooprtion differences, where:\n",
    "* each of our random samples of tech billionaires from the population were all of size 31\n",
    "* each of our random samples of non-tech billionaires from the population were all of size 40\n",
    "\n",
    "Suppose that our sampling distribution was thus comprised of many, many sample proportion difference values (ie. values for $\\hat{p}_{tech}-\\hat{p}_{nontech}$).\n",
    "\n",
    "(Don't actually make this sampling distribution (you will do this in the group lab).\n"
   ]
  },
  {
   "cell_type": "markdown",
   "metadata": {},
   "source": [
    "### 5.1. Sampling Distribution Mean\n",
    "\n",
    "What would be the mean of this theoretical sampling distribution?"
   ]
  },
  {
   "cell_type": "code",
   "execution_count": 313,
   "metadata": {},
   "outputs": [
    {
     "data": {
      "text/plain": [
       "0.1588709677419355"
      ]
     },
     "execution_count": 313,
     "metadata": {},
     "output_type": "execute_result"
    }
   ],
   "source": [
    "prop_diff = sample_prop_of_tech_in_US - sample_prop_of_non_tech_in_US\n",
    "prop_diff"
   ]
  },
  {
   "cell_type": "markdown",
   "metadata": {},
   "source": [
    "### 5.2. Sampling Distribution Standard Deviation\n",
    "\n",
    "What would be the standard deviation of this theoretical sampling distribution?"
   ]
  },
  {
   "cell_type": "code",
   "execution_count": 314,
   "metadata": {},
   "outputs": [
    {
     "data": {
      "text/plain": [
       "0.11636365125266655"
      ]
     },
     "execution_count": 314,
     "metadata": {},
     "output_type": "execute_result"
    }
   ],
   "source": [
    "p1 = sample_prop_of_tech_in_US\n",
    "p2 = sample_prop_of_non_tech_in_US\n",
    "\n",
    "theoretical_prop_std= math.sqrt(((p1*(1-p1))/31) + ((p2*(1-p2))/40))\n",
    "theoretical_prop_std"
   ]
  },
  {
   "cell_type": "markdown",
   "metadata": {},
   "source": [
    "### 5.3. Normality of Sampling Distribution\n",
    "\n",
    "Would this sampling distribution be approximately normal? Why or why not?"
   ]
  },
  {
   "cell_type": "markdown",
   "metadata": {},
   "source": [
    "* sample 1 is rand selected\n",
    "* n1 < 10 % of pop of billionairs\n",
    "* n1 = 31 > 30\n",
    "* sample 2 is rand selected\n",
    "* n2 = 40 > 30\n",
    "* observations in sample of tech and non-tech are independent of each other. \n",
    "* All conditions are met, therfore the sampling distrobution is approximatly normal."
   ]
  },
  {
   "cell_type": "markdown",
   "metadata": {},
   "source": [
    "### 5.4. Z-score of a Sample Proportion Difference\n",
    "\n",
    "Using the two sample proportions $\\hat{p}_{tech}$ and $\\hat{p}_{nontech}$ that you calculated in 3.3, calculate the z-score of $(\\hat{p}_{tech}-\\hat{p}_{nontech})$"
   ]
  },
  {
   "cell_type": "code",
   "execution_count": 315,
   "metadata": {},
   "outputs": [],
   "source": [
    "theor_prop_diff = sample_prop_of_tech_in_US - sample_prop_of_non_tech_in_US\n",
    "actual_dif_in_pop = prop_of_tech_in_US - prop_of_non_tech_in_US"
   ]
  },
  {
   "cell_type": "code",
   "execution_count": 316,
   "metadata": {},
   "outputs": [
    {
     "data": {
      "text/plain": [
       "2.7502788783065895"
      ]
     },
     "execution_count": 316,
     "metadata": {},
     "output_type": "execute_result"
    }
   ],
   "source": [
    "z_score_prop = (theor_prop_diff - actual_dif_in_pop ) / theoretical_prop_std\n",
    "z_score_prop"
   ]
  },
  {
   "cell_type": "markdown",
   "metadata": {},
   "source": [
    "## 6. Inference for the Difference Between Two Population Means\n",
    "\n",
    "Next, we would like to use our random samples to determine if there is an association between the age of ALL 2021 billionaires and whether or not they work in tech. To test this, we would like to determine if our random samples from #3 provide sufficient evidence to suggest that the average of ALL 2021 tech billionaires is different than the average age of ALL 2021 non-tech billionaires (ie. is $\\mu_{tech}-\\mu_{nontech}\\neq 0$?).\n",
    "\n",
    "**Note:** At this point, we will not assume to know anything about our population from #2 (like the populations means or standard deviations)."
   ]
  },
  {
   "cell_type": "markdown",
   "metadata": {},
   "source": [
    "### 6.1. Hypotheses\n",
    "\n",
    "Set up your hypotheses for this test."
   ]
  },
  {
   "cell_type": "markdown",
   "metadata": {},
   "source": [
    "Ho: Their is no difference in the average age of all 2021 tech and non-tech billinoirs, $\\mu_{tech}-\\mu_{nontech} = 0$\n",
    "\n",
    "\n",
    "Ha: There is a difference in the average age of all 2021 tech and non-tech billinoirs, $\\mu_{tech}-\\mu_{nontech}\\neq 0$"
   ]
  },
  {
   "cell_type": "markdown",
   "metadata": {},
   "source": [
    "### 6.2. Conditions for Inference\n",
    "\n",
    "Next, check the conditions for conducting inference on $\\mu_{tech}-\\mu_{nontech}$ below. (Even if you find that your conditions are not all met, you should still \"proceed with caution\" and complete the rest of the questions below)."
   ]
  },
  {
   "cell_type": "markdown",
   "metadata": {},
   "source": [
    "* sample 1 (tech billionairs) is randomly selected from population 1 (tech billionairs)\n",
    "* n1 > 10% of all 2021 billionairs \n",
    "* n1 = 31 > 30\n",
    "* sample 2 (non-tech billionairs) is randomly selected from population 2 (non-tech billionairs)\n",
    "* n2 > 10% of all 2021 billionairs \n",
    "* n2 = 40 > 30 \n",
    "* observations in sample 1 and 2 are indepedent and drawn from different populations\n",
    "* all conditions are met"
   ]
  },
  {
   "cell_type": "markdown",
   "metadata": {},
   "source": [
    "### 6.3. Creating a 95% Confidence Interval\n",
    "\n",
    "Next, create a 95% confidence interval for $\\mu_{tech}-\\mu_{nontech}$. (You should assume that you do not know the population standard deviations (ie. $\\sigma_{tech}$ and $\\sigma_{nontech}$)."
   ]
  },
  {
   "cell_type": "code",
   "execution_count": 377,
   "metadata": {},
   "outputs": [],
   "source": [
    " point_estimate = tech_sample_mean - non_tech_sample_mean\n",
    " standard_error = math.sqrt((tech_sample_std/31) + (non_tech_sample_std/40))\n",
    " critical_value = norm.ppf(0.95)\n"
   ]
  },
  {
   "cell_type": "code",
   "execution_count": 378,
   "metadata": {},
   "outputs": [],
   "source": [
    "upper_bound = point_estimate + (critical_value*standard_error)\n",
    "lower_bound = point_estimate - (critical_value*standard_error)"
   ]
  },
  {
   "cell_type": "code",
   "execution_count": 379,
   "metadata": {},
   "outputs": [],
   "source": [
    "def CI(lower,upper) :\n",
    "    return [lower,upper]"
   ]
  },
  {
   "cell_type": "code",
   "execution_count": 380,
   "metadata": {},
   "outputs": [
    {
     "data": {
      "text/plain": [
       "[-8.704277628940709, -5.9146878883006835]"
      ]
     },
     "execution_count": 380,
     "metadata": {},
     "output_type": "execute_result"
    }
   ],
   "source": [
    "resulting_CI = CI(lower_bound, upper_bound)\n",
    "resulting_CI"
   ]
  },
  {
   "cell_type": "markdown",
   "metadata": {},
   "source": [
    "### 6.4. Interpreting the Confidence Interval\n",
    "\n",
    "Put your 95% confidence interval into words."
   ]
  },
  {
   "cell_type": "markdown",
   "metadata": {},
   "source": [
    "i am 95 percent confident that the mean difference between tech-billionair ages and non-tech billionair is within the confidence interval range between [-9.643617276628076, -4.975348240613316]"
   ]
  },
  {
   "cell_type": "markdown",
   "metadata": {},
   "source": [
    "### 6.5. More Interpretation\n",
    "\n",
    "Suppose we were collect 1000 *pairs* of random samples of tech billionaires (always of size 31) and non-tech billionaires (always of size 40). For each of these random samples, we create a 95% confidence interval for $\\mu_{tech}-\\mu_{nontech}$. How many of these 1000 confidence intervals would we expect to *actually* contain $\\mu_{tech}-\\mu_{nontech}$?"
   ]
  },
  {
   "cell_type": "markdown",
   "metadata": {},
   "source": [
    "950 of them would contain the actuall mean difference. "
   ]
  },
  {
   "cell_type": "markdown",
   "metadata": {},
   "source": [
    "### 6.6. Hypothesis Conclusion with a Confidence Interval\n",
    "\n",
    "Use your 95% confidence interval from above to make a conclusion about your hypotheses."
   ]
  },
  {
   "cell_type": "markdown",
   "metadata": {},
   "source": [
    "The confidence does not contain the value 0, meaning that their is not a chance that the the mean difference in ages among the non-tech and tech populations is 0. "
   ]
  },
  {
   "cell_type": "markdown",
   "metadata": {},
   "source": [
    "### 6.7. p-value\n",
    "\n",
    "We would also like to evaluate these hypotheses with a p-value as well. Calculate your p-value for this hypothesis test below.\n",
    "\n",
    "Again, you should assume that you do not know $\\sigma_{tech}$ and $\\sigma_{nontech}$."
   ]
  },
  {
   "cell_type": "code",
   "execution_count": 381,
   "metadata": {},
   "outputs": [
    {
     "data": {
      "text/plain": [
       "-2.432294951772278"
      ]
     },
     "execution_count": 381,
     "metadata": {},
     "output_type": "execute_result"
    }
   ],
   "source": [
    "((tech_sample_mean - non_tech_sample_mean) - 0)/ math.sqrt(((tech_sample_std)**2/31) + ((non_tech_sample_std**2)/40))"
   ]
  },
  {
   "cell_type": "code",
   "execution_count": 382,
   "metadata": {},
   "outputs": [],
   "source": [
    "#deg_free = min(31-1,40-1) = min(30)\n",
    "deg_free = 30"
   ]
  },
  {
   "cell_type": "code",
   "execution_count": 383,
   "metadata": {},
   "outputs": [
    {
     "data": {
      "text/plain": [
       "0.021182301649701918"
      ]
     },
     "execution_count": 383,
     "metadata": {},
     "output_type": "execute_result"
    }
   ],
   "source": [
    "pvalue = 2*(1-t.cdf(np.abs(2.432294951772278), df = deg_free))\n",
    "pvalue"
   ]
  },
  {
   "cell_type": "markdown",
   "metadata": {},
   "source": [
    "### 6.8 Conclusion with a p-value\n",
    "\n",
    "Using a significance level of $\\alpha=0.05$, use your p-value to make a conclusion about your hypotheses."
   ]
  },
  {
   "cell_type": "markdown",
   "metadata": {},
   "source": [
    "Since the p value of 0.0212 is < than 0.05, we have sufficient evidence to reject the null hypothesis and conclude the alternative, meaning that the mean difference between ages of tech vs non-tech billionaires is not 0 and is indeed different. "
   ]
  },
  {
   "cell_type": "markdown",
   "metadata": {},
   "source": [
    "## 7. Inference for the Difference Between Two Population Proportions\n",
    "\n",
    "Next, we would like to see if our random samples from #3 provide sufficient evidence to suggest that there is an association between whether or not a billionaire lives in the U.S. and whether or not they work in tech FOR ALL 2021 billionaires. To test this, we would like to determine our random samples from #3 provide sufficient evidence to suggest that the proportion of ALL 2021 tech billionaires that live in the U.S. is different than the proportion of ALL 2021 non-tech billionaires that live in the U.S. (ie. is $p_{tech}-p_{nontech}\\neq 0$?).\n",
    "\n",
    "**Note:** At this point, we will not assume to know anything about our population from #2 (like the populations proportions)."
   ]
  },
  {
   "cell_type": "markdown",
   "metadata": {},
   "source": [
    "### 7.1. Hypotheses\n",
    "\n",
    "Set up your hypotheses for this test."
   ]
  },
  {
   "cell_type": "markdown",
   "metadata": {},
   "source": [
    "* Ho : Ptech - Pnon-tech != 0 // the prop of non-tech and tech billionaires that live in the US IS NOT the same \n",
    "* Ha : Ptech - Pnon-tech = 0 // the prop of non-tech and tech billionaires that live in the US IS the same "
   ]
  },
  {
   "cell_type": "markdown",
   "metadata": {},
   "source": [
    "### 7.2. Conditions for Inference\n",
    "\n",
    "Next, check the conditions for conducting this hypothesis test on $p_{tech}-p_{nontech}$ below. (Even if you find that your conditions are not all met, you should still \"proceed with caution\" and complete the rest of the questions below)."
   ]
  },
  {
   "cell_type": "code",
   "execution_count": 384,
   "metadata": {},
   "outputs": [
    {
     "name": "stdout",
     "output_type": "stream",
     "text": [
      "15.0\n",
      "13.0\n"
     ]
    }
   ],
   "source": [
    "n1p1 = sample_prop_of_tech_in_US*31\n",
    "n2p2 = sample_prop_of_non_tech_in_US*40\n",
    "\n",
    "print(n1p1)\n",
    "print(n2p2)"
   ]
  },
  {
   "cell_type": "code",
   "execution_count": 385,
   "metadata": {},
   "outputs": [
    {
     "name": "stdout",
     "output_type": "stream",
     "text": [
      "16.0\n",
      "27.0\n"
     ]
    }
   ],
   "source": [
    "#n1(1-p1) \n",
    "second_cond_for_p1 = 31*(1-sample_prop_of_tech_in_US)\n",
    "\n",
    "#n2(1-p2) \n",
    "second_cond_for_p2 = 40*(1-sample_prop_of_non_tech_in_US)\n",
    "\n",
    "print(second_cond_for_p1)\n",
    "print(second_cond_for_p2)"
   ]
  },
  {
   "cell_type": "markdown",
   "metadata": {},
   "source": [
    "* sample 1 (tech billionairs) is randomly selected from population 1 (tech billionairs)\n",
    "* n1p1 < 10% of all 2021 billionairs \n",
    "* n1p1 = 15 >= 10\n",
    "* n1(1-p1) = 16 >= 10\n",
    "* sample 2 (non-tech billionairs) is randomly selected from population 2 (non-tech billionairs)\n",
    "* n2p2 < 10% of all 2021 billionairs \n",
    "* n2p2 = 13 >= 10\n",
    "* n2(1-p2)-27 = 27 >= 10\n",
    "\n",
    "* observations in sample 1 and 2 are indepedent and drawn from different populations\n",
    "* all conditions are met"
   ]
  },
  {
   "cell_type": "markdown",
   "metadata": {},
   "source": [
    "### 7.3. Creating a 99% Confidence Interval\n",
    "\n",
    "Next, create a 99% confidence interval for $p_{tech}-p_{nontech}$.\n",
    "\n",
    "You should not assume to know $p_{tech}$ and $p_{nontech}$ in your calculations."
   ]
  },
  {
   "cell_type": "code",
   "execution_count": 389,
   "metadata": {},
   "outputs": [],
   "source": [
    "point_estimate_99 = sample_prop_of_tech_in_US - sample_prop_of_non_tech_in_US\n",
    "critical_value_99 = norm.ppf(0.99)\n",
    "\n",
    "p_1 = sample_prop_of_tech_in_US\n",
    "p_2 = sample_prop_of_non_tech_in_US\n",
    "\n",
    "part_1 = (p_1*(1-p_1))/31 \n",
    "part_2 = (p_2*(1-p_2))/40\n",
    "\n",
    "standard_error_99 = math.sqrt(part_1 + part_2)\n"
   ]
  },
  {
   "cell_type": "code",
   "execution_count": 390,
   "metadata": {},
   "outputs": [],
   "source": [
    "upper_bound_99 = point_estimate_99 + (critical_value_99*standard_error_99)\n",
    "lower_bound_99 = point_estimate_99 - (critical_value_99*standard_error_99)"
   ]
  },
  {
   "cell_type": "code",
   "execution_count": 391,
   "metadata": {},
   "outputs": [
    {
     "data": {
      "text/plain": [
       "[-0.11183136496533519, 0.42957330044920616]"
      ]
     },
     "execution_count": 391,
     "metadata": {},
     "output_type": "execute_result"
    }
   ],
   "source": [
    "resulting_99CI = CI(lower_bound_99, upper_bound_99)\n",
    "resulting_99CI"
   ]
  },
  {
   "cell_type": "markdown",
   "metadata": {},
   "source": [
    "### 7.4. Interpreting the Confidence Interval\n",
    "\n",
    "Put your 99% confidence interval into words."
   ]
  },
  {
   "cell_type": "markdown",
   "metadata": {},
   "source": [
    "i am 99 percent confident that the population proportion of non_tech and tech billionaires is within the confidence interval range between [-0.14088179788493355, 0.4586237333688045]"
   ]
  },
  {
   "cell_type": "markdown",
   "metadata": {},
   "source": [
    "### 7.5. Hypothesis Conclusion with a Confidence Interval\n",
    "\n",
    "Use your 99% confidence interval from above to make a conclusion about your hypotheses."
   ]
  },
  {
   "cell_type": "markdown",
   "metadata": {},
   "source": [
    "Since 0 is inside of the confidence interval, we cannot suggest that the null hypothesis is false."
   ]
  },
  {
   "cell_type": "markdown",
   "metadata": {},
   "source": [
    "### 7.6. p-value\n",
    "\n",
    "We would also like to evaluate these hypotheses with a p-value as well. Calculate your p-value for this hypothesis test below.\n",
    "\n",
    "Again, you should assume that you do not know $p_{tech}$ and $p_{nontech}$."
   ]
  },
  {
   "cell_type": "code",
   "execution_count": 395,
   "metadata": {},
   "outputs": [],
   "source": [
    "z_score_99 = ((point_estimate_99) - 0) / (math.sqrt(part_1 + part_2))"
   ]
  },
  {
   "cell_type": "code",
   "execution_count": 398,
   "metadata": {},
   "outputs": [
    {
     "data": {
      "text/plain": [
       "0.1721596573169082"
      ]
     },
     "execution_count": 398,
     "metadata": {},
     "output_type": "execute_result"
    }
   ],
   "source": [
    "pval_99 = 2*(1-norm.cdf(np.abs(z_score_99)))\n",
    "pval_99"
   ]
  },
  {
   "cell_type": "markdown",
   "metadata": {},
   "source": [
    "### 7.7. Conclusion with a p-value\n",
    "\n",
    "Using a significance level of $\\alpha=0.01$, use your p-value to make a conclusion about your hypotheses."
   ]
  },
  {
   "cell_type": "markdown",
   "metadata": {},
   "source": [
    "Since the pvalue = 0.172 > 0.01, we fail to reject the null hypothesis. There is not sufficient evidence to suggest the alternative hypothesis or that there is an association betweeen tech and non-tech living in the United States. "
   ]
  }
 ],
 "metadata": {
  "kernelspec": {
   "display_name": "Python 3 (ipykernel)",
   "language": "python",
   "name": "python3"
  },
  "language_info": {
   "codemirror_mode": {
    "name": "ipython",
    "version": 3
   },
   "file_extension": ".py",
   "mimetype": "text/x-python",
   "name": "python",
   "nbconvert_exporter": "python",
   "pygments_lexer": "ipython3",
   "version": "3.9.12"
  }
 },
 "nbformat": 4,
 "nbformat_minor": 2
}
