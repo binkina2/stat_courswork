{
 "cells": [
  {
   "cell_type": "markdown",
   "metadata": {},
   "source": [
    "# Lab 11 - Group - Midterm 2 Review - [5 points] - Solutions\n",
    "\n"
   ]
  },
  {
   "cell_type": "markdown",
   "metadata": {},
   "source": [
    "## <u>Case Study</u>: Inference on a Population Proportion\n",
    "\n",
    "Suppose that a Calculus student is curious about the proportion of former Calculus students that got A's in the class that they are currently enrolled in (taught by Dr. Difficult). This class has had thousands of students enrolled in the past. The student collects a random sample of 40 former students who have taken the class and asks them if they got an A in the class (or not). 60% of the students in the sample got an A.\n",
    "\n",
    "This student also knows that the proportion of ALL students who took another Calculus class (taught by Dr. Eezee) and got an A was 0.80. The student would like to determine if there is evidence to suggest that the proportion of ALL students who have taken Dr. Difficult's class that get A's is *different* than the the proportion of ALL students who have taken Dr. Eezee's class that get A's.\n",
    "\n",
    "So we will be testing the following hypotheses below.\n",
    "\n",
    "$H_0: p=0.8$\n",
    "\n",
    "$H_A: p\\neq 0.8$,\n",
    "\n",
    "where $p=$ the proportion of all student's who have taken Dr. Difficult's class that got A's."
   ]
  },
  {
   "cell_type": "code",
   "execution_count": 1,
   "metadata": {},
   "outputs": [],
   "source": [
    "import pandas as pd\n",
    "import numpy as np\n",
    "import matplotlib.pyplot as plt\n",
    "\n",
    "from scipy.stats import bernoulli\n",
    "from scipy.stats import binom\n",
    "from scipy.stats import norm\n",
    "from scipy import stats\n",
    "from scipy.stats import t\n",
    "\n",
    "import statsmodels.api as sm\n",
    "import statsmodels.formula.api as smf\n",
    "\n",
    "import seaborn as sns; sns.set()\n",
    "from scipy.stats import f\n",
    "\n",
    "import math"
   ]
  },
  {
   "cell_type": "markdown",
   "metadata": {},
   "source": [
    "### Test Statistic\n",
    "\n",
    "First, we calculate the test statistic for this hypothesis test."
   ]
  },
  {
   "cell_type": "code",
   "execution_count": 2,
   "metadata": {},
   "outputs": [
    {
     "data": {
      "text/plain": [
       "-3.1622776601683804"
      ]
     },
     "execution_count": 2,
     "metadata": {},
     "output_type": "execute_result"
    }
   ],
   "source": [
    "n = 40\n",
    "\n",
    "#Test statitsic pieces\n",
    "point_estimate = 0.6\n",
    "null_value = 0.8\n",
    "standard_error = np.sqrt(null_value*(1-null_value)/n)\n",
    "\n",
    "#Test statistic\n",
    "test_stat = (point_estimate - null_value)/standard_error\n",
    "test_stat"
   ]
  },
  {
   "cell_type": "markdown",
   "metadata": {},
   "source": [
    "### p-value \n",
    "\n",
    "Then, we calculate the p-value for this hypothesis test."
   ]
  },
  {
   "cell_type": "code",
   "execution_count": 3,
   "metadata": {},
   "outputs": [
    {
     "data": {
      "text/plain": [
       "0.0015654022580025018"
      ]
     },
     "execution_count": 3,
     "metadata": {},
     "output_type": "execute_result"
    }
   ],
   "source": [
    "from scipy.stats import norm\n",
    "pvalue = 2*(1-norm.cdf(np.abs(test_stat)))\n",
    "pvalue"
   ]
  },
  {
   "cell_type": "markdown",
   "metadata": {},
   "source": [
    "###  Fill in the Blank Section [0.25 points for each number or letter blank]\n",
    "\n",
    "Write your answers below to the corresponding numbered (or lettered) blanks in the attached pdf in this folder."
   ]
  },
  {
   "cell_type": "markdown",
   "metadata": {},
   "source": [
    "1. sample proportions \n",
    "2. without \n",
    "3. sample proportion\n",
    "4. 0 \n",
    "5. 1\n",
    "6. CLT\n",
    "7. normal \n",
    "a. the sample is random\n",
    "b. n = 40 < all thoasands of students who were previously employeed. \n",
    "c. 40(0.8) = 32 and 40(0.2) = 8\n",
    "8. 3.1622776601683804\n",
    "9. alternative hypothesis is true\n",
    "10. 3.1622776601683804\n",
    "11. 0.8\n",
    "12. normal\n",
    "13. 0\n",
    "14. 1\n",
    "15. 0\n",
    "16. is\n",
    "17. does\n",
    "\n"
   ]
  }
 ],
 "metadata": {
  "kernelspec": {
   "display_name": "Python 3 (ipykernel)",
   "language": "python",
   "name": "python3"
  },
  "language_info": {
   "codemirror_mode": {
    "name": "ipython",
    "version": 3
   },
   "file_extension": ".py",
   "mimetype": "text/x-python",
   "name": "python",
   "nbconvert_exporter": "python",
   "pygments_lexer": "ipython3",
   "version": "3.9.12"
  }
 },
 "nbformat": 4,
 "nbformat_minor": 4
}
